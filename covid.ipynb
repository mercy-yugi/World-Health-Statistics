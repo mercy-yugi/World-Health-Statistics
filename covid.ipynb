{
 "cells": [
  {
   "cell_type": "code",
   "execution_count": 1,
   "metadata": {},
   "outputs": [],
   "source": [
    "import numpy as np\n",
    "import pandas as pd\n",
    "import plotly.express as px"
   ]
  },
  {
   "cell_type": "code",
   "execution_count": 3,
   "metadata": {},
   "outputs": [
    {
     "data": {
      "text/html": [
       "<div>\n",
       "<style scoped>\n",
       "    .dataframe tbody tr th:only-of-type {\n",
       "        vertical-align: middle;\n",
       "    }\n",
       "\n",
       "    .dataframe tbody tr th {\n",
       "        vertical-align: top;\n",
       "    }\n",
       "\n",
       "    .dataframe thead th {\n",
       "        text-align: right;\n",
       "    }\n",
       "</style>\n",
       "<table border=\"1\" class=\"dataframe\">\n",
       "  <thead>\n",
       "    <tr style=\"text-align: right;\">\n",
       "      <th></th>\n",
       "      <th>Country</th>\n",
       "      <th>Total Cases</th>\n",
       "      <th>Total Deaths</th>\n",
       "      <th>Total Recovered</th>\n",
       "      <th>Active Cases</th>\n",
       "      <th>Total Cases/1 mil population</th>\n",
       "      <th>Deaths/1 mil population</th>\n",
       "      <th>Total Tests</th>\n",
       "      <th>Tests/1 mil population</th>\n",
       "      <th>Population</th>\n",
       "    </tr>\n",
       "  </thead>\n",
       "  <tbody>\n",
       "    <tr>\n",
       "      <th>0</th>\n",
       "      <td>Algeria</td>\n",
       "      <td>218432</td>\n",
       "      <td>6276</td>\n",
       "      <td>150084.0</td>\n",
       "      <td>62072.0</td>\n",
       "      <td>4850</td>\n",
       "      <td>139</td>\n",
       "      <td>230861.0</td>\n",
       "      <td>5126.0</td>\n",
       "      <td>45035231</td>\n",
       "    </tr>\n",
       "    <tr>\n",
       "      <th>1</th>\n",
       "      <td>Angola</td>\n",
       "      <td>81593</td>\n",
       "      <td>1770</td>\n",
       "      <td>64533.0</td>\n",
       "      <td>15290.0</td>\n",
       "      <td>2372</td>\n",
       "      <td>51</td>\n",
       "      <td>1273800.0</td>\n",
       "      <td>37036.0</td>\n",
       "      <td>34393211</td>\n",
       "    </tr>\n",
       "    <tr>\n",
       "      <th>2</th>\n",
       "      <td>Benin</td>\n",
       "      <td>24935</td>\n",
       "      <td>161</td>\n",
       "      <td>24705.0</td>\n",
       "      <td>69.0</td>\n",
       "      <td>1979</td>\n",
       "      <td>13</td>\n",
       "      <td>604310.0</td>\n",
       "      <td>47970.0</td>\n",
       "      <td>12597689</td>\n",
       "    </tr>\n",
       "    <tr>\n",
       "      <th>3</th>\n",
       "      <td>Botswana</td>\n",
       "      <td>219509</td>\n",
       "      <td>2444</td>\n",
       "      <td>204811.0</td>\n",
       "      <td>12254.0</td>\n",
       "      <td>90608</td>\n",
       "      <td>1009</td>\n",
       "      <td>2026898.0</td>\n",
       "      <td>836655.0</td>\n",
       "      <td>2422621</td>\n",
       "    </tr>\n",
       "    <tr>\n",
       "      <th>4</th>\n",
       "      <td>Burkina Faso</td>\n",
       "      <td>17632</td>\n",
       "      <td>318</td>\n",
       "      <td>16619.0</td>\n",
       "      <td>695.0</td>\n",
       "      <td>810</td>\n",
       "      <td>15</td>\n",
       "      <td>239193.0</td>\n",
       "      <td>10992.0</td>\n",
       "      <td>21759662</td>\n",
       "    </tr>\n",
       "    <tr>\n",
       "      <th>5</th>\n",
       "      <td>Burundi</td>\n",
       "      <td>27366</td>\n",
       "      <td>38</td>\n",
       "      <td>773.0</td>\n",
       "      <td>26555.0</td>\n",
       "      <td>2203</td>\n",
       "      <td>3</td>\n",
       "      <td>345742.0</td>\n",
       "      <td>27838.0</td>\n",
       "      <td>12419778</td>\n",
       "    </tr>\n",
       "    <tr>\n",
       "      <th>6</th>\n",
       "      <td>Cabo Verde</td>\n",
       "      <td>41732</td>\n",
       "      <td>351</td>\n",
       "      <td>38291.0</td>\n",
       "      <td>3090.0</td>\n",
       "      <td>73859</td>\n",
       "      <td>621</td>\n",
       "      <td>392029.0</td>\n",
       "      <td>693827.0</td>\n",
       "      <td>565024</td>\n",
       "    </tr>\n",
       "    <tr>\n",
       "      <th>7</th>\n",
       "      <td>Cameroon</td>\n",
       "      <td>109367</td>\n",
       "      <td>1851</td>\n",
       "      <td>106050.0</td>\n",
       "      <td>1466.0</td>\n",
       "      <td>3972</td>\n",
       "      <td>67</td>\n",
       "      <td>1751774.0</td>\n",
       "      <td>63624.0</td>\n",
       "      <td>27533388</td>\n",
       "    </tr>\n",
       "    <tr>\n",
       "      <th>8</th>\n",
       "      <td>CAR</td>\n",
       "      <td>12163</td>\n",
       "      <td>101</td>\n",
       "      <td>6859.0</td>\n",
       "      <td>5203.0</td>\n",
       "      <td>2455</td>\n",
       "      <td>20</td>\n",
       "      <td>74519.0</td>\n",
       "      <td>15038.0</td>\n",
       "      <td>4955357</td>\n",
       "    </tr>\n",
       "    <tr>\n",
       "      <th>9</th>\n",
       "      <td>Chad</td>\n",
       "      <td>5701</td>\n",
       "      <td>181</td>\n",
       "      <td>4874.0</td>\n",
       "      <td>646.0</td>\n",
       "      <td>333</td>\n",
       "      <td>11</td>\n",
       "      <td>180347.0</td>\n",
       "      <td>10528.0</td>\n",
       "      <td>17129995</td>\n",
       "    </tr>\n",
       "    <tr>\n",
       "      <th>10</th>\n",
       "      <td>Comoros</td>\n",
       "      <td>6515</td>\n",
       "      <td>157</td>\n",
       "      <td>4709.0</td>\n",
       "      <td>1649.0</td>\n",
       "      <td>7261</td>\n",
       "      <td>175</td>\n",
       "      <td>NaN</td>\n",
       "      <td>NaN</td>\n",
       "      <td>897295</td>\n",
       "    </tr>\n",
       "    <tr>\n",
       "      <th>11</th>\n",
       "      <td>Congo</td>\n",
       "      <td>20089</td>\n",
       "      <td>367</td>\n",
       "      <td>12421.0</td>\n",
       "      <td>7301.0</td>\n",
       "      <td>3511</td>\n",
       "      <td>64</td>\n",
       "      <td>301494.0</td>\n",
       "      <td>52699.0</td>\n",
       "      <td>5721074</td>\n",
       "    </tr>\n",
       "    <tr>\n",
       "      <th>12</th>\n",
       "      <td>Djibouti</td>\n",
       "      <td>13656</td>\n",
       "      <td>189</td>\n",
       "      <td>13370.0</td>\n",
       "      <td>97.0</td>\n",
       "      <td>13528</td>\n",
       "      <td>187</td>\n",
       "      <td>258927.0</td>\n",
       "      <td>256492.0</td>\n",
       "      <td>1009494</td>\n",
       "    </tr>\n",
       "    <tr>\n",
       "      <th>13</th>\n",
       "      <td>DRC</td>\n",
       "      <td>74793</td>\n",
       "      <td>1205</td>\n",
       "      <td>50930.0</td>\n",
       "      <td>22658.0</td>\n",
       "      <td>799</td>\n",
       "      <td>13</td>\n",
       "      <td>846704.0</td>\n",
       "      <td>9043.0</td>\n",
       "      <td>93628356</td>\n",
       "    </tr>\n",
       "    <tr>\n",
       "      <th>14</th>\n",
       "      <td>Egypt</td>\n",
       "      <td>385575</td>\n",
       "      <td>21752</td>\n",
       "      <td>320563.0</td>\n",
       "      <td>43260.0</td>\n",
       "      <td>3664</td>\n",
       "      <td>207</td>\n",
       "      <td>3693367.0</td>\n",
       "      <td>35101.0</td>\n",
       "      <td>105220663</td>\n",
       "    </tr>\n",
       "    <tr>\n",
       "      <th>15</th>\n",
       "      <td>Equatorial Guinea</td>\n",
       "      <td>13710</td>\n",
       "      <td>175</td>\n",
       "      <td>13410.0</td>\n",
       "      <td>125.0</td>\n",
       "      <td>9315</td>\n",
       "      <td>119</td>\n",
       "      <td>263190.0</td>\n",
       "      <td>178820.0</td>\n",
       "      <td>1471815</td>\n",
       "    </tr>\n",
       "    <tr>\n",
       "      <th>16</th>\n",
       "      <td>Eritrea</td>\n",
       "      <td>8011</td>\n",
       "      <td>76</td>\n",
       "      <td>7746.0</td>\n",
       "      <td>189.0</td>\n",
       "      <td>2213</td>\n",
       "      <td>21</td>\n",
       "      <td>23693.0</td>\n",
       "      <td>6545.0</td>\n",
       "      <td>3619854</td>\n",
       "    </tr>\n",
       "    <tr>\n",
       "      <th>17</th>\n",
       "      <td>Eswatini</td>\n",
       "      <td>66109</td>\n",
       "      <td>1303</td>\n",
       "      <td>58767.0</td>\n",
       "      <td>6039.0</td>\n",
       "      <td>56113</td>\n",
       "      <td>1106</td>\n",
       "      <td>430321.0</td>\n",
       "      <td>365254.0</td>\n",
       "      <td>1178141</td>\n",
       "    </tr>\n",
       "    <tr>\n",
       "      <th>18</th>\n",
       "      <td>Ethiopia</td>\n",
       "      <td>420342</td>\n",
       "      <td>6937</td>\n",
       "      <td>355046.0</td>\n",
       "      <td>58359.0</td>\n",
       "      <td>3526</td>\n",
       "      <td>58</td>\n",
       "      <td>4112267.0</td>\n",
       "      <td>34493.0</td>\n",
       "      <td>119219377</td>\n",
       "    </tr>\n",
       "    <tr>\n",
       "      <th>19</th>\n",
       "      <td>Gabon</td>\n",
       "      <td>41798</td>\n",
       "      <td>288</td>\n",
       "      <td>37499.0</td>\n",
       "      <td>4011.0</td>\n",
       "      <td>18140</td>\n",
       "      <td>125</td>\n",
       "      <td>1488703.0</td>\n",
       "      <td>646074.0</td>\n",
       "      <td>2304231</td>\n",
       "    </tr>\n",
       "    <tr>\n",
       "      <th>20</th>\n",
       "      <td>Gambia</td>\n",
       "      <td>10170</td>\n",
       "      <td>343</td>\n",
       "      <td>9700.0</td>\n",
       "      <td>127.0</td>\n",
       "      <td>4039</td>\n",
       "      <td>136</td>\n",
       "      <td>132861.0</td>\n",
       "      <td>52762.0</td>\n",
       "      <td>2518100</td>\n",
       "    </tr>\n",
       "    <tr>\n",
       "      <th>21</th>\n",
       "      <td>Ghana</td>\n",
       "      <td>142986</td>\n",
       "      <td>1295</td>\n",
       "      <td>131473.0</td>\n",
       "      <td>10218.0</td>\n",
       "      <td>4462</td>\n",
       "      <td>40</td>\n",
       "      <td>2117923.0</td>\n",
       "      <td>66097.0</td>\n",
       "      <td>32042667</td>\n",
       "    </tr>\n",
       "    <tr>\n",
       "      <th>22</th>\n",
       "      <td>Guinea</td>\n",
       "      <td>32051</td>\n",
       "      <td>391</td>\n",
       "      <td>29823.0</td>\n",
       "      <td>1837.0</td>\n",
       "      <td>2345</td>\n",
       "      <td>29</td>\n",
       "      <td>571842.0</td>\n",
       "      <td>41847.0</td>\n",
       "      <td>13665037</td>\n",
       "    </tr>\n",
       "    <tr>\n",
       "      <th>23</th>\n",
       "      <td>Guinea-Bissau</td>\n",
       "      <td>6484</td>\n",
       "      <td>149</td>\n",
       "      <td>6302.0</td>\n",
       "      <td>33.0</td>\n",
       "      <td>3182</td>\n",
       "      <td>73</td>\n",
       "      <td>111394.0</td>\n",
       "      <td>54671.0</td>\n",
       "      <td>2037523</td>\n",
       "    </tr>\n",
       "    <tr>\n",
       "      <th>24</th>\n",
       "      <td>Ivory Coast</td>\n",
       "      <td>71004</td>\n",
       "      <td>714</td>\n",
       "      <td>61998.0</td>\n",
       "      <td>8292.0</td>\n",
       "      <td>2596</td>\n",
       "      <td>26</td>\n",
       "      <td>1233370.0</td>\n",
       "      <td>45088.0</td>\n",
       "      <td>27354475</td>\n",
       "    </tr>\n",
       "    <tr>\n",
       "      <th>25</th>\n",
       "      <td>Kenya</td>\n",
       "      <td>295028</td>\n",
       "      <td>5378</td>\n",
       "      <td>252281.0</td>\n",
       "      <td>37369.0</td>\n",
       "      <td>5312</td>\n",
       "      <td>97</td>\n",
       "      <td>3030272.0</td>\n",
       "      <td>54558.0</td>\n",
       "      <td>55541905</td>\n",
       "    </tr>\n",
       "    <tr>\n",
       "      <th>26</th>\n",
       "      <td>Lesotho</td>\n",
       "      <td>28408</td>\n",
       "      <td>665</td>\n",
       "      <td>15241.0</td>\n",
       "      <td>12502.0</td>\n",
       "      <td>13105</td>\n",
       "      <td>307</td>\n",
       "      <td>322581.0</td>\n",
       "      <td>148815.0</td>\n",
       "      <td>2167668</td>\n",
       "    </tr>\n",
       "    <tr>\n",
       "      <th>27</th>\n",
       "      <td>Liberia</td>\n",
       "      <td>6278</td>\n",
       "      <td>287</td>\n",
       "      <td>5535.0</td>\n",
       "      <td>456.0</td>\n",
       "      <td>1199</td>\n",
       "      <td>55</td>\n",
       "      <td>139824.0</td>\n",
       "      <td>26708.0</td>\n",
       "      <td>5235360</td>\n",
       "    </tr>\n",
       "    <tr>\n",
       "      <th>28</th>\n",
       "      <td>Libya</td>\n",
       "      <td>388734</td>\n",
       "      <td>5710</td>\n",
       "      <td>376278.0</td>\n",
       "      <td>6746.0</td>\n",
       "      <td>55446</td>\n",
       "      <td>814</td>\n",
       "      <td>2030092.0</td>\n",
       "      <td>289555.0</td>\n",
       "      <td>7011085</td>\n",
       "    </tr>\n",
       "    <tr>\n",
       "      <th>29</th>\n",
       "      <td>Madagascar</td>\n",
       "      <td>50279</td>\n",
       "      <td>1027</td>\n",
       "      <td>44708.0</td>\n",
       "      <td>4544.0</td>\n",
       "      <td>1749</td>\n",
       "      <td>36</td>\n",
       "      <td>320884.0</td>\n",
       "      <td>11159.0</td>\n",
       "      <td>28754808</td>\n",
       "    </tr>\n",
       "    <tr>\n",
       "      <th>30</th>\n",
       "      <td>Malawi</td>\n",
       "      <td>75075</td>\n",
       "      <td>2364</td>\n",
       "      <td>60145.0</td>\n",
       "      <td>12566.0</td>\n",
       "      <td>3779</td>\n",
       "      <td>119</td>\n",
       "      <td>487334.0</td>\n",
       "      <td>24528.0</td>\n",
       "      <td>19868632</td>\n",
       "    </tr>\n",
       "    <tr>\n",
       "      <th>31</th>\n",
       "      <td>Mali</td>\n",
       "      <td>21008</td>\n",
       "      <td>660</td>\n",
       "      <td>18735.0</td>\n",
       "      <td>1613.0</td>\n",
       "      <td>995</td>\n",
       "      <td>31</td>\n",
       "      <td>536074.0</td>\n",
       "      <td>25380.0</td>\n",
       "      <td>21122190</td>\n",
       "    </tr>\n",
       "    <tr>\n",
       "      <th>32</th>\n",
       "      <td>Mauritania</td>\n",
       "      <td>41473</td>\n",
       "      <td>866</td>\n",
       "      <td>39175.0</td>\n",
       "      <td>1432.0</td>\n",
       "      <td>8582</td>\n",
       "      <td>179</td>\n",
       "      <td>563459.0</td>\n",
       "      <td>116603.0</td>\n",
       "      <td>4832282</td>\n",
       "    </tr>\n",
       "    <tr>\n",
       "      <th>33</th>\n",
       "      <td>Mauritius</td>\n",
       "      <td>23493</td>\n",
       "      <td>762</td>\n",
       "      <td>21918.0</td>\n",
       "      <td>813.0</td>\n",
       "      <td>18427</td>\n",
       "      <td>598</td>\n",
       "      <td>358675.0</td>\n",
       "      <td>281330.0</td>\n",
       "      <td>1274928</td>\n",
       "    </tr>\n",
       "    <tr>\n",
       "      <th>34</th>\n",
       "      <td>Morocco</td>\n",
       "      <td>963092</td>\n",
       "      <td>14849</td>\n",
       "      <td>940193.0</td>\n",
       "      <td>8050.0</td>\n",
       "      <td>25638</td>\n",
       "      <td>395</td>\n",
       "      <td>10844159.0</td>\n",
       "      <td>288676.0</td>\n",
       "      <td>37565205</td>\n",
       "    </tr>\n",
       "    <tr>\n",
       "      <th>35</th>\n",
       "      <td>Mozambique</td>\n",
       "      <td>189080</td>\n",
       "      <td>2006</td>\n",
       "      <td>156570.0</td>\n",
       "      <td>30504.0</td>\n",
       "      <td>5806</td>\n",
       "      <td>62</td>\n",
       "      <td>1098922.0</td>\n",
       "      <td>33747.0</td>\n",
       "      <td>32563685</td>\n",
       "    </tr>\n",
       "    <tr>\n",
       "      <th>36</th>\n",
       "      <td>Namibia</td>\n",
       "      <td>147974</td>\n",
       "      <td>3633</td>\n",
       "      <td>131040.0</td>\n",
       "      <td>13301.0</td>\n",
       "      <td>56701</td>\n",
       "      <td>1392</td>\n",
       "      <td>869265.0</td>\n",
       "      <td>333087.0</td>\n",
       "      <td>2609721</td>\n",
       "    </tr>\n",
       "    <tr>\n",
       "      <th>37</th>\n",
       "      <td>Niger</td>\n",
       "      <td>7405</td>\n",
       "      <td>275</td>\n",
       "      <td>6926.0</td>\n",
       "      <td>204.0</td>\n",
       "      <td>290</td>\n",
       "      <td>11</td>\n",
       "      <td>203933.0</td>\n",
       "      <td>7993.0</td>\n",
       "      <td>25514702</td>\n",
       "    </tr>\n",
       "    <tr>\n",
       "      <th>38</th>\n",
       "      <td>Nigeria</td>\n",
       "      <td>241513</td>\n",
       "      <td>3030</td>\n",
       "      <td>214003.0</td>\n",
       "      <td>24480.0</td>\n",
       "      <td>1130</td>\n",
       "      <td>14</td>\n",
       "      <td>3823309.0</td>\n",
       "      <td>17885.0</td>\n",
       "      <td>213775190</td>\n",
       "    </tr>\n",
       "    <tr>\n",
       "      <th>39</th>\n",
       "      <td>Rwanda</td>\n",
       "      <td>111786</td>\n",
       "      <td>1350</td>\n",
       "      <td>45522.0</td>\n",
       "      <td>64914.0</td>\n",
       "      <td>8322</td>\n",
       "      <td>101</td>\n",
       "      <td>4010433.0</td>\n",
       "      <td>298572.0</td>\n",
       "      <td>13432051</td>\n",
       "    </tr>\n",
       "    <tr>\n",
       "      <th>40</th>\n",
       "      <td>Sao Tome and Principe</td>\n",
       "      <td>3897</td>\n",
       "      <td>57</td>\n",
       "      <td>3678.0</td>\n",
       "      <td>162.0</td>\n",
       "      <td>17301</td>\n",
       "      <td>253</td>\n",
       "      <td>29036.0</td>\n",
       "      <td>128909.0</td>\n",
       "      <td>225245</td>\n",
       "    </tr>\n",
       "    <tr>\n",
       "      <th>41</th>\n",
       "      <td>Senegal</td>\n",
       "      <td>75055</td>\n",
       "      <td>1890</td>\n",
       "      <td>72560.0</td>\n",
       "      <td>605.0</td>\n",
       "      <td>4313</td>\n",
       "      <td>109</td>\n",
       "      <td>919548.0</td>\n",
       "      <td>52838.0</td>\n",
       "      <td>17403248</td>\n",
       "    </tr>\n",
       "    <tr>\n",
       "      <th>42</th>\n",
       "      <td>Seychelles</td>\n",
       "      <td>24788</td>\n",
       "      <td>134</td>\n",
       "      <td>24033.0</td>\n",
       "      <td>621.0</td>\n",
       "      <td>249733</td>\n",
       "      <td>1350</td>\n",
       "      <td>NaN</td>\n",
       "      <td>NaN</td>\n",
       "      <td>99258</td>\n",
       "    </tr>\n",
       "    <tr>\n",
       "      <th>43</th>\n",
       "      <td>Sierra Leone</td>\n",
       "      <td>7064</td>\n",
       "      <td>123</td>\n",
       "      <td>NaN</td>\n",
       "      <td>NaN</td>\n",
       "      <td>859</td>\n",
       "      <td>15</td>\n",
       "      <td>259958.0</td>\n",
       "      <td>31627.0</td>\n",
       "      <td>8219525</td>\n",
       "    </tr>\n",
       "    <tr>\n",
       "      <th>44</th>\n",
       "      <td>Somalia</td>\n",
       "      <td>23532</td>\n",
       "      <td>1333</td>\n",
       "      <td>12948.0</td>\n",
       "      <td>9251.0</td>\n",
       "      <td>1421</td>\n",
       "      <td>81</td>\n",
       "      <td>391308.0</td>\n",
       "      <td>23636.0</td>\n",
       "      <td>16555680</td>\n",
       "    </tr>\n",
       "    <tr>\n",
       "      <th>45</th>\n",
       "      <td>South Africa</td>\n",
       "      <td>3458286</td>\n",
       "      <td>91145</td>\n",
       "      <td>3174037.0</td>\n",
       "      <td>193104.0</td>\n",
       "      <td>57230</td>\n",
       "      <td>1508</td>\n",
       "      <td>21231024.0</td>\n",
       "      <td>351347.0</td>\n",
       "      <td>60427541</td>\n",
       "    </tr>\n",
       "    <tr>\n",
       "      <th>46</th>\n",
       "      <td>South Sudan</td>\n",
       "      <td>15242</td>\n",
       "      <td>135</td>\n",
       "      <td>12934.0</td>\n",
       "      <td>2173.0</td>\n",
       "      <td>1338</td>\n",
       "      <td>12</td>\n",
       "      <td>297596.0</td>\n",
       "      <td>26128.0</td>\n",
       "      <td>11390103</td>\n",
       "    </tr>\n",
       "    <tr>\n",
       "      <th>47</th>\n",
       "      <td>Sudan</td>\n",
       "      <td>46518</td>\n",
       "      <td>3331</td>\n",
       "      <td>38714.0</td>\n",
       "      <td>4473.0</td>\n",
       "      <td>1025</td>\n",
       "      <td>73</td>\n",
       "      <td>562941.0</td>\n",
       "      <td>12405.0</td>\n",
       "      <td>45379547</td>\n",
       "    </tr>\n",
       "    <tr>\n",
       "      <th>48</th>\n",
       "      <td>Tanzania</td>\n",
       "      <td>29306</td>\n",
       "      <td>737</td>\n",
       "      <td>NaN</td>\n",
       "      <td>NaN</td>\n",
       "      <td>471</td>\n",
       "      <td>12</td>\n",
       "      <td>NaN</td>\n",
       "      <td>NaN</td>\n",
       "      <td>62276038</td>\n",
       "    </tr>\n",
       "    <tr>\n",
       "      <th>49</th>\n",
       "      <td>Togo</td>\n",
       "      <td>30163</td>\n",
       "      <td>248</td>\n",
       "      <td>26134.0</td>\n",
       "      <td>3781.0</td>\n",
       "      <td>3520</td>\n",
       "      <td>29</td>\n",
       "      <td>615334.0</td>\n",
       "      <td>71812.0</td>\n",
       "      <td>8568738</td>\n",
       "    </tr>\n",
       "    <tr>\n",
       "      <th>50</th>\n",
       "      <td>Tunisia</td>\n",
       "      <td>726706</td>\n",
       "      <td>25569</td>\n",
       "      <td>696315.0</td>\n",
       "      <td>4822.0</td>\n",
       "      <td>60540</td>\n",
       "      <td>2130</td>\n",
       "      <td>3373554.0</td>\n",
       "      <td>281043.0</td>\n",
       "      <td>12003688</td>\n",
       "    </tr>\n",
       "    <tr>\n",
       "      <th>51</th>\n",
       "      <td>Uganda</td>\n",
       "      <td>140737</td>\n",
       "      <td>3294</td>\n",
       "      <td>98397.0</td>\n",
       "      <td>39046.0</td>\n",
       "      <td>2938</td>\n",
       "      <td>69</td>\n",
       "      <td>2143822.0</td>\n",
       "      <td>44758.0</td>\n",
       "      <td>47898392</td>\n",
       "    </tr>\n",
       "    <tr>\n",
       "      <th>52</th>\n",
       "      <td>Zambia</td>\n",
       "      <td>254274</td>\n",
       "      <td>3734</td>\n",
       "      <td>219794.0</td>\n",
       "      <td>30746.0</td>\n",
       "      <td>13276</td>\n",
       "      <td>195</td>\n",
       "      <td>2959116.0</td>\n",
       "      <td>154498.0</td>\n",
       "      <td>19153152</td>\n",
       "    </tr>\n",
       "    <tr>\n",
       "      <th>53</th>\n",
       "      <td>Zimbabwe</td>\n",
       "      <td>213258</td>\n",
       "      <td>5004</td>\n",
       "      <td>180570.0</td>\n",
       "      <td>27684.0</td>\n",
       "      <td>14043</td>\n",
       "      <td>330</td>\n",
       "      <td>1842694.0</td>\n",
       "      <td>121337.0</td>\n",
       "      <td>15186601</td>\n",
       "    </tr>\n",
       "  </tbody>\n",
       "</table>\n",
       "</div>"
      ],
      "text/plain": [
       "                  Country  Total Cases  Total Deaths  Total Recovered  \\\n",
       "0                 Algeria       218432          6276         150084.0   \n",
       "1                  Angola        81593          1770          64533.0   \n",
       "2                   Benin        24935           161          24705.0   \n",
       "3                Botswana       219509          2444         204811.0   \n",
       "4            Burkina Faso        17632           318          16619.0   \n",
       "5                 Burundi        27366            38            773.0   \n",
       "6              Cabo Verde        41732           351          38291.0   \n",
       "7                Cameroon       109367          1851         106050.0   \n",
       "8                     CAR        12163           101           6859.0   \n",
       "9                    Chad         5701           181           4874.0   \n",
       "10                Comoros         6515           157           4709.0   \n",
       "11                  Congo        20089           367          12421.0   \n",
       "12               Djibouti        13656           189          13370.0   \n",
       "13                    DRC        74793          1205          50930.0   \n",
       "14                  Egypt       385575         21752         320563.0   \n",
       "15      Equatorial Guinea        13710           175          13410.0   \n",
       "16                Eritrea         8011            76           7746.0   \n",
       "17               Eswatini        66109          1303          58767.0   \n",
       "18               Ethiopia       420342          6937         355046.0   \n",
       "19                  Gabon        41798           288          37499.0   \n",
       "20                 Gambia        10170           343           9700.0   \n",
       "21                  Ghana       142986          1295         131473.0   \n",
       "22                 Guinea        32051           391          29823.0   \n",
       "23          Guinea-Bissau         6484           149           6302.0   \n",
       "24            Ivory Coast        71004           714          61998.0   \n",
       "25                  Kenya       295028          5378         252281.0   \n",
       "26                Lesotho        28408           665          15241.0   \n",
       "27                Liberia         6278           287           5535.0   \n",
       "28                  Libya       388734          5710         376278.0   \n",
       "29             Madagascar        50279          1027          44708.0   \n",
       "30                 Malawi        75075          2364          60145.0   \n",
       "31                   Mali        21008           660          18735.0   \n",
       "32             Mauritania        41473           866          39175.0   \n",
       "33              Mauritius        23493           762          21918.0   \n",
       "34                Morocco       963092         14849         940193.0   \n",
       "35             Mozambique       189080          2006         156570.0   \n",
       "36                Namibia       147974          3633         131040.0   \n",
       "37                  Niger         7405           275           6926.0   \n",
       "38                Nigeria       241513          3030         214003.0   \n",
       "39                 Rwanda       111786          1350          45522.0   \n",
       "40  Sao Tome and Principe         3897            57           3678.0   \n",
       "41                Senegal        75055          1890          72560.0   \n",
       "42             Seychelles        24788           134          24033.0   \n",
       "43           Sierra Leone         7064           123              NaN   \n",
       "44                Somalia        23532          1333          12948.0   \n",
       "45           South Africa      3458286         91145        3174037.0   \n",
       "46            South Sudan        15242           135          12934.0   \n",
       "47                  Sudan        46518          3331          38714.0   \n",
       "48               Tanzania        29306           737              NaN   \n",
       "49                   Togo        30163           248          26134.0   \n",
       "50                Tunisia       726706         25569         696315.0   \n",
       "51                 Uganda       140737          3294          98397.0   \n",
       "52                 Zambia       254274          3734         219794.0   \n",
       "53               Zimbabwe       213258          5004         180570.0   \n",
       "\n",
       "    Active Cases  Total Cases/1 mil population  Deaths/1 mil population   \\\n",
       "0        62072.0                          4850                       139   \n",
       "1        15290.0                          2372                        51   \n",
       "2           69.0                          1979                        13   \n",
       "3        12254.0                         90608                      1009   \n",
       "4          695.0                           810                        15   \n",
       "5        26555.0                          2203                         3   \n",
       "6         3090.0                         73859                       621   \n",
       "7         1466.0                          3972                        67   \n",
       "8         5203.0                          2455                        20   \n",
       "9          646.0                           333                        11   \n",
       "10        1649.0                          7261                       175   \n",
       "11        7301.0                          3511                        64   \n",
       "12          97.0                         13528                       187   \n",
       "13       22658.0                           799                        13   \n",
       "14       43260.0                          3664                       207   \n",
       "15         125.0                          9315                       119   \n",
       "16         189.0                          2213                        21   \n",
       "17        6039.0                         56113                      1106   \n",
       "18       58359.0                          3526                        58   \n",
       "19        4011.0                         18140                       125   \n",
       "20         127.0                          4039                       136   \n",
       "21       10218.0                          4462                        40   \n",
       "22        1837.0                          2345                        29   \n",
       "23          33.0                          3182                        73   \n",
       "24        8292.0                          2596                        26   \n",
       "25       37369.0                          5312                        97   \n",
       "26       12502.0                         13105                       307   \n",
       "27         456.0                          1199                        55   \n",
       "28        6746.0                         55446                       814   \n",
       "29        4544.0                          1749                        36   \n",
       "30       12566.0                          3779                       119   \n",
       "31        1613.0                           995                        31   \n",
       "32        1432.0                          8582                       179   \n",
       "33         813.0                         18427                       598   \n",
       "34        8050.0                         25638                       395   \n",
       "35       30504.0                          5806                        62   \n",
       "36       13301.0                         56701                      1392   \n",
       "37         204.0                           290                        11   \n",
       "38       24480.0                          1130                        14   \n",
       "39       64914.0                          8322                       101   \n",
       "40         162.0                         17301                       253   \n",
       "41         605.0                          4313                       109   \n",
       "42         621.0                        249733                      1350   \n",
       "43           NaN                           859                        15   \n",
       "44        9251.0                          1421                        81   \n",
       "45      193104.0                         57230                      1508   \n",
       "46        2173.0                          1338                        12   \n",
       "47        4473.0                          1025                        73   \n",
       "48           NaN                           471                        12   \n",
       "49        3781.0                          3520                        29   \n",
       "50        4822.0                         60540                      2130   \n",
       "51       39046.0                          2938                        69   \n",
       "52       30746.0                         13276                       195   \n",
       "53       27684.0                         14043                       330   \n",
       "\n",
       "    Total Tests  Tests/1 mil population  Population  \n",
       "0      230861.0                  5126.0    45035231  \n",
       "1     1273800.0                 37036.0    34393211  \n",
       "2      604310.0                 47970.0    12597689  \n",
       "3     2026898.0                836655.0     2422621  \n",
       "4      239193.0                 10992.0    21759662  \n",
       "5      345742.0                 27838.0    12419778  \n",
       "6      392029.0                693827.0      565024  \n",
       "7     1751774.0                 63624.0    27533388  \n",
       "8       74519.0                 15038.0     4955357  \n",
       "9      180347.0                 10528.0    17129995  \n",
       "10          NaN                     NaN      897295  \n",
       "11     301494.0                 52699.0     5721074  \n",
       "12     258927.0                256492.0     1009494  \n",
       "13     846704.0                  9043.0    93628356  \n",
       "14    3693367.0                 35101.0   105220663  \n",
       "15     263190.0                178820.0     1471815  \n",
       "16      23693.0                  6545.0     3619854  \n",
       "17     430321.0                365254.0     1178141  \n",
       "18    4112267.0                 34493.0   119219377  \n",
       "19    1488703.0                646074.0     2304231  \n",
       "20     132861.0                 52762.0     2518100  \n",
       "21    2117923.0                 66097.0    32042667  \n",
       "22     571842.0                 41847.0    13665037  \n",
       "23     111394.0                 54671.0     2037523  \n",
       "24    1233370.0                 45088.0    27354475  \n",
       "25    3030272.0                 54558.0    55541905  \n",
       "26     322581.0                148815.0     2167668  \n",
       "27     139824.0                 26708.0     5235360  \n",
       "28    2030092.0                289555.0     7011085  \n",
       "29     320884.0                 11159.0    28754808  \n",
       "30     487334.0                 24528.0    19868632  \n",
       "31     536074.0                 25380.0    21122190  \n",
       "32     563459.0                116603.0     4832282  \n",
       "33     358675.0                281330.0     1274928  \n",
       "34   10844159.0                288676.0    37565205  \n",
       "35    1098922.0                 33747.0    32563685  \n",
       "36     869265.0                333087.0     2609721  \n",
       "37     203933.0                  7993.0    25514702  \n",
       "38    3823309.0                 17885.0   213775190  \n",
       "39    4010433.0                298572.0    13432051  \n",
       "40      29036.0                128909.0      225245  \n",
       "41     919548.0                 52838.0    17403248  \n",
       "42          NaN                     NaN       99258  \n",
       "43     259958.0                 31627.0     8219525  \n",
       "44     391308.0                 23636.0    16555680  \n",
       "45   21231024.0                351347.0    60427541  \n",
       "46     297596.0                 26128.0    11390103  \n",
       "47     562941.0                 12405.0    45379547  \n",
       "48          NaN                     NaN    62276038  \n",
       "49     615334.0                 71812.0     8568738  \n",
       "50    3373554.0                281043.0    12003688  \n",
       "51    2143822.0                 44758.0    47898392  \n",
       "52    2959116.0                154498.0    19153152  \n",
       "53    1842694.0                121337.0    15186601  "
      ]
     },
     "execution_count": 3,
     "metadata": {},
     "output_type": "execute_result"
    }
   ],
   "source": [
    "import numpy as np\n",
    "import pandas as pd\n",
    "import plotly.express as px\n",
    "df=pd.read_csv('covid_africa.csv')\n",
    "df"
   ]
  },
  {
   "cell_type": "code",
   "execution_count": 4,
   "metadata": {},
   "outputs": [
    {
     "name": "stdout",
     "output_type": "stream",
     "text": [
      "<class 'pandas.core.frame.DataFrame'>\n",
      "RangeIndex: 54 entries, 0 to 53\n",
      "Data columns (total 10 columns):\n",
      " #   Column                        Non-Null Count  Dtype  \n",
      "---  ------                        --------------  -----  \n",
      " 0   Country                       54 non-null     object \n",
      " 1   Total Cases                   54 non-null     int64  \n",
      " 2   Total Deaths                  54 non-null     int64  \n",
      " 3   Total Recovered               52 non-null     float64\n",
      " 4   Active Cases                  52 non-null     float64\n",
      " 5   Total Cases/1 mil population  54 non-null     int64  \n",
      " 6   Deaths/1 mil population       54 non-null     int64  \n",
      " 7   Total Tests                   51 non-null     float64\n",
      " 8   Tests/1 mil population        51 non-null     float64\n",
      " 9   Population                    54 non-null     int64  \n",
      "dtypes: float64(4), int64(5), object(1)\n",
      "memory usage: 4.3+ KB\n"
     ]
    }
   ],
   "source": [
    "df.info()"
   ]
  },
  {
   "cell_type": "code",
   "execution_count": 5,
   "metadata": {},
   "outputs": [
    {
     "data": {
      "text/plain": [
       "<bound method NDFrame.describe of                   Country  Total Cases  Total Deaths  Total Recovered  \\\n",
       "0                 Algeria       218432          6276         150084.0   \n",
       "1                  Angola        81593          1770          64533.0   \n",
       "2                   Benin        24935           161          24705.0   \n",
       "3                Botswana       219509          2444         204811.0   \n",
       "4            Burkina Faso        17632           318          16619.0   \n",
       "5                 Burundi        27366            38            773.0   \n",
       "6              Cabo Verde        41732           351          38291.0   \n",
       "7                Cameroon       109367          1851         106050.0   \n",
       "8                     CAR        12163           101           6859.0   \n",
       "9                    Chad         5701           181           4874.0   \n",
       "10                Comoros         6515           157           4709.0   \n",
       "11                  Congo        20089           367          12421.0   \n",
       "12               Djibouti        13656           189          13370.0   \n",
       "13                    DRC        74793          1205          50930.0   \n",
       "14                  Egypt       385575         21752         320563.0   \n",
       "15      Equatorial Guinea        13710           175          13410.0   \n",
       "16                Eritrea         8011            76           7746.0   \n",
       "17               Eswatini        66109          1303          58767.0   \n",
       "18               Ethiopia       420342          6937         355046.0   \n",
       "19                  Gabon        41798           288          37499.0   \n",
       "20                 Gambia        10170           343           9700.0   \n",
       "21                  Ghana       142986          1295         131473.0   \n",
       "22                 Guinea        32051           391          29823.0   \n",
       "23          Guinea-Bissau         6484           149           6302.0   \n",
       "24            Ivory Coast        71004           714          61998.0   \n",
       "25                  Kenya       295028          5378         252281.0   \n",
       "26                Lesotho        28408           665          15241.0   \n",
       "27                Liberia         6278           287           5535.0   \n",
       "28                  Libya       388734          5710         376278.0   \n",
       "29             Madagascar        50279          1027          44708.0   \n",
       "30                 Malawi        75075          2364          60145.0   \n",
       "31                   Mali        21008           660          18735.0   \n",
       "32             Mauritania        41473           866          39175.0   \n",
       "33              Mauritius        23493           762          21918.0   \n",
       "34                Morocco       963092         14849         940193.0   \n",
       "35             Mozambique       189080          2006         156570.0   \n",
       "36                Namibia       147974          3633         131040.0   \n",
       "37                  Niger         7405           275           6926.0   \n",
       "38                Nigeria       241513          3030         214003.0   \n",
       "39                 Rwanda       111786          1350          45522.0   \n",
       "40  Sao Tome and Principe         3897            57           3678.0   \n",
       "41                Senegal        75055          1890          72560.0   \n",
       "42             Seychelles        24788           134          24033.0   \n",
       "43           Sierra Leone         7064           123              NaN   \n",
       "44                Somalia        23532          1333          12948.0   \n",
       "45           South Africa      3458286         91145        3174037.0   \n",
       "46            South Sudan        15242           135          12934.0   \n",
       "47                  Sudan        46518          3331          38714.0   \n",
       "48               Tanzania        29306           737              NaN   \n",
       "49                   Togo        30163           248          26134.0   \n",
       "50                Tunisia       726706         25569         696315.0   \n",
       "51                 Uganda       140737          3294          98397.0   \n",
       "52                 Zambia       254274          3734         219794.0   \n",
       "53               Zimbabwe       213258          5004         180570.0   \n",
       "\n",
       "    Active Cases  Total Cases/1 mil population  Deaths/1 mil population   \\\n",
       "0        62072.0                          4850                       139   \n",
       "1        15290.0                          2372                        51   \n",
       "2           69.0                          1979                        13   \n",
       "3        12254.0                         90608                      1009   \n",
       "4          695.0                           810                        15   \n",
       "5        26555.0                          2203                         3   \n",
       "6         3090.0                         73859                       621   \n",
       "7         1466.0                          3972                        67   \n",
       "8         5203.0                          2455                        20   \n",
       "9          646.0                           333                        11   \n",
       "10        1649.0                          7261                       175   \n",
       "11        7301.0                          3511                        64   \n",
       "12          97.0                         13528                       187   \n",
       "13       22658.0                           799                        13   \n",
       "14       43260.0                          3664                       207   \n",
       "15         125.0                          9315                       119   \n",
       "16         189.0                          2213                        21   \n",
       "17        6039.0                         56113                      1106   \n",
       "18       58359.0                          3526                        58   \n",
       "19        4011.0                         18140                       125   \n",
       "20         127.0                          4039                       136   \n",
       "21       10218.0                          4462                        40   \n",
       "22        1837.0                          2345                        29   \n",
       "23          33.0                          3182                        73   \n",
       "24        8292.0                          2596                        26   \n",
       "25       37369.0                          5312                        97   \n",
       "26       12502.0                         13105                       307   \n",
       "27         456.0                          1199                        55   \n",
       "28        6746.0                         55446                       814   \n",
       "29        4544.0                          1749                        36   \n",
       "30       12566.0                          3779                       119   \n",
       "31        1613.0                           995                        31   \n",
       "32        1432.0                          8582                       179   \n",
       "33         813.0                         18427                       598   \n",
       "34        8050.0                         25638                       395   \n",
       "35       30504.0                          5806                        62   \n",
       "36       13301.0                         56701                      1392   \n",
       "37         204.0                           290                        11   \n",
       "38       24480.0                          1130                        14   \n",
       "39       64914.0                          8322                       101   \n",
       "40         162.0                         17301                       253   \n",
       "41         605.0                          4313                       109   \n",
       "42         621.0                        249733                      1350   \n",
       "43           NaN                           859                        15   \n",
       "44        9251.0                          1421                        81   \n",
       "45      193104.0                         57230                      1508   \n",
       "46        2173.0                          1338                        12   \n",
       "47        4473.0                          1025                        73   \n",
       "48           NaN                           471                        12   \n",
       "49        3781.0                          3520                        29   \n",
       "50        4822.0                         60540                      2130   \n",
       "51       39046.0                          2938                        69   \n",
       "52       30746.0                         13276                       195   \n",
       "53       27684.0                         14043                       330   \n",
       "\n",
       "    Total Tests  Tests/1 mil population  Population  \n",
       "0      230861.0                  5126.0    45035231  \n",
       "1     1273800.0                 37036.0    34393211  \n",
       "2      604310.0                 47970.0    12597689  \n",
       "3     2026898.0                836655.0     2422621  \n",
       "4      239193.0                 10992.0    21759662  \n",
       "5      345742.0                 27838.0    12419778  \n",
       "6      392029.0                693827.0      565024  \n",
       "7     1751774.0                 63624.0    27533388  \n",
       "8       74519.0                 15038.0     4955357  \n",
       "9      180347.0                 10528.0    17129995  \n",
       "10          NaN                     NaN      897295  \n",
       "11     301494.0                 52699.0     5721074  \n",
       "12     258927.0                256492.0     1009494  \n",
       "13     846704.0                  9043.0    93628356  \n",
       "14    3693367.0                 35101.0   105220663  \n",
       "15     263190.0                178820.0     1471815  \n",
       "16      23693.0                  6545.0     3619854  \n",
       "17     430321.0                365254.0     1178141  \n",
       "18    4112267.0                 34493.0   119219377  \n",
       "19    1488703.0                646074.0     2304231  \n",
       "20     132861.0                 52762.0     2518100  \n",
       "21    2117923.0                 66097.0    32042667  \n",
       "22     571842.0                 41847.0    13665037  \n",
       "23     111394.0                 54671.0     2037523  \n",
       "24    1233370.0                 45088.0    27354475  \n",
       "25    3030272.0                 54558.0    55541905  \n",
       "26     322581.0                148815.0     2167668  \n",
       "27     139824.0                 26708.0     5235360  \n",
       "28    2030092.0                289555.0     7011085  \n",
       "29     320884.0                 11159.0    28754808  \n",
       "30     487334.0                 24528.0    19868632  \n",
       "31     536074.0                 25380.0    21122190  \n",
       "32     563459.0                116603.0     4832282  \n",
       "33     358675.0                281330.0     1274928  \n",
       "34   10844159.0                288676.0    37565205  \n",
       "35    1098922.0                 33747.0    32563685  \n",
       "36     869265.0                333087.0     2609721  \n",
       "37     203933.0                  7993.0    25514702  \n",
       "38    3823309.0                 17885.0   213775190  \n",
       "39    4010433.0                298572.0    13432051  \n",
       "40      29036.0                128909.0      225245  \n",
       "41     919548.0                 52838.0    17403248  \n",
       "42          NaN                     NaN       99258  \n",
       "43     259958.0                 31627.0     8219525  \n",
       "44     391308.0                 23636.0    16555680  \n",
       "45   21231024.0                351347.0    60427541  \n",
       "46     297596.0                 26128.0    11390103  \n",
       "47     562941.0                 12405.0    45379547  \n",
       "48          NaN                     NaN    62276038  \n",
       "49     615334.0                 71812.0     8568738  \n",
       "50    3373554.0                281043.0    12003688  \n",
       "51    2143822.0                 44758.0    47898392  \n",
       "52    2959116.0                154498.0    19153152  \n",
       "53    1842694.0                121337.0    15186601  >"
      ]
     },
     "execution_count": 5,
     "metadata": {},
     "output_type": "execute_result"
    }
   ],
   "source": [
    "df.describe"
   ]
  },
  {
   "cell_type": "code",
   "execution_count": 6,
   "metadata": {},
   "outputs": [
    {
     "data": {
      "text/plain": [
       "Index(['Country', 'Total Cases', 'Total Deaths', 'Total Recovered',\n",
       "       'Active Cases', 'Total Cases/1 mil population',\n",
       "       'Deaths/1 mil population ', 'Total Tests', 'Tests/1 mil population',\n",
       "       'Population'],\n",
       "      dtype='object')"
      ]
     },
     "execution_count": 6,
     "metadata": {},
     "output_type": "execute_result"
    }
   ],
   "source": [
    "df.columns"
   ]
  },
  {
   "cell_type": "code",
   "execution_count": 7,
   "metadata": {},
   "outputs": [
    {
     "data": {
      "text/plain": [
       "<bound method flex_arith_method_FRAME.<locals>.f of                   Country  Total Cases  Total Deaths  Total Recovered  \\\n",
       "0                 Algeria       218432          6276         150084.0   \n",
       "1                  Angola        81593          1770          64533.0   \n",
       "2                   Benin        24935           161          24705.0   \n",
       "3                Botswana       219509          2444         204811.0   \n",
       "4            Burkina Faso        17632           318          16619.0   \n",
       "5                 Burundi        27366            38            773.0   \n",
       "6              Cabo Verde        41732           351          38291.0   \n",
       "7                Cameroon       109367          1851         106050.0   \n",
       "8                     CAR        12163           101           6859.0   \n",
       "9                    Chad         5701           181           4874.0   \n",
       "10                Comoros         6515           157           4709.0   \n",
       "11                  Congo        20089           367          12421.0   \n",
       "12               Djibouti        13656           189          13370.0   \n",
       "13                    DRC        74793          1205          50930.0   \n",
       "14                  Egypt       385575         21752         320563.0   \n",
       "15      Equatorial Guinea        13710           175          13410.0   \n",
       "16                Eritrea         8011            76           7746.0   \n",
       "17               Eswatini        66109          1303          58767.0   \n",
       "18               Ethiopia       420342          6937         355046.0   \n",
       "19                  Gabon        41798           288          37499.0   \n",
       "20                 Gambia        10170           343           9700.0   \n",
       "21                  Ghana       142986          1295         131473.0   \n",
       "22                 Guinea        32051           391          29823.0   \n",
       "23          Guinea-Bissau         6484           149           6302.0   \n",
       "24            Ivory Coast        71004           714          61998.0   \n",
       "25                  Kenya       295028          5378         252281.0   \n",
       "26                Lesotho        28408           665          15241.0   \n",
       "27                Liberia         6278           287           5535.0   \n",
       "28                  Libya       388734          5710         376278.0   \n",
       "29             Madagascar        50279          1027          44708.0   \n",
       "30                 Malawi        75075          2364          60145.0   \n",
       "31                   Mali        21008           660          18735.0   \n",
       "32             Mauritania        41473           866          39175.0   \n",
       "33              Mauritius        23493           762          21918.0   \n",
       "34                Morocco       963092         14849         940193.0   \n",
       "35             Mozambique       189080          2006         156570.0   \n",
       "36                Namibia       147974          3633         131040.0   \n",
       "37                  Niger         7405           275           6926.0   \n",
       "38                Nigeria       241513          3030         214003.0   \n",
       "39                 Rwanda       111786          1350          45522.0   \n",
       "40  Sao Tome and Principe         3897            57           3678.0   \n",
       "41                Senegal        75055          1890          72560.0   \n",
       "42             Seychelles        24788           134          24033.0   \n",
       "43           Sierra Leone         7064           123              NaN   \n",
       "44                Somalia        23532          1333          12948.0   \n",
       "45           South Africa      3458286         91145        3174037.0   \n",
       "46            South Sudan        15242           135          12934.0   \n",
       "47                  Sudan        46518          3331          38714.0   \n",
       "48               Tanzania        29306           737              NaN   \n",
       "49                   Togo        30163           248          26134.0   \n",
       "50                Tunisia       726706         25569         696315.0   \n",
       "51                 Uganda       140737          3294          98397.0   \n",
       "52                 Zambia       254274          3734         219794.0   \n",
       "53               Zimbabwe       213258          5004         180570.0   \n",
       "\n",
       "    Active Cases  Total Cases/1 mil population  Deaths/1 mil population   \\\n",
       "0        62072.0                          4850                       139   \n",
       "1        15290.0                          2372                        51   \n",
       "2           69.0                          1979                        13   \n",
       "3        12254.0                         90608                      1009   \n",
       "4          695.0                           810                        15   \n",
       "5        26555.0                          2203                         3   \n",
       "6         3090.0                         73859                       621   \n",
       "7         1466.0                          3972                        67   \n",
       "8         5203.0                          2455                        20   \n",
       "9          646.0                           333                        11   \n",
       "10        1649.0                          7261                       175   \n",
       "11        7301.0                          3511                        64   \n",
       "12          97.0                         13528                       187   \n",
       "13       22658.0                           799                        13   \n",
       "14       43260.0                          3664                       207   \n",
       "15         125.0                          9315                       119   \n",
       "16         189.0                          2213                        21   \n",
       "17        6039.0                         56113                      1106   \n",
       "18       58359.0                          3526                        58   \n",
       "19        4011.0                         18140                       125   \n",
       "20         127.0                          4039                       136   \n",
       "21       10218.0                          4462                        40   \n",
       "22        1837.0                          2345                        29   \n",
       "23          33.0                          3182                        73   \n",
       "24        8292.0                          2596                        26   \n",
       "25       37369.0                          5312                        97   \n",
       "26       12502.0                         13105                       307   \n",
       "27         456.0                          1199                        55   \n",
       "28        6746.0                         55446                       814   \n",
       "29        4544.0                          1749                        36   \n",
       "30       12566.0                          3779                       119   \n",
       "31        1613.0                           995                        31   \n",
       "32        1432.0                          8582                       179   \n",
       "33         813.0                         18427                       598   \n",
       "34        8050.0                         25638                       395   \n",
       "35       30504.0                          5806                        62   \n",
       "36       13301.0                         56701                      1392   \n",
       "37         204.0                           290                        11   \n",
       "38       24480.0                          1130                        14   \n",
       "39       64914.0                          8322                       101   \n",
       "40         162.0                         17301                       253   \n",
       "41         605.0                          4313                       109   \n",
       "42         621.0                        249733                      1350   \n",
       "43           NaN                           859                        15   \n",
       "44        9251.0                          1421                        81   \n",
       "45      193104.0                         57230                      1508   \n",
       "46        2173.0                          1338                        12   \n",
       "47        4473.0                          1025                        73   \n",
       "48           NaN                           471                        12   \n",
       "49        3781.0                          3520                        29   \n",
       "50        4822.0                         60540                      2130   \n",
       "51       39046.0                          2938                        69   \n",
       "52       30746.0                         13276                       195   \n",
       "53       27684.0                         14043                       330   \n",
       "\n",
       "    Total Tests  Tests/1 mil population  Population  \n",
       "0      230861.0                  5126.0    45035231  \n",
       "1     1273800.0                 37036.0    34393211  \n",
       "2      604310.0                 47970.0    12597689  \n",
       "3     2026898.0                836655.0     2422621  \n",
       "4      239193.0                 10992.0    21759662  \n",
       "5      345742.0                 27838.0    12419778  \n",
       "6      392029.0                693827.0      565024  \n",
       "7     1751774.0                 63624.0    27533388  \n",
       "8       74519.0                 15038.0     4955357  \n",
       "9      180347.0                 10528.0    17129995  \n",
       "10          NaN                     NaN      897295  \n",
       "11     301494.0                 52699.0     5721074  \n",
       "12     258927.0                256492.0     1009494  \n",
       "13     846704.0                  9043.0    93628356  \n",
       "14    3693367.0                 35101.0   105220663  \n",
       "15     263190.0                178820.0     1471815  \n",
       "16      23693.0                  6545.0     3619854  \n",
       "17     430321.0                365254.0     1178141  \n",
       "18    4112267.0                 34493.0   119219377  \n",
       "19    1488703.0                646074.0     2304231  \n",
       "20     132861.0                 52762.0     2518100  \n",
       "21    2117923.0                 66097.0    32042667  \n",
       "22     571842.0                 41847.0    13665037  \n",
       "23     111394.0                 54671.0     2037523  \n",
       "24    1233370.0                 45088.0    27354475  \n",
       "25    3030272.0                 54558.0    55541905  \n",
       "26     322581.0                148815.0     2167668  \n",
       "27     139824.0                 26708.0     5235360  \n",
       "28    2030092.0                289555.0     7011085  \n",
       "29     320884.0                 11159.0    28754808  \n",
       "30     487334.0                 24528.0    19868632  \n",
       "31     536074.0                 25380.0    21122190  \n",
       "32     563459.0                116603.0     4832282  \n",
       "33     358675.0                281330.0     1274928  \n",
       "34   10844159.0                288676.0    37565205  \n",
       "35    1098922.0                 33747.0    32563685  \n",
       "36     869265.0                333087.0     2609721  \n",
       "37     203933.0                  7993.0    25514702  \n",
       "38    3823309.0                 17885.0   213775190  \n",
       "39    4010433.0                298572.0    13432051  \n",
       "40      29036.0                128909.0      225245  \n",
       "41     919548.0                 52838.0    17403248  \n",
       "42          NaN                     NaN       99258  \n",
       "43     259958.0                 31627.0     8219525  \n",
       "44     391308.0                 23636.0    16555680  \n",
       "45   21231024.0                351347.0    60427541  \n",
       "46     297596.0                 26128.0    11390103  \n",
       "47     562941.0                 12405.0    45379547  \n",
       "48          NaN                     NaN    62276038  \n",
       "49     615334.0                 71812.0     8568738  \n",
       "50    3373554.0                281043.0    12003688  \n",
       "51    2143822.0                 44758.0    47898392  \n",
       "52    2959116.0                154498.0    19153152  \n",
       "53    1842694.0                121337.0    15186601  >"
      ]
     },
     "execution_count": 7,
     "metadata": {},
     "output_type": "execute_result"
    }
   ],
   "source": [
    "df.rpow"
   ]
  },
  {
   "cell_type": "code",
   "execution_count": 8,
   "metadata": {},
   "outputs": [
    {
     "data": {
      "application/vnd.plotly.v1+json": {
       "config": {
        "plotlyServerURL": "https://plot.ly"
       },
       "data": [
        {
         "alignmentgroup": "True",
         "hovertemplate": "Country=%{x}<br>Total Deaths=%{marker.color}<extra></extra>",
         "legendgroup": "",
         "marker": {
          "color": [
           91145,
           25569,
           21752,
           14849,
           6937,
           6276,
           5710,
           5378,
           5004,
           3734,
           3633,
           3331,
           3294,
           3030,
           2444,
           2364,
           2006,
           1890,
           1851,
           1770,
           1350,
           1333,
           1303,
           1295,
           1205,
           1027,
           866,
           762,
           737,
           714,
           665,
           660,
           391,
           367,
           351,
           343,
           318,
           288,
           287,
           275,
           248,
           189,
           181,
           175,
           161,
           157,
           149,
           135,
           134,
           123,
           101,
           76,
           57,
           38
          ],
          "coloraxis": "coloraxis",
          "pattern": {
           "shape": ""
          }
         },
         "name": "",
         "offsetgroup": "",
         "orientation": "v",
         "showlegend": false,
         "textposition": "auto",
         "type": "bar",
         "x": [
          "South Africa",
          "Tunisia",
          "Egypt",
          "Morocco",
          "Ethiopia",
          "Algeria",
          "Libya",
          "Kenya",
          "Zimbabwe",
          "Zambia",
          "Namibia",
          "Sudan",
          "Uganda",
          "Nigeria",
          "Botswana",
          "Malawi",
          "Mozambique",
          "Senegal",
          "Cameroon",
          "Angola",
          "Rwanda",
          "Somalia",
          "Eswatini",
          "Ghana",
          "DRC",
          "Madagascar",
          "Mauritania",
          "Mauritius",
          "Tanzania",
          "Ivory Coast",
          "Lesotho",
          "Mali",
          "Guinea",
          "Congo",
          "Cabo Verde",
          "Gambia",
          "Burkina Faso",
          "Gabon",
          "Liberia",
          "Niger",
          "Togo",
          "Djibouti",
          "Chad",
          "Equatorial Guinea",
          "Benin",
          "Comoros",
          "Guinea-Bissau",
          "South Sudan",
          "Seychelles",
          "Sierra Leone",
          "CAR",
          "Eritrea",
          "Sao Tome and Principe",
          "Burundi"
         ],
         "xaxis": "x",
         "y": [
          91145,
          25569,
          21752,
          14849,
          6937,
          6276,
          5710,
          5378,
          5004,
          3734,
          3633,
          3331,
          3294,
          3030,
          2444,
          2364,
          2006,
          1890,
          1851,
          1770,
          1350,
          1333,
          1303,
          1295,
          1205,
          1027,
          866,
          762,
          737,
          714,
          665,
          660,
          391,
          367,
          351,
          343,
          318,
          288,
          287,
          275,
          248,
          189,
          181,
          175,
          161,
          157,
          149,
          135,
          134,
          123,
          101,
          76,
          57,
          38
         ],
         "yaxis": "y"
        }
       ],
       "layout": {
        "barmode": "relative",
        "coloraxis": {
         "colorbar": {
          "title": {
           "text": "Total Deaths"
          }
         },
         "colorscale": [
          [
           0,
           "rgb(255,245,235)"
          ],
          [
           0.125,
           "rgb(254,230,206)"
          ],
          [
           0.25,
           "rgb(253,208,162)"
          ],
          [
           0.375,
           "rgb(253,174,107)"
          ],
          [
           0.5,
           "rgb(253,141,60)"
          ],
          [
           0.625,
           "rgb(241,105,19)"
          ],
          [
           0.75,
           "rgb(217,72,1)"
          ],
          [
           0.875,
           "rgb(166,54,3)"
          ],
          [
           1,
           "rgb(127,39,4)"
          ]
         ]
        },
        "legend": {
         "tracegroupgap": 0
        },
        "margin": {
         "t": 60
        },
        "template": {
         "data": {
          "bar": [
           {
            "error_x": {
             "color": "#2a3f5f"
            },
            "error_y": {
             "color": "#2a3f5f"
            },
            "marker": {
             "line": {
              "color": "#E5ECF6",
              "width": 0.5
             },
             "pattern": {
              "fillmode": "overlay",
              "size": 10,
              "solidity": 0.2
             }
            },
            "type": "bar"
           }
          ],
          "barpolar": [
           {
            "marker": {
             "line": {
              "color": "#E5ECF6",
              "width": 0.5
             },
             "pattern": {
              "fillmode": "overlay",
              "size": 10,
              "solidity": 0.2
             }
            },
            "type": "barpolar"
           }
          ],
          "carpet": [
           {
            "aaxis": {
             "endlinecolor": "#2a3f5f",
             "gridcolor": "white",
             "linecolor": "white",
             "minorgridcolor": "white",
             "startlinecolor": "#2a3f5f"
            },
            "baxis": {
             "endlinecolor": "#2a3f5f",
             "gridcolor": "white",
             "linecolor": "white",
             "minorgridcolor": "white",
             "startlinecolor": "#2a3f5f"
            },
            "type": "carpet"
           }
          ],
          "choropleth": [
           {
            "colorbar": {
             "outlinewidth": 0,
             "ticks": ""
            },
            "type": "choropleth"
           }
          ],
          "contour": [
           {
            "colorbar": {
             "outlinewidth": 0,
             "ticks": ""
            },
            "colorscale": [
             [
              0,
              "#0d0887"
             ],
             [
              0.1111111111111111,
              "#46039f"
             ],
             [
              0.2222222222222222,
              "#7201a8"
             ],
             [
              0.3333333333333333,
              "#9c179e"
             ],
             [
              0.4444444444444444,
              "#bd3786"
             ],
             [
              0.5555555555555556,
              "#d8576b"
             ],
             [
              0.6666666666666666,
              "#ed7953"
             ],
             [
              0.7777777777777778,
              "#fb9f3a"
             ],
             [
              0.8888888888888888,
              "#fdca26"
             ],
             [
              1,
              "#f0f921"
             ]
            ],
            "type": "contour"
           }
          ],
          "contourcarpet": [
           {
            "colorbar": {
             "outlinewidth": 0,
             "ticks": ""
            },
            "type": "contourcarpet"
           }
          ],
          "heatmap": [
           {
            "colorbar": {
             "outlinewidth": 0,
             "ticks": ""
            },
            "colorscale": [
             [
              0,
              "#0d0887"
             ],
             [
              0.1111111111111111,
              "#46039f"
             ],
             [
              0.2222222222222222,
              "#7201a8"
             ],
             [
              0.3333333333333333,
              "#9c179e"
             ],
             [
              0.4444444444444444,
              "#bd3786"
             ],
             [
              0.5555555555555556,
              "#d8576b"
             ],
             [
              0.6666666666666666,
              "#ed7953"
             ],
             [
              0.7777777777777778,
              "#fb9f3a"
             ],
             [
              0.8888888888888888,
              "#fdca26"
             ],
             [
              1,
              "#f0f921"
             ]
            ],
            "type": "heatmap"
           }
          ],
          "heatmapgl": [
           {
            "colorbar": {
             "outlinewidth": 0,
             "ticks": ""
            },
            "colorscale": [
             [
              0,
              "#0d0887"
             ],
             [
              0.1111111111111111,
              "#46039f"
             ],
             [
              0.2222222222222222,
              "#7201a8"
             ],
             [
              0.3333333333333333,
              "#9c179e"
             ],
             [
              0.4444444444444444,
              "#bd3786"
             ],
             [
              0.5555555555555556,
              "#d8576b"
             ],
             [
              0.6666666666666666,
              "#ed7953"
             ],
             [
              0.7777777777777778,
              "#fb9f3a"
             ],
             [
              0.8888888888888888,
              "#fdca26"
             ],
             [
              1,
              "#f0f921"
             ]
            ],
            "type": "heatmapgl"
           }
          ],
          "histogram": [
           {
            "marker": {
             "pattern": {
              "fillmode": "overlay",
              "size": 10,
              "solidity": 0.2
             }
            },
            "type": "histogram"
           }
          ],
          "histogram2d": [
           {
            "colorbar": {
             "outlinewidth": 0,
             "ticks": ""
            },
            "colorscale": [
             [
              0,
              "#0d0887"
             ],
             [
              0.1111111111111111,
              "#46039f"
             ],
             [
              0.2222222222222222,
              "#7201a8"
             ],
             [
              0.3333333333333333,
              "#9c179e"
             ],
             [
              0.4444444444444444,
              "#bd3786"
             ],
             [
              0.5555555555555556,
              "#d8576b"
             ],
             [
              0.6666666666666666,
              "#ed7953"
             ],
             [
              0.7777777777777778,
              "#fb9f3a"
             ],
             [
              0.8888888888888888,
              "#fdca26"
             ],
             [
              1,
              "#f0f921"
             ]
            ],
            "type": "histogram2d"
           }
          ],
          "histogram2dcontour": [
           {
            "colorbar": {
             "outlinewidth": 0,
             "ticks": ""
            },
            "colorscale": [
             [
              0,
              "#0d0887"
             ],
             [
              0.1111111111111111,
              "#46039f"
             ],
             [
              0.2222222222222222,
              "#7201a8"
             ],
             [
              0.3333333333333333,
              "#9c179e"
             ],
             [
              0.4444444444444444,
              "#bd3786"
             ],
             [
              0.5555555555555556,
              "#d8576b"
             ],
             [
              0.6666666666666666,
              "#ed7953"
             ],
             [
              0.7777777777777778,
              "#fb9f3a"
             ],
             [
              0.8888888888888888,
              "#fdca26"
             ],
             [
              1,
              "#f0f921"
             ]
            ],
            "type": "histogram2dcontour"
           }
          ],
          "mesh3d": [
           {
            "colorbar": {
             "outlinewidth": 0,
             "ticks": ""
            },
            "type": "mesh3d"
           }
          ],
          "parcoords": [
           {
            "line": {
             "colorbar": {
              "outlinewidth": 0,
              "ticks": ""
             }
            },
            "type": "parcoords"
           }
          ],
          "pie": [
           {
            "automargin": true,
            "type": "pie"
           }
          ],
          "scatter": [
           {
            "fillpattern": {
             "fillmode": "overlay",
             "size": 10,
             "solidity": 0.2
            },
            "type": "scatter"
           }
          ],
          "scatter3d": [
           {
            "line": {
             "colorbar": {
              "outlinewidth": 0,
              "ticks": ""
             }
            },
            "marker": {
             "colorbar": {
              "outlinewidth": 0,
              "ticks": ""
             }
            },
            "type": "scatter3d"
           }
          ],
          "scattercarpet": [
           {
            "marker": {
             "colorbar": {
              "outlinewidth": 0,
              "ticks": ""
             }
            },
            "type": "scattercarpet"
           }
          ],
          "scattergeo": [
           {
            "marker": {
             "colorbar": {
              "outlinewidth": 0,
              "ticks": ""
             }
            },
            "type": "scattergeo"
           }
          ],
          "scattergl": [
           {
            "marker": {
             "colorbar": {
              "outlinewidth": 0,
              "ticks": ""
             }
            },
            "type": "scattergl"
           }
          ],
          "scattermapbox": [
           {
            "marker": {
             "colorbar": {
              "outlinewidth": 0,
              "ticks": ""
             }
            },
            "type": "scattermapbox"
           }
          ],
          "scatterpolar": [
           {
            "marker": {
             "colorbar": {
              "outlinewidth": 0,
              "ticks": ""
             }
            },
            "type": "scatterpolar"
           }
          ],
          "scatterpolargl": [
           {
            "marker": {
             "colorbar": {
              "outlinewidth": 0,
              "ticks": ""
             }
            },
            "type": "scatterpolargl"
           }
          ],
          "scatterternary": [
           {
            "marker": {
             "colorbar": {
              "outlinewidth": 0,
              "ticks": ""
             }
            },
            "type": "scatterternary"
           }
          ],
          "surface": [
           {
            "colorbar": {
             "outlinewidth": 0,
             "ticks": ""
            },
            "colorscale": [
             [
              0,
              "#0d0887"
             ],
             [
              0.1111111111111111,
              "#46039f"
             ],
             [
              0.2222222222222222,
              "#7201a8"
             ],
             [
              0.3333333333333333,
              "#9c179e"
             ],
             [
              0.4444444444444444,
              "#bd3786"
             ],
             [
              0.5555555555555556,
              "#d8576b"
             ],
             [
              0.6666666666666666,
              "#ed7953"
             ],
             [
              0.7777777777777778,
              "#fb9f3a"
             ],
             [
              0.8888888888888888,
              "#fdca26"
             ],
             [
              1,
              "#f0f921"
             ]
            ],
            "type": "surface"
           }
          ],
          "table": [
           {
            "cells": {
             "fill": {
              "color": "#EBF0F8"
             },
             "line": {
              "color": "white"
             }
            },
            "header": {
             "fill": {
              "color": "#C8D4E3"
             },
             "line": {
              "color": "white"
             }
            },
            "type": "table"
           }
          ]
         },
         "layout": {
          "annotationdefaults": {
           "arrowcolor": "#2a3f5f",
           "arrowhead": 0,
           "arrowwidth": 1
          },
          "autotypenumbers": "strict",
          "coloraxis": {
           "colorbar": {
            "outlinewidth": 0,
            "ticks": ""
           }
          },
          "colorscale": {
           "diverging": [
            [
             0,
             "#8e0152"
            ],
            [
             0.1,
             "#c51b7d"
            ],
            [
             0.2,
             "#de77ae"
            ],
            [
             0.3,
             "#f1b6da"
            ],
            [
             0.4,
             "#fde0ef"
            ],
            [
             0.5,
             "#f7f7f7"
            ],
            [
             0.6,
             "#e6f5d0"
            ],
            [
             0.7,
             "#b8e186"
            ],
            [
             0.8,
             "#7fbc41"
            ],
            [
             0.9,
             "#4d9221"
            ],
            [
             1,
             "#276419"
            ]
           ],
           "sequential": [
            [
             0,
             "#0d0887"
            ],
            [
             0.1111111111111111,
             "#46039f"
            ],
            [
             0.2222222222222222,
             "#7201a8"
            ],
            [
             0.3333333333333333,
             "#9c179e"
            ],
            [
             0.4444444444444444,
             "#bd3786"
            ],
            [
             0.5555555555555556,
             "#d8576b"
            ],
            [
             0.6666666666666666,
             "#ed7953"
            ],
            [
             0.7777777777777778,
             "#fb9f3a"
            ],
            [
             0.8888888888888888,
             "#fdca26"
            ],
            [
             1,
             "#f0f921"
            ]
           ],
           "sequentialminus": [
            [
             0,
             "#0d0887"
            ],
            [
             0.1111111111111111,
             "#46039f"
            ],
            [
             0.2222222222222222,
             "#7201a8"
            ],
            [
             0.3333333333333333,
             "#9c179e"
            ],
            [
             0.4444444444444444,
             "#bd3786"
            ],
            [
             0.5555555555555556,
             "#d8576b"
            ],
            [
             0.6666666666666666,
             "#ed7953"
            ],
            [
             0.7777777777777778,
             "#fb9f3a"
            ],
            [
             0.8888888888888888,
             "#fdca26"
            ],
            [
             1,
             "#f0f921"
            ]
           ]
          },
          "colorway": [
           "#636efa",
           "#EF553B",
           "#00cc96",
           "#ab63fa",
           "#FFA15A",
           "#19d3f3",
           "#FF6692",
           "#B6E880",
           "#FF97FF",
           "#FECB52"
          ],
          "font": {
           "color": "#2a3f5f"
          },
          "geo": {
           "bgcolor": "white",
           "lakecolor": "white",
           "landcolor": "#E5ECF6",
           "showlakes": true,
           "showland": true,
           "subunitcolor": "white"
          },
          "hoverlabel": {
           "align": "left"
          },
          "hovermode": "closest",
          "mapbox": {
           "style": "light"
          },
          "paper_bgcolor": "white",
          "plot_bgcolor": "#E5ECF6",
          "polar": {
           "angularaxis": {
            "gridcolor": "white",
            "linecolor": "white",
            "ticks": ""
           },
           "bgcolor": "#E5ECF6",
           "radialaxis": {
            "gridcolor": "white",
            "linecolor": "white",
            "ticks": ""
           }
          },
          "scene": {
           "xaxis": {
            "backgroundcolor": "#E5ECF6",
            "gridcolor": "white",
            "gridwidth": 2,
            "linecolor": "white",
            "showbackground": true,
            "ticks": "",
            "zerolinecolor": "white"
           },
           "yaxis": {
            "backgroundcolor": "#E5ECF6",
            "gridcolor": "white",
            "gridwidth": 2,
            "linecolor": "white",
            "showbackground": true,
            "ticks": "",
            "zerolinecolor": "white"
           },
           "zaxis": {
            "backgroundcolor": "#E5ECF6",
            "gridcolor": "white",
            "gridwidth": 2,
            "linecolor": "white",
            "showbackground": true,
            "ticks": "",
            "zerolinecolor": "white"
           }
          },
          "shapedefaults": {
           "line": {
            "color": "#2a3f5f"
           }
          },
          "ternary": {
           "aaxis": {
            "gridcolor": "white",
            "linecolor": "white",
            "ticks": ""
           },
           "baxis": {
            "gridcolor": "white",
            "linecolor": "white",
            "ticks": ""
           },
           "bgcolor": "#E5ECF6",
           "caxis": {
            "gridcolor": "white",
            "linecolor": "white",
            "ticks": ""
           }
          },
          "title": {
           "x": 0.05
          },
          "xaxis": {
           "automargin": true,
           "gridcolor": "white",
           "linecolor": "white",
           "ticks": "",
           "title": {
            "standoff": 15
           },
           "zerolinecolor": "white",
           "zerolinewidth": 2
          },
          "yaxis": {
           "automargin": true,
           "gridcolor": "white",
           "linecolor": "white",
           "ticks": "",
           "title": {
            "standoff": 15
           },
           "zerolinecolor": "white",
           "zerolinewidth": 2
          }
         }
        },
        "title": {
         "font": {
          "color": "Green",
          "size": 18
         },
         "text": "Top 5 countries with the most COVID-19 Death Rates in Africa",
         "x": 0.5
        },
        "xaxis": {
         "anchor": "y",
         "domain": [
          0,
          1
         ],
         "title": {
          "text": "Country"
         }
        },
        "yaxis": {
         "anchor": "x",
         "domain": [
          0,
          1
         ],
         "title": {
          "text": "Total Deaths"
         }
        }
       }
      }
     },
     "metadata": {},
     "output_type": "display_data"
    }
   ],
   "source": [
    "df1 = df.sort_values(by = ['Total Deaths'],ascending = False).reset_index()\n",
    "\n",
    "Rates= px.bar(df1, x = 'Country', y = 'Total Deaths', color = 'Total Deaths',\n",
    "             color_continuous_scale = 'oranges')\n",
    "\n",
    "Rates.update_layout(title = 'Top 5 countries with the most COVID-19 Death Rates in Africa',\n",
    "                  title_x = 0.5,\n",
    "                  title_font = dict(size = 18, color = 'Green'))\n",
    "Rates.show()"
   ]
  },
  {
   "cell_type": "code",
   "execution_count": 9,
   "metadata": {},
   "outputs": [
    {
     "data": {
      "application/vnd.plotly.v1+json": {
       "config": {
        "plotlyServerURL": "https://plot.ly"
       },
       "data": [
        {
         "alignmentgroup": "True",
         "hovertemplate": "Country=%{x}<br>Total Deaths=%{marker.color}<extra></extra>",
         "legendgroup": "",
         "marker": {
          "color": [
           91145,
           25569,
           21752,
           14849,
           6937
          ],
          "coloraxis": "coloraxis",
          "pattern": {
           "shape": ""
          }
         },
         "name": "",
         "offsetgroup": "",
         "orientation": "v",
         "showlegend": false,
         "textposition": "auto",
         "type": "bar",
         "x": [
          "South Africa",
          "Tunisia",
          "Egypt",
          "Morocco",
          "Ethiopia"
         ],
         "xaxis": "x",
         "y": [
          91145,
          25569,
          21752,
          14849,
          6937
         ],
         "yaxis": "y"
        }
       ],
       "layout": {
        "barmode": "relative",
        "coloraxis": {
         "colorbar": {
          "title": {
           "text": "Total Deaths"
          }
         },
         "colorscale": [
          [
           0,
           "rgb(255,245,240)"
          ],
          [
           0.125,
           "rgb(254,224,210)"
          ],
          [
           0.25,
           "rgb(252,187,161)"
          ],
          [
           0.375,
           "rgb(252,146,114)"
          ],
          [
           0.5,
           "rgb(251,106,74)"
          ],
          [
           0.625,
           "rgb(239,59,44)"
          ],
          [
           0.75,
           "rgb(203,24,29)"
          ],
          [
           0.875,
           "rgb(165,15,21)"
          ],
          [
           1,
           "rgb(103,0,13)"
          ]
         ]
        },
        "legend": {
         "tracegroupgap": 0
        },
        "margin": {
         "t": 60
        },
        "template": {
         "data": {
          "bar": [
           {
            "error_x": {
             "color": "#2a3f5f"
            },
            "error_y": {
             "color": "#2a3f5f"
            },
            "marker": {
             "line": {
              "color": "#E5ECF6",
              "width": 0.5
             },
             "pattern": {
              "fillmode": "overlay",
              "size": 10,
              "solidity": 0.2
             }
            },
            "type": "bar"
           }
          ],
          "barpolar": [
           {
            "marker": {
             "line": {
              "color": "#E5ECF6",
              "width": 0.5
             },
             "pattern": {
              "fillmode": "overlay",
              "size": 10,
              "solidity": 0.2
             }
            },
            "type": "barpolar"
           }
          ],
          "carpet": [
           {
            "aaxis": {
             "endlinecolor": "#2a3f5f",
             "gridcolor": "white",
             "linecolor": "white",
             "minorgridcolor": "white",
             "startlinecolor": "#2a3f5f"
            },
            "baxis": {
             "endlinecolor": "#2a3f5f",
             "gridcolor": "white",
             "linecolor": "white",
             "minorgridcolor": "white",
             "startlinecolor": "#2a3f5f"
            },
            "type": "carpet"
           }
          ],
          "choropleth": [
           {
            "colorbar": {
             "outlinewidth": 0,
             "ticks": ""
            },
            "type": "choropleth"
           }
          ],
          "contour": [
           {
            "colorbar": {
             "outlinewidth": 0,
             "ticks": ""
            },
            "colorscale": [
             [
              0,
              "#0d0887"
             ],
             [
              0.1111111111111111,
              "#46039f"
             ],
             [
              0.2222222222222222,
              "#7201a8"
             ],
             [
              0.3333333333333333,
              "#9c179e"
             ],
             [
              0.4444444444444444,
              "#bd3786"
             ],
             [
              0.5555555555555556,
              "#d8576b"
             ],
             [
              0.6666666666666666,
              "#ed7953"
             ],
             [
              0.7777777777777778,
              "#fb9f3a"
             ],
             [
              0.8888888888888888,
              "#fdca26"
             ],
             [
              1,
              "#f0f921"
             ]
            ],
            "type": "contour"
           }
          ],
          "contourcarpet": [
           {
            "colorbar": {
             "outlinewidth": 0,
             "ticks": ""
            },
            "type": "contourcarpet"
           }
          ],
          "heatmap": [
           {
            "colorbar": {
             "outlinewidth": 0,
             "ticks": ""
            },
            "colorscale": [
             [
              0,
              "#0d0887"
             ],
             [
              0.1111111111111111,
              "#46039f"
             ],
             [
              0.2222222222222222,
              "#7201a8"
             ],
             [
              0.3333333333333333,
              "#9c179e"
             ],
             [
              0.4444444444444444,
              "#bd3786"
             ],
             [
              0.5555555555555556,
              "#d8576b"
             ],
             [
              0.6666666666666666,
              "#ed7953"
             ],
             [
              0.7777777777777778,
              "#fb9f3a"
             ],
             [
              0.8888888888888888,
              "#fdca26"
             ],
             [
              1,
              "#f0f921"
             ]
            ],
            "type": "heatmap"
           }
          ],
          "heatmapgl": [
           {
            "colorbar": {
             "outlinewidth": 0,
             "ticks": ""
            },
            "colorscale": [
             [
              0,
              "#0d0887"
             ],
             [
              0.1111111111111111,
              "#46039f"
             ],
             [
              0.2222222222222222,
              "#7201a8"
             ],
             [
              0.3333333333333333,
              "#9c179e"
             ],
             [
              0.4444444444444444,
              "#bd3786"
             ],
             [
              0.5555555555555556,
              "#d8576b"
             ],
             [
              0.6666666666666666,
              "#ed7953"
             ],
             [
              0.7777777777777778,
              "#fb9f3a"
             ],
             [
              0.8888888888888888,
              "#fdca26"
             ],
             [
              1,
              "#f0f921"
             ]
            ],
            "type": "heatmapgl"
           }
          ],
          "histogram": [
           {
            "marker": {
             "pattern": {
              "fillmode": "overlay",
              "size": 10,
              "solidity": 0.2
             }
            },
            "type": "histogram"
           }
          ],
          "histogram2d": [
           {
            "colorbar": {
             "outlinewidth": 0,
             "ticks": ""
            },
            "colorscale": [
             [
              0,
              "#0d0887"
             ],
             [
              0.1111111111111111,
              "#46039f"
             ],
             [
              0.2222222222222222,
              "#7201a8"
             ],
             [
              0.3333333333333333,
              "#9c179e"
             ],
             [
              0.4444444444444444,
              "#bd3786"
             ],
             [
              0.5555555555555556,
              "#d8576b"
             ],
             [
              0.6666666666666666,
              "#ed7953"
             ],
             [
              0.7777777777777778,
              "#fb9f3a"
             ],
             [
              0.8888888888888888,
              "#fdca26"
             ],
             [
              1,
              "#f0f921"
             ]
            ],
            "type": "histogram2d"
           }
          ],
          "histogram2dcontour": [
           {
            "colorbar": {
             "outlinewidth": 0,
             "ticks": ""
            },
            "colorscale": [
             [
              0,
              "#0d0887"
             ],
             [
              0.1111111111111111,
              "#46039f"
             ],
             [
              0.2222222222222222,
              "#7201a8"
             ],
             [
              0.3333333333333333,
              "#9c179e"
             ],
             [
              0.4444444444444444,
              "#bd3786"
             ],
             [
              0.5555555555555556,
              "#d8576b"
             ],
             [
              0.6666666666666666,
              "#ed7953"
             ],
             [
              0.7777777777777778,
              "#fb9f3a"
             ],
             [
              0.8888888888888888,
              "#fdca26"
             ],
             [
              1,
              "#f0f921"
             ]
            ],
            "type": "histogram2dcontour"
           }
          ],
          "mesh3d": [
           {
            "colorbar": {
             "outlinewidth": 0,
             "ticks": ""
            },
            "type": "mesh3d"
           }
          ],
          "parcoords": [
           {
            "line": {
             "colorbar": {
              "outlinewidth": 0,
              "ticks": ""
             }
            },
            "type": "parcoords"
           }
          ],
          "pie": [
           {
            "automargin": true,
            "type": "pie"
           }
          ],
          "scatter": [
           {
            "fillpattern": {
             "fillmode": "overlay",
             "size": 10,
             "solidity": 0.2
            },
            "type": "scatter"
           }
          ],
          "scatter3d": [
           {
            "line": {
             "colorbar": {
              "outlinewidth": 0,
              "ticks": ""
             }
            },
            "marker": {
             "colorbar": {
              "outlinewidth": 0,
              "ticks": ""
             }
            },
            "type": "scatter3d"
           }
          ],
          "scattercarpet": [
           {
            "marker": {
             "colorbar": {
              "outlinewidth": 0,
              "ticks": ""
             }
            },
            "type": "scattercarpet"
           }
          ],
          "scattergeo": [
           {
            "marker": {
             "colorbar": {
              "outlinewidth": 0,
              "ticks": ""
             }
            },
            "type": "scattergeo"
           }
          ],
          "scattergl": [
           {
            "marker": {
             "colorbar": {
              "outlinewidth": 0,
              "ticks": ""
             }
            },
            "type": "scattergl"
           }
          ],
          "scattermapbox": [
           {
            "marker": {
             "colorbar": {
              "outlinewidth": 0,
              "ticks": ""
             }
            },
            "type": "scattermapbox"
           }
          ],
          "scatterpolar": [
           {
            "marker": {
             "colorbar": {
              "outlinewidth": 0,
              "ticks": ""
             }
            },
            "type": "scatterpolar"
           }
          ],
          "scatterpolargl": [
           {
            "marker": {
             "colorbar": {
              "outlinewidth": 0,
              "ticks": ""
             }
            },
            "type": "scatterpolargl"
           }
          ],
          "scatterternary": [
           {
            "marker": {
             "colorbar": {
              "outlinewidth": 0,
              "ticks": ""
             }
            },
            "type": "scatterternary"
           }
          ],
          "surface": [
           {
            "colorbar": {
             "outlinewidth": 0,
             "ticks": ""
            },
            "colorscale": [
             [
              0,
              "#0d0887"
             ],
             [
              0.1111111111111111,
              "#46039f"
             ],
             [
              0.2222222222222222,
              "#7201a8"
             ],
             [
              0.3333333333333333,
              "#9c179e"
             ],
             [
              0.4444444444444444,
              "#bd3786"
             ],
             [
              0.5555555555555556,
              "#d8576b"
             ],
             [
              0.6666666666666666,
              "#ed7953"
             ],
             [
              0.7777777777777778,
              "#fb9f3a"
             ],
             [
              0.8888888888888888,
              "#fdca26"
             ],
             [
              1,
              "#f0f921"
             ]
            ],
            "type": "surface"
           }
          ],
          "table": [
           {
            "cells": {
             "fill": {
              "color": "#EBF0F8"
             },
             "line": {
              "color": "white"
             }
            },
            "header": {
             "fill": {
              "color": "#C8D4E3"
             },
             "line": {
              "color": "white"
             }
            },
            "type": "table"
           }
          ]
         },
         "layout": {
          "annotationdefaults": {
           "arrowcolor": "#2a3f5f",
           "arrowhead": 0,
           "arrowwidth": 1
          },
          "autotypenumbers": "strict",
          "coloraxis": {
           "colorbar": {
            "outlinewidth": 0,
            "ticks": ""
           }
          },
          "colorscale": {
           "diverging": [
            [
             0,
             "#8e0152"
            ],
            [
             0.1,
             "#c51b7d"
            ],
            [
             0.2,
             "#de77ae"
            ],
            [
             0.3,
             "#f1b6da"
            ],
            [
             0.4,
             "#fde0ef"
            ],
            [
             0.5,
             "#f7f7f7"
            ],
            [
             0.6,
             "#e6f5d0"
            ],
            [
             0.7,
             "#b8e186"
            ],
            [
             0.8,
             "#7fbc41"
            ],
            [
             0.9,
             "#4d9221"
            ],
            [
             1,
             "#276419"
            ]
           ],
           "sequential": [
            [
             0,
             "#0d0887"
            ],
            [
             0.1111111111111111,
             "#46039f"
            ],
            [
             0.2222222222222222,
             "#7201a8"
            ],
            [
             0.3333333333333333,
             "#9c179e"
            ],
            [
             0.4444444444444444,
             "#bd3786"
            ],
            [
             0.5555555555555556,
             "#d8576b"
            ],
            [
             0.6666666666666666,
             "#ed7953"
            ],
            [
             0.7777777777777778,
             "#fb9f3a"
            ],
            [
             0.8888888888888888,
             "#fdca26"
            ],
            [
             1,
             "#f0f921"
            ]
           ],
           "sequentialminus": [
            [
             0,
             "#0d0887"
            ],
            [
             0.1111111111111111,
             "#46039f"
            ],
            [
             0.2222222222222222,
             "#7201a8"
            ],
            [
             0.3333333333333333,
             "#9c179e"
            ],
            [
             0.4444444444444444,
             "#bd3786"
            ],
            [
             0.5555555555555556,
             "#d8576b"
            ],
            [
             0.6666666666666666,
             "#ed7953"
            ],
            [
             0.7777777777777778,
             "#fb9f3a"
            ],
            [
             0.8888888888888888,
             "#fdca26"
            ],
            [
             1,
             "#f0f921"
            ]
           ]
          },
          "colorway": [
           "#636efa",
           "#EF553B",
           "#00cc96",
           "#ab63fa",
           "#FFA15A",
           "#19d3f3",
           "#FF6692",
           "#B6E880",
           "#FF97FF",
           "#FECB52"
          ],
          "font": {
           "color": "#2a3f5f"
          },
          "geo": {
           "bgcolor": "white",
           "lakecolor": "white",
           "landcolor": "#E5ECF6",
           "showlakes": true,
           "showland": true,
           "subunitcolor": "white"
          },
          "hoverlabel": {
           "align": "left"
          },
          "hovermode": "closest",
          "mapbox": {
           "style": "light"
          },
          "paper_bgcolor": "white",
          "plot_bgcolor": "#E5ECF6",
          "polar": {
           "angularaxis": {
            "gridcolor": "white",
            "linecolor": "white",
            "ticks": ""
           },
           "bgcolor": "#E5ECF6",
           "radialaxis": {
            "gridcolor": "white",
            "linecolor": "white",
            "ticks": ""
           }
          },
          "scene": {
           "xaxis": {
            "backgroundcolor": "#E5ECF6",
            "gridcolor": "white",
            "gridwidth": 2,
            "linecolor": "white",
            "showbackground": true,
            "ticks": "",
            "zerolinecolor": "white"
           },
           "yaxis": {
            "backgroundcolor": "#E5ECF6",
            "gridcolor": "white",
            "gridwidth": 2,
            "linecolor": "white",
            "showbackground": true,
            "ticks": "",
            "zerolinecolor": "white"
           },
           "zaxis": {
            "backgroundcolor": "#E5ECF6",
            "gridcolor": "white",
            "gridwidth": 2,
            "linecolor": "white",
            "showbackground": true,
            "ticks": "",
            "zerolinecolor": "white"
           }
          },
          "shapedefaults": {
           "line": {
            "color": "#2a3f5f"
           }
          },
          "ternary": {
           "aaxis": {
            "gridcolor": "white",
            "linecolor": "white",
            "ticks": ""
           },
           "baxis": {
            "gridcolor": "white",
            "linecolor": "white",
            "ticks": ""
           },
           "bgcolor": "#E5ECF6",
           "caxis": {
            "gridcolor": "white",
            "linecolor": "white",
            "ticks": ""
           }
          },
          "title": {
           "x": 0.05
          },
          "xaxis": {
           "automargin": true,
           "gridcolor": "white",
           "linecolor": "white",
           "ticks": "",
           "title": {
            "standoff": 15
           },
           "zerolinecolor": "white",
           "zerolinewidth": 2
          },
          "yaxis": {
           "automargin": true,
           "gridcolor": "white",
           "linecolor": "white",
           "ticks": "",
           "title": {
            "standoff": 15
           },
           "zerolinecolor": "white",
           "zerolinewidth": 2
          }
         }
        },
        "title": {
         "font": {
          "color": "Green",
          "size": 18
         },
         "text": "Top 5 countries with the most COVID-19 Death Rates in Africa",
         "x": 0.5
        },
        "xaxis": {
         "anchor": "y",
         "domain": [
          0,
          1
         ],
         "title": {
          "text": "Country"
         }
        },
        "yaxis": {
         "anchor": "x",
         "domain": [
          0,
          1
         ],
         "title": {
          "text": "Total Deaths"
         }
        }
       }
      }
     },
     "metadata": {},
     "output_type": "display_data"
    }
   ],
   "source": [
    "df1 = df.sort_values(by = ['Total Deaths'],ascending = False).reset_index().head(5)\n",
    "\n",
    "Rates= px.bar(df1, x = 'Country', y = 'Total Deaths', color = 'Total Deaths',\n",
    "             color_continuous_scale = 'reds')\n",
    "\n",
    "Rates.update_layout(title = 'Top 5 countries with the most COVID-19 Death Rates in Africa',\n",
    "                  title_x = 0.5,\n",
    "                  title_font = dict(size = 18, color = 'Green'))\n",
    "Rates.show()\n"
   ]
  },
  {
   "cell_type": "code",
   "execution_count": 10,
   "metadata": {},
   "outputs": [
    {
     "data": {
      "application/vnd.plotly.v1+json": {
       "config": {
        "plotlyServerURL": "https://plot.ly"
       },
       "data": [
        {
         "coloraxis": "coloraxis",
         "geo": "geo",
         "hovertemplate": "<b>%{hovertext}</b><br><br>Country=%{location}<br>Total Cases=%{z}<extra></extra>",
         "hovertext": [
          "South Africa",
          "Morocco",
          "Tunisia",
          "Ethiopia",
          "Libya",
          "Egypt",
          "Kenya",
          "Zambia",
          "Nigeria",
          "Botswana",
          "Algeria",
          "Zimbabwe",
          "Mozambique",
          "Namibia",
          "Ghana",
          "Uganda",
          "Rwanda",
          "Cameroon",
          "Angola",
          "Malawi",
          "Senegal",
          "DRC",
          "Ivory Coast",
          "Eswatini",
          "Madagascar",
          "Sudan",
          "Gabon",
          "Cabo Verde",
          "Mauritania",
          "Guinea",
          "Togo",
          "Tanzania",
          "Lesotho",
          "Burundi",
          "Benin",
          "Seychelles",
          "Somalia",
          "Mauritius",
          "Mali",
          "Congo",
          "Burkina Faso",
          "South Sudan",
          "Equatorial Guinea",
          "Djibouti",
          "CAR",
          "Gambia",
          "Eritrea",
          "Niger",
          "Sierra Leone",
          "Comoros",
          "Guinea-Bissau",
          "Liberia",
          "Chad",
          "Sao Tome and Principe"
         ],
         "locationmode": "country names",
         "locations": [
          "South Africa",
          "Morocco",
          "Tunisia",
          "Ethiopia",
          "Libya",
          "Egypt",
          "Kenya",
          "Zambia",
          "Nigeria",
          "Botswana",
          "Algeria",
          "Zimbabwe",
          "Mozambique",
          "Namibia",
          "Ghana",
          "Uganda",
          "Rwanda",
          "Cameroon",
          "Angola",
          "Malawi",
          "Senegal",
          "DRC",
          "Ivory Coast",
          "Eswatini",
          "Madagascar",
          "Sudan",
          "Gabon",
          "Cabo Verde",
          "Mauritania",
          "Guinea",
          "Togo",
          "Tanzania",
          "Lesotho",
          "Burundi",
          "Benin",
          "Seychelles",
          "Somalia",
          "Mauritius",
          "Mali",
          "Congo",
          "Burkina Faso",
          "South Sudan",
          "Equatorial Guinea",
          "Djibouti",
          "CAR",
          "Gambia",
          "Eritrea",
          "Niger",
          "Sierra Leone",
          "Comoros",
          "Guinea-Bissau",
          "Liberia",
          "Chad",
          "Sao Tome and Principe"
         ],
         "name": "",
         "type": "choropleth",
         "z": [
          3458286,
          963092,
          726706,
          420342,
          388734,
          385575,
          295028,
          254274,
          241513,
          219509,
          218432,
          213258,
          189080,
          147974,
          142986,
          140737,
          111786,
          109367,
          81593,
          75075,
          75055,
          74793,
          71004,
          66109,
          50279,
          46518,
          41798,
          41732,
          41473,
          32051,
          30163,
          29306,
          28408,
          27366,
          24935,
          24788,
          23532,
          23493,
          21008,
          20089,
          17632,
          15242,
          13710,
          13656,
          12163,
          10170,
          8011,
          7405,
          7064,
          6515,
          6484,
          6278,
          5701,
          3897
         ]
        }
       ],
       "layout": {
        "coloraxis": {
         "colorbar": {
          "title": {
           "text": "Total Cases"
          }
         },
         "colorscale": [
          [
           0,
           "rgb(255,245,240)"
          ],
          [
           0.125,
           "rgb(254,224,210)"
          ],
          [
           0.25,
           "rgb(252,187,161)"
          ],
          [
           0.375,
           "rgb(252,146,114)"
          ],
          [
           0.5,
           "rgb(251,106,74)"
          ],
          [
           0.625,
           "rgb(239,59,44)"
          ],
          [
           0.75,
           "rgb(203,24,29)"
          ],
          [
           0.875,
           "rgb(165,15,21)"
          ],
          [
           1,
           "rgb(103,0,13)"
          ]
         ]
        },
        "geo": {
         "center": {},
         "domain": {
          "x": [
           0,
           1
          ],
          "y": [
           0,
           1
          ]
         },
         "projection": {
          "type": "equirectangular"
         },
         "scope": "africa",
         "showcoastlines": false,
         "showframe": false
        },
        "legend": {
         "tracegroupgap": 0
        },
        "margin": {
         "t": 60
        },
        "template": {
         "data": {
          "bar": [
           {
            "error_x": {
             "color": "#2a3f5f"
            },
            "error_y": {
             "color": "#2a3f5f"
            },
            "marker": {
             "line": {
              "color": "#E5ECF6",
              "width": 0.5
             },
             "pattern": {
              "fillmode": "overlay",
              "size": 10,
              "solidity": 0.2
             }
            },
            "type": "bar"
           }
          ],
          "barpolar": [
           {
            "marker": {
             "line": {
              "color": "#E5ECF6",
              "width": 0.5
             },
             "pattern": {
              "fillmode": "overlay",
              "size": 10,
              "solidity": 0.2
             }
            },
            "type": "barpolar"
           }
          ],
          "carpet": [
           {
            "aaxis": {
             "endlinecolor": "#2a3f5f",
             "gridcolor": "white",
             "linecolor": "white",
             "minorgridcolor": "white",
             "startlinecolor": "#2a3f5f"
            },
            "baxis": {
             "endlinecolor": "#2a3f5f",
             "gridcolor": "white",
             "linecolor": "white",
             "minorgridcolor": "white",
             "startlinecolor": "#2a3f5f"
            },
            "type": "carpet"
           }
          ],
          "choropleth": [
           {
            "colorbar": {
             "outlinewidth": 0,
             "ticks": ""
            },
            "type": "choropleth"
           }
          ],
          "contour": [
           {
            "colorbar": {
             "outlinewidth": 0,
             "ticks": ""
            },
            "colorscale": [
             [
              0,
              "#0d0887"
             ],
             [
              0.1111111111111111,
              "#46039f"
             ],
             [
              0.2222222222222222,
              "#7201a8"
             ],
             [
              0.3333333333333333,
              "#9c179e"
             ],
             [
              0.4444444444444444,
              "#bd3786"
             ],
             [
              0.5555555555555556,
              "#d8576b"
             ],
             [
              0.6666666666666666,
              "#ed7953"
             ],
             [
              0.7777777777777778,
              "#fb9f3a"
             ],
             [
              0.8888888888888888,
              "#fdca26"
             ],
             [
              1,
              "#f0f921"
             ]
            ],
            "type": "contour"
           }
          ],
          "contourcarpet": [
           {
            "colorbar": {
             "outlinewidth": 0,
             "ticks": ""
            },
            "type": "contourcarpet"
           }
          ],
          "heatmap": [
           {
            "colorbar": {
             "outlinewidth": 0,
             "ticks": ""
            },
            "colorscale": [
             [
              0,
              "#0d0887"
             ],
             [
              0.1111111111111111,
              "#46039f"
             ],
             [
              0.2222222222222222,
              "#7201a8"
             ],
             [
              0.3333333333333333,
              "#9c179e"
             ],
             [
              0.4444444444444444,
              "#bd3786"
             ],
             [
              0.5555555555555556,
              "#d8576b"
             ],
             [
              0.6666666666666666,
              "#ed7953"
             ],
             [
              0.7777777777777778,
              "#fb9f3a"
             ],
             [
              0.8888888888888888,
              "#fdca26"
             ],
             [
              1,
              "#f0f921"
             ]
            ],
            "type": "heatmap"
           }
          ],
          "heatmapgl": [
           {
            "colorbar": {
             "outlinewidth": 0,
             "ticks": ""
            },
            "colorscale": [
             [
              0,
              "#0d0887"
             ],
             [
              0.1111111111111111,
              "#46039f"
             ],
             [
              0.2222222222222222,
              "#7201a8"
             ],
             [
              0.3333333333333333,
              "#9c179e"
             ],
             [
              0.4444444444444444,
              "#bd3786"
             ],
             [
              0.5555555555555556,
              "#d8576b"
             ],
             [
              0.6666666666666666,
              "#ed7953"
             ],
             [
              0.7777777777777778,
              "#fb9f3a"
             ],
             [
              0.8888888888888888,
              "#fdca26"
             ],
             [
              1,
              "#f0f921"
             ]
            ],
            "type": "heatmapgl"
           }
          ],
          "histogram": [
           {
            "marker": {
             "pattern": {
              "fillmode": "overlay",
              "size": 10,
              "solidity": 0.2
             }
            },
            "type": "histogram"
           }
          ],
          "histogram2d": [
           {
            "colorbar": {
             "outlinewidth": 0,
             "ticks": ""
            },
            "colorscale": [
             [
              0,
              "#0d0887"
             ],
             [
              0.1111111111111111,
              "#46039f"
             ],
             [
              0.2222222222222222,
              "#7201a8"
             ],
             [
              0.3333333333333333,
              "#9c179e"
             ],
             [
              0.4444444444444444,
              "#bd3786"
             ],
             [
              0.5555555555555556,
              "#d8576b"
             ],
             [
              0.6666666666666666,
              "#ed7953"
             ],
             [
              0.7777777777777778,
              "#fb9f3a"
             ],
             [
              0.8888888888888888,
              "#fdca26"
             ],
             [
              1,
              "#f0f921"
             ]
            ],
            "type": "histogram2d"
           }
          ],
          "histogram2dcontour": [
           {
            "colorbar": {
             "outlinewidth": 0,
             "ticks": ""
            },
            "colorscale": [
             [
              0,
              "#0d0887"
             ],
             [
              0.1111111111111111,
              "#46039f"
             ],
             [
              0.2222222222222222,
              "#7201a8"
             ],
             [
              0.3333333333333333,
              "#9c179e"
             ],
             [
              0.4444444444444444,
              "#bd3786"
             ],
             [
              0.5555555555555556,
              "#d8576b"
             ],
             [
              0.6666666666666666,
              "#ed7953"
             ],
             [
              0.7777777777777778,
              "#fb9f3a"
             ],
             [
              0.8888888888888888,
              "#fdca26"
             ],
             [
              1,
              "#f0f921"
             ]
            ],
            "type": "histogram2dcontour"
           }
          ],
          "mesh3d": [
           {
            "colorbar": {
             "outlinewidth": 0,
             "ticks": ""
            },
            "type": "mesh3d"
           }
          ],
          "parcoords": [
           {
            "line": {
             "colorbar": {
              "outlinewidth": 0,
              "ticks": ""
             }
            },
            "type": "parcoords"
           }
          ],
          "pie": [
           {
            "automargin": true,
            "type": "pie"
           }
          ],
          "scatter": [
           {
            "fillpattern": {
             "fillmode": "overlay",
             "size": 10,
             "solidity": 0.2
            },
            "type": "scatter"
           }
          ],
          "scatter3d": [
           {
            "line": {
             "colorbar": {
              "outlinewidth": 0,
              "ticks": ""
             }
            },
            "marker": {
             "colorbar": {
              "outlinewidth": 0,
              "ticks": ""
             }
            },
            "type": "scatter3d"
           }
          ],
          "scattercarpet": [
           {
            "marker": {
             "colorbar": {
              "outlinewidth": 0,
              "ticks": ""
             }
            },
            "type": "scattercarpet"
           }
          ],
          "scattergeo": [
           {
            "marker": {
             "colorbar": {
              "outlinewidth": 0,
              "ticks": ""
             }
            },
            "type": "scattergeo"
           }
          ],
          "scattergl": [
           {
            "marker": {
             "colorbar": {
              "outlinewidth": 0,
              "ticks": ""
             }
            },
            "type": "scattergl"
           }
          ],
          "scattermapbox": [
           {
            "marker": {
             "colorbar": {
              "outlinewidth": 0,
              "ticks": ""
             }
            },
            "type": "scattermapbox"
           }
          ],
          "scatterpolar": [
           {
            "marker": {
             "colorbar": {
              "outlinewidth": 0,
              "ticks": ""
             }
            },
            "type": "scatterpolar"
           }
          ],
          "scatterpolargl": [
           {
            "marker": {
             "colorbar": {
              "outlinewidth": 0,
              "ticks": ""
             }
            },
            "type": "scatterpolargl"
           }
          ],
          "scatterternary": [
           {
            "marker": {
             "colorbar": {
              "outlinewidth": 0,
              "ticks": ""
             }
            },
            "type": "scatterternary"
           }
          ],
          "surface": [
           {
            "colorbar": {
             "outlinewidth": 0,
             "ticks": ""
            },
            "colorscale": [
             [
              0,
              "#0d0887"
             ],
             [
              0.1111111111111111,
              "#46039f"
             ],
             [
              0.2222222222222222,
              "#7201a8"
             ],
             [
              0.3333333333333333,
              "#9c179e"
             ],
             [
              0.4444444444444444,
              "#bd3786"
             ],
             [
              0.5555555555555556,
              "#d8576b"
             ],
             [
              0.6666666666666666,
              "#ed7953"
             ],
             [
              0.7777777777777778,
              "#fb9f3a"
             ],
             [
              0.8888888888888888,
              "#fdca26"
             ],
             [
              1,
              "#f0f921"
             ]
            ],
            "type": "surface"
           }
          ],
          "table": [
           {
            "cells": {
             "fill": {
              "color": "#EBF0F8"
             },
             "line": {
              "color": "white"
             }
            },
            "header": {
             "fill": {
              "color": "#C8D4E3"
             },
             "line": {
              "color": "white"
             }
            },
            "type": "table"
           }
          ]
         },
         "layout": {
          "annotationdefaults": {
           "arrowcolor": "#2a3f5f",
           "arrowhead": 0,
           "arrowwidth": 1
          },
          "autotypenumbers": "strict",
          "coloraxis": {
           "colorbar": {
            "outlinewidth": 0,
            "ticks": ""
           }
          },
          "colorscale": {
           "diverging": [
            [
             0,
             "#8e0152"
            ],
            [
             0.1,
             "#c51b7d"
            ],
            [
             0.2,
             "#de77ae"
            ],
            [
             0.3,
             "#f1b6da"
            ],
            [
             0.4,
             "#fde0ef"
            ],
            [
             0.5,
             "#f7f7f7"
            ],
            [
             0.6,
             "#e6f5d0"
            ],
            [
             0.7,
             "#b8e186"
            ],
            [
             0.8,
             "#7fbc41"
            ],
            [
             0.9,
             "#4d9221"
            ],
            [
             1,
             "#276419"
            ]
           ],
           "sequential": [
            [
             0,
             "#0d0887"
            ],
            [
             0.1111111111111111,
             "#46039f"
            ],
            [
             0.2222222222222222,
             "#7201a8"
            ],
            [
             0.3333333333333333,
             "#9c179e"
            ],
            [
             0.4444444444444444,
             "#bd3786"
            ],
            [
             0.5555555555555556,
             "#d8576b"
            ],
            [
             0.6666666666666666,
             "#ed7953"
            ],
            [
             0.7777777777777778,
             "#fb9f3a"
            ],
            [
             0.8888888888888888,
             "#fdca26"
            ],
            [
             1,
             "#f0f921"
            ]
           ],
           "sequentialminus": [
            [
             0,
             "#0d0887"
            ],
            [
             0.1111111111111111,
             "#46039f"
            ],
            [
             0.2222222222222222,
             "#7201a8"
            ],
            [
             0.3333333333333333,
             "#9c179e"
            ],
            [
             0.4444444444444444,
             "#bd3786"
            ],
            [
             0.5555555555555556,
             "#d8576b"
            ],
            [
             0.6666666666666666,
             "#ed7953"
            ],
            [
             0.7777777777777778,
             "#fb9f3a"
            ],
            [
             0.8888888888888888,
             "#fdca26"
            ],
            [
             1,
             "#f0f921"
            ]
           ]
          },
          "colorway": [
           "#636efa",
           "#EF553B",
           "#00cc96",
           "#ab63fa",
           "#FFA15A",
           "#19d3f3",
           "#FF6692",
           "#B6E880",
           "#FF97FF",
           "#FECB52"
          ],
          "font": {
           "color": "#2a3f5f"
          },
          "geo": {
           "bgcolor": "white",
           "lakecolor": "white",
           "landcolor": "#E5ECF6",
           "showlakes": true,
           "showland": true,
           "subunitcolor": "white"
          },
          "hoverlabel": {
           "align": "left"
          },
          "hovermode": "closest",
          "mapbox": {
           "style": "light"
          },
          "paper_bgcolor": "white",
          "plot_bgcolor": "#E5ECF6",
          "polar": {
           "angularaxis": {
            "gridcolor": "white",
            "linecolor": "white",
            "ticks": ""
           },
           "bgcolor": "#E5ECF6",
           "radialaxis": {
            "gridcolor": "white",
            "linecolor": "white",
            "ticks": ""
           }
          },
          "scene": {
           "xaxis": {
            "backgroundcolor": "#E5ECF6",
            "gridcolor": "white",
            "gridwidth": 2,
            "linecolor": "white",
            "showbackground": true,
            "ticks": "",
            "zerolinecolor": "white"
           },
           "yaxis": {
            "backgroundcolor": "#E5ECF6",
            "gridcolor": "white",
            "gridwidth": 2,
            "linecolor": "white",
            "showbackground": true,
            "ticks": "",
            "zerolinecolor": "white"
           },
           "zaxis": {
            "backgroundcolor": "#E5ECF6",
            "gridcolor": "white",
            "gridwidth": 2,
            "linecolor": "white",
            "showbackground": true,
            "ticks": "",
            "zerolinecolor": "white"
           }
          },
          "shapedefaults": {
           "line": {
            "color": "#2a3f5f"
           }
          },
          "ternary": {
           "aaxis": {
            "gridcolor": "white",
            "linecolor": "white",
            "ticks": ""
           },
           "baxis": {
            "gridcolor": "white",
            "linecolor": "white",
            "ticks": ""
           },
           "bgcolor": "#E5ECF6",
           "caxis": {
            "gridcolor": "white",
            "linecolor": "white",
            "ticks": ""
           }
          },
          "title": {
           "x": 0.05
          },
          "xaxis": {
           "automargin": true,
           "gridcolor": "white",
           "linecolor": "white",
           "ticks": "",
           "title": {
            "standoff": 15
           },
           "zerolinecolor": "white",
           "zerolinewidth": 2
          },
          "yaxis": {
           "automargin": true,
           "gridcolor": "white",
           "linecolor": "white",
           "ticks": "",
           "title": {
            "standoff": 15
           },
           "zerolinecolor": "white",
           "zerolinewidth": 2
          }
         }
        },
        "title": {
         "font": {
          "color": "Darkblue",
          "size": 16
         },
         "text": "COVID-19 Cases in Africa Countries",
         "x": 0.5
        }
       }
      }
     },
     "metadata": {},
     "output_type": "display_data"
    }
   ],
   "source": [
    "df1 = df.sort_values(by=['Total Cases'],ascending = False).reset_index()\n",
    "\n",
    "fig = px.choropleth(df1,\n",
    "                    locations = 'Country',\n",
    "                    locationmode = 'country names',\n",
    "                    color = 'Total Cases',\n",
    "                    scope = 'africa',\n",
    "                    hover_name = 'Country',\n",
    "                    color_continuous_scale = 'reds')\n",
    "\n",
    "fig.update_layout(title= 'COVID-19 Cases in Africa Countries',\n",
    "                  title_x = 0.5,\n",
    "                  title_font = dict(size = 16, color = 'Darkblue'),\n",
    "                  geo = dict(showframe = False,\n",
    "                             showcoastlines = False,\n",
    "                             projection_type = 'equirectangular'))\n",
    "fig.show()"
   ]
  },
  {
   "cell_type": "code",
   "execution_count": 11,
   "metadata": {},
   "outputs": [
    {
     "data": {
      "application/vnd.plotly.v1+json": {
       "config": {
        "plotlyServerURL": "https://plot.ly"
       },
       "data": [
        {
         "alignmentgroup": "True",
         "hovertemplate": "Country=%{x}<br>Total Deaths=%{marker.color}<extra></extra>",
         "legendgroup": "",
         "marker": {
          "color": [
           91145,
           25569,
           21752,
           14849,
           6937,
           6276,
           5710,
           5378,
           5004,
           3734
          ],
          "coloraxis": "coloraxis",
          "pattern": {
           "shape": ""
          }
         },
         "name": "",
         "offsetgroup": "",
         "orientation": "v",
         "showlegend": false,
         "textposition": "auto",
         "type": "bar",
         "x": [
          "South Africa",
          "Tunisia",
          "Egypt",
          "Morocco",
          "Ethiopia",
          "Algeria",
          "Libya",
          "Kenya",
          "Zimbabwe",
          "Zambia"
         ],
         "xaxis": "x",
         "y": [
          91145,
          25569,
          21752,
          14849,
          6937,
          6276,
          5710,
          5378,
          5004,
          3734
         ],
         "yaxis": "y"
        }
       ],
       "layout": {
        "barmode": "relative",
        "coloraxis": {
         "colorbar": {
          "title": {
           "text": "Total Deaths"
          }
         },
         "colorscale": [
          [
           0,
           "rgb(0, 0, 0)"
          ],
          [
           0.09090909090909091,
           "rgb(16, 16, 16)"
          ],
          [
           0.18181818181818182,
           "rgb(38, 38, 38)"
          ],
          [
           0.2727272727272727,
           "rgb(59, 59, 59)"
          ],
          [
           0.36363636363636365,
           "rgb(81, 80, 80)"
          ],
          [
           0.45454545454545453,
           "rgb(102, 101, 101)"
          ],
          [
           0.5454545454545454,
           "rgb(124, 123, 122)"
          ],
          [
           0.6363636363636364,
           "rgb(146, 146, 145)"
          ],
          [
           0.7272727272727273,
           "rgb(171, 171, 170)"
          ],
          [
           0.8181818181818182,
           "rgb(197, 197, 195)"
          ],
          [
           0.9090909090909091,
           "rgb(224, 224, 223)"
          ],
          [
           1,
           "rgb(254, 254, 253)"
          ]
         ]
        },
        "legend": {
         "tracegroupgap": 0
        },
        "margin": {
         "t": 60
        },
        "template": {
         "data": {
          "bar": [
           {
            "error_x": {
             "color": "#2a3f5f"
            },
            "error_y": {
             "color": "#2a3f5f"
            },
            "marker": {
             "line": {
              "color": "#E5ECF6",
              "width": 0.5
             },
             "pattern": {
              "fillmode": "overlay",
              "size": 10,
              "solidity": 0.2
             }
            },
            "type": "bar"
           }
          ],
          "barpolar": [
           {
            "marker": {
             "line": {
              "color": "#E5ECF6",
              "width": 0.5
             },
             "pattern": {
              "fillmode": "overlay",
              "size": 10,
              "solidity": 0.2
             }
            },
            "type": "barpolar"
           }
          ],
          "carpet": [
           {
            "aaxis": {
             "endlinecolor": "#2a3f5f",
             "gridcolor": "white",
             "linecolor": "white",
             "minorgridcolor": "white",
             "startlinecolor": "#2a3f5f"
            },
            "baxis": {
             "endlinecolor": "#2a3f5f",
             "gridcolor": "white",
             "linecolor": "white",
             "minorgridcolor": "white",
             "startlinecolor": "#2a3f5f"
            },
            "type": "carpet"
           }
          ],
          "choropleth": [
           {
            "colorbar": {
             "outlinewidth": 0,
             "ticks": ""
            },
            "type": "choropleth"
           }
          ],
          "contour": [
           {
            "colorbar": {
             "outlinewidth": 0,
             "ticks": ""
            },
            "colorscale": [
             [
              0,
              "#0d0887"
             ],
             [
              0.1111111111111111,
              "#46039f"
             ],
             [
              0.2222222222222222,
              "#7201a8"
             ],
             [
              0.3333333333333333,
              "#9c179e"
             ],
             [
              0.4444444444444444,
              "#bd3786"
             ],
             [
              0.5555555555555556,
              "#d8576b"
             ],
             [
              0.6666666666666666,
              "#ed7953"
             ],
             [
              0.7777777777777778,
              "#fb9f3a"
             ],
             [
              0.8888888888888888,
              "#fdca26"
             ],
             [
              1,
              "#f0f921"
             ]
            ],
            "type": "contour"
           }
          ],
          "contourcarpet": [
           {
            "colorbar": {
             "outlinewidth": 0,
             "ticks": ""
            },
            "type": "contourcarpet"
           }
          ],
          "heatmap": [
           {
            "colorbar": {
             "outlinewidth": 0,
             "ticks": ""
            },
            "colorscale": [
             [
              0,
              "#0d0887"
             ],
             [
              0.1111111111111111,
              "#46039f"
             ],
             [
              0.2222222222222222,
              "#7201a8"
             ],
             [
              0.3333333333333333,
              "#9c179e"
             ],
             [
              0.4444444444444444,
              "#bd3786"
             ],
             [
              0.5555555555555556,
              "#d8576b"
             ],
             [
              0.6666666666666666,
              "#ed7953"
             ],
             [
              0.7777777777777778,
              "#fb9f3a"
             ],
             [
              0.8888888888888888,
              "#fdca26"
             ],
             [
              1,
              "#f0f921"
             ]
            ],
            "type": "heatmap"
           }
          ],
          "heatmapgl": [
           {
            "colorbar": {
             "outlinewidth": 0,
             "ticks": ""
            },
            "colorscale": [
             [
              0,
              "#0d0887"
             ],
             [
              0.1111111111111111,
              "#46039f"
             ],
             [
              0.2222222222222222,
              "#7201a8"
             ],
             [
              0.3333333333333333,
              "#9c179e"
             ],
             [
              0.4444444444444444,
              "#bd3786"
             ],
             [
              0.5555555555555556,
              "#d8576b"
             ],
             [
              0.6666666666666666,
              "#ed7953"
             ],
             [
              0.7777777777777778,
              "#fb9f3a"
             ],
             [
              0.8888888888888888,
              "#fdca26"
             ],
             [
              1,
              "#f0f921"
             ]
            ],
            "type": "heatmapgl"
           }
          ],
          "histogram": [
           {
            "marker": {
             "pattern": {
              "fillmode": "overlay",
              "size": 10,
              "solidity": 0.2
             }
            },
            "type": "histogram"
           }
          ],
          "histogram2d": [
           {
            "colorbar": {
             "outlinewidth": 0,
             "ticks": ""
            },
            "colorscale": [
             [
              0,
              "#0d0887"
             ],
             [
              0.1111111111111111,
              "#46039f"
             ],
             [
              0.2222222222222222,
              "#7201a8"
             ],
             [
              0.3333333333333333,
              "#9c179e"
             ],
             [
              0.4444444444444444,
              "#bd3786"
             ],
             [
              0.5555555555555556,
              "#d8576b"
             ],
             [
              0.6666666666666666,
              "#ed7953"
             ],
             [
              0.7777777777777778,
              "#fb9f3a"
             ],
             [
              0.8888888888888888,
              "#fdca26"
             ],
             [
              1,
              "#f0f921"
             ]
            ],
            "type": "histogram2d"
           }
          ],
          "histogram2dcontour": [
           {
            "colorbar": {
             "outlinewidth": 0,
             "ticks": ""
            },
            "colorscale": [
             [
              0,
              "#0d0887"
             ],
             [
              0.1111111111111111,
              "#46039f"
             ],
             [
              0.2222222222222222,
              "#7201a8"
             ],
             [
              0.3333333333333333,
              "#9c179e"
             ],
             [
              0.4444444444444444,
              "#bd3786"
             ],
             [
              0.5555555555555556,
              "#d8576b"
             ],
             [
              0.6666666666666666,
              "#ed7953"
             ],
             [
              0.7777777777777778,
              "#fb9f3a"
             ],
             [
              0.8888888888888888,
              "#fdca26"
             ],
             [
              1,
              "#f0f921"
             ]
            ],
            "type": "histogram2dcontour"
           }
          ],
          "mesh3d": [
           {
            "colorbar": {
             "outlinewidth": 0,
             "ticks": ""
            },
            "type": "mesh3d"
           }
          ],
          "parcoords": [
           {
            "line": {
             "colorbar": {
              "outlinewidth": 0,
              "ticks": ""
             }
            },
            "type": "parcoords"
           }
          ],
          "pie": [
           {
            "automargin": true,
            "type": "pie"
           }
          ],
          "scatter": [
           {
            "fillpattern": {
             "fillmode": "overlay",
             "size": 10,
             "solidity": 0.2
            },
            "type": "scatter"
           }
          ],
          "scatter3d": [
           {
            "line": {
             "colorbar": {
              "outlinewidth": 0,
              "ticks": ""
             }
            },
            "marker": {
             "colorbar": {
              "outlinewidth": 0,
              "ticks": ""
             }
            },
            "type": "scatter3d"
           }
          ],
          "scattercarpet": [
           {
            "marker": {
             "colorbar": {
              "outlinewidth": 0,
              "ticks": ""
             }
            },
            "type": "scattercarpet"
           }
          ],
          "scattergeo": [
           {
            "marker": {
             "colorbar": {
              "outlinewidth": 0,
              "ticks": ""
             }
            },
            "type": "scattergeo"
           }
          ],
          "scattergl": [
           {
            "marker": {
             "colorbar": {
              "outlinewidth": 0,
              "ticks": ""
             }
            },
            "type": "scattergl"
           }
          ],
          "scattermapbox": [
           {
            "marker": {
             "colorbar": {
              "outlinewidth": 0,
              "ticks": ""
             }
            },
            "type": "scattermapbox"
           }
          ],
          "scatterpolar": [
           {
            "marker": {
             "colorbar": {
              "outlinewidth": 0,
              "ticks": ""
             }
            },
            "type": "scatterpolar"
           }
          ],
          "scatterpolargl": [
           {
            "marker": {
             "colorbar": {
              "outlinewidth": 0,
              "ticks": ""
             }
            },
            "type": "scatterpolargl"
           }
          ],
          "scatterternary": [
           {
            "marker": {
             "colorbar": {
              "outlinewidth": 0,
              "ticks": ""
             }
            },
            "type": "scatterternary"
           }
          ],
          "surface": [
           {
            "colorbar": {
             "outlinewidth": 0,
             "ticks": ""
            },
            "colorscale": [
             [
              0,
              "#0d0887"
             ],
             [
              0.1111111111111111,
              "#46039f"
             ],
             [
              0.2222222222222222,
              "#7201a8"
             ],
             [
              0.3333333333333333,
              "#9c179e"
             ],
             [
              0.4444444444444444,
              "#bd3786"
             ],
             [
              0.5555555555555556,
              "#d8576b"
             ],
             [
              0.6666666666666666,
              "#ed7953"
             ],
             [
              0.7777777777777778,
              "#fb9f3a"
             ],
             [
              0.8888888888888888,
              "#fdca26"
             ],
             [
              1,
              "#f0f921"
             ]
            ],
            "type": "surface"
           }
          ],
          "table": [
           {
            "cells": {
             "fill": {
              "color": "#EBF0F8"
             },
             "line": {
              "color": "white"
             }
            },
            "header": {
             "fill": {
              "color": "#C8D4E3"
             },
             "line": {
              "color": "white"
             }
            },
            "type": "table"
           }
          ]
         },
         "layout": {
          "annotationdefaults": {
           "arrowcolor": "#2a3f5f",
           "arrowhead": 0,
           "arrowwidth": 1
          },
          "autotypenumbers": "strict",
          "coloraxis": {
           "colorbar": {
            "outlinewidth": 0,
            "ticks": ""
           }
          },
          "colorscale": {
           "diverging": [
            [
             0,
             "#8e0152"
            ],
            [
             0.1,
             "#c51b7d"
            ],
            [
             0.2,
             "#de77ae"
            ],
            [
             0.3,
             "#f1b6da"
            ],
            [
             0.4,
             "#fde0ef"
            ],
            [
             0.5,
             "#f7f7f7"
            ],
            [
             0.6,
             "#e6f5d0"
            ],
            [
             0.7,
             "#b8e186"
            ],
            [
             0.8,
             "#7fbc41"
            ],
            [
             0.9,
             "#4d9221"
            ],
            [
             1,
             "#276419"
            ]
           ],
           "sequential": [
            [
             0,
             "#0d0887"
            ],
            [
             0.1111111111111111,
             "#46039f"
            ],
            [
             0.2222222222222222,
             "#7201a8"
            ],
            [
             0.3333333333333333,
             "#9c179e"
            ],
            [
             0.4444444444444444,
             "#bd3786"
            ],
            [
             0.5555555555555556,
             "#d8576b"
            ],
            [
             0.6666666666666666,
             "#ed7953"
            ],
            [
             0.7777777777777778,
             "#fb9f3a"
            ],
            [
             0.8888888888888888,
             "#fdca26"
            ],
            [
             1,
             "#f0f921"
            ]
           ],
           "sequentialminus": [
            [
             0,
             "#0d0887"
            ],
            [
             0.1111111111111111,
             "#46039f"
            ],
            [
             0.2222222222222222,
             "#7201a8"
            ],
            [
             0.3333333333333333,
             "#9c179e"
            ],
            [
             0.4444444444444444,
             "#bd3786"
            ],
            [
             0.5555555555555556,
             "#d8576b"
            ],
            [
             0.6666666666666666,
             "#ed7953"
            ],
            [
             0.7777777777777778,
             "#fb9f3a"
            ],
            [
             0.8888888888888888,
             "#fdca26"
            ],
            [
             1,
             "#f0f921"
            ]
           ]
          },
          "colorway": [
           "#636efa",
           "#EF553B",
           "#00cc96",
           "#ab63fa",
           "#FFA15A",
           "#19d3f3",
           "#FF6692",
           "#B6E880",
           "#FF97FF",
           "#FECB52"
          ],
          "font": {
           "color": "#2a3f5f"
          },
          "geo": {
           "bgcolor": "white",
           "lakecolor": "white",
           "landcolor": "#E5ECF6",
           "showlakes": true,
           "showland": true,
           "subunitcolor": "white"
          },
          "hoverlabel": {
           "align": "left"
          },
          "hovermode": "closest",
          "mapbox": {
           "style": "light"
          },
          "paper_bgcolor": "white",
          "plot_bgcolor": "#E5ECF6",
          "polar": {
           "angularaxis": {
            "gridcolor": "white",
            "linecolor": "white",
            "ticks": ""
           },
           "bgcolor": "#E5ECF6",
           "radialaxis": {
            "gridcolor": "white",
            "linecolor": "white",
            "ticks": ""
           }
          },
          "scene": {
           "xaxis": {
            "backgroundcolor": "#E5ECF6",
            "gridcolor": "white",
            "gridwidth": 2,
            "linecolor": "white",
            "showbackground": true,
            "ticks": "",
            "zerolinecolor": "white"
           },
           "yaxis": {
            "backgroundcolor": "#E5ECF6",
            "gridcolor": "white",
            "gridwidth": 2,
            "linecolor": "white",
            "showbackground": true,
            "ticks": "",
            "zerolinecolor": "white"
           },
           "zaxis": {
            "backgroundcolor": "#E5ECF6",
            "gridcolor": "white",
            "gridwidth": 2,
            "linecolor": "white",
            "showbackground": true,
            "ticks": "",
            "zerolinecolor": "white"
           }
          },
          "shapedefaults": {
           "line": {
            "color": "#2a3f5f"
           }
          },
          "ternary": {
           "aaxis": {
            "gridcolor": "white",
            "linecolor": "white",
            "ticks": ""
           },
           "baxis": {
            "gridcolor": "white",
            "linecolor": "white",
            "ticks": ""
           },
           "bgcolor": "#E5ECF6",
           "caxis": {
            "gridcolor": "white",
            "linecolor": "white",
            "ticks": ""
           }
          },
          "title": {
           "x": 0.05
          },
          "xaxis": {
           "automargin": true,
           "gridcolor": "white",
           "linecolor": "white",
           "ticks": "",
           "title": {
            "standoff": 15
           },
           "zerolinecolor": "white",
           "zerolinewidth": 2
          },
          "yaxis": {
           "automargin": true,
           "gridcolor": "white",
           "linecolor": "white",
           "ticks": "",
           "title": {
            "standoff": 15
           },
           "zerolinecolor": "white",
           "zerolinewidth": 2
          }
         }
        },
        "title": {
         "font": {
          "color": "Black",
          "size": 16
         },
         "text": "Top 10 countries with the most COVID-19 Deaths in Africa",
         "x": 0.5
        },
        "xaxis": {
         "anchor": "y",
         "domain": [
          0,
          1
         ],
         "title": {
          "text": "Country"
         }
        },
        "yaxis": {
         "anchor": "x",
         "domain": [
          0,
          1
         ],
         "title": {
          "text": "Total Deaths"
         }
        }
       }
      }
     },
     "metadata": {},
     "output_type": "display_data"
    }
   ],
   "source": [
    "df1 = df.sort_values(by = ['Total Deaths'],ascending = False).reset_index().head(10)\n",
    "\n",
    "fig = px.bar(df1, x= 'Country', \n",
    "             y ='Total Deaths', \n",
    "             color = 'Total Deaths',\n",
    "             color_continuous_scale = 'gray')\n",
    "\n",
    "fig.update_layout(title = 'Top 10 countries with the most COVID-19 Deaths in Africa',\n",
    "                  title_x = 0.5,\n",
    "                  title_font = dict(size = 16, color = 'Black'))\n",
    "fig.show()"
   ]
  },
  {
   "cell_type": "code",
   "execution_count": 16,
   "metadata": {},
   "outputs": [
    {
     "data": {
      "application/vnd.plotly.v1+json": {
       "config": {
        "plotlyServerURL": "https://plot.ly"
       },
       "data": [
        {
         "coloraxis": "coloraxis",
         "geo": "geo",
         "hovertemplate": "<b>%{hovertext}</b><br><br>Country=%{location}<br>Total Deaths=%{z}<extra></extra>",
         "hovertext": [
          "South Africa",
          "Tunisia",
          "Egypt",
          "Morocco",
          "Ethiopia",
          "Algeria",
          "Libya",
          "Kenya",
          "Zimbabwe",
          "Zambia",
          "Namibia",
          "Sudan",
          "Uganda",
          "Nigeria",
          "Botswana",
          "Malawi",
          "Mozambique",
          "Senegal",
          "Cameroon",
          "Angola",
          "Rwanda",
          "Somalia",
          "Eswatini",
          "Ghana",
          "DRC",
          "Madagascar",
          "Mauritania",
          "Mauritius",
          "Tanzania",
          "Ivory Coast",
          "Lesotho",
          "Mali",
          "Guinea",
          "Congo",
          "Cabo Verde",
          "Gambia",
          "Burkina Faso",
          "Gabon",
          "Liberia",
          "Niger",
          "Togo",
          "Djibouti",
          "Chad",
          "Equatorial Guinea",
          "Benin",
          "Comoros",
          "Guinea-Bissau",
          "South Sudan",
          "Seychelles",
          "Sierra Leone",
          "CAR",
          "Eritrea",
          "Sao Tome and Principe",
          "Burundi"
         ],
         "locationmode": "country names",
         "locations": [
          "South Africa",
          "Tunisia",
          "Egypt",
          "Morocco",
          "Ethiopia",
          "Algeria",
          "Libya",
          "Kenya",
          "Zimbabwe",
          "Zambia",
          "Namibia",
          "Sudan",
          "Uganda",
          "Nigeria",
          "Botswana",
          "Malawi",
          "Mozambique",
          "Senegal",
          "Cameroon",
          "Angola",
          "Rwanda",
          "Somalia",
          "Eswatini",
          "Ghana",
          "DRC",
          "Madagascar",
          "Mauritania",
          "Mauritius",
          "Tanzania",
          "Ivory Coast",
          "Lesotho",
          "Mali",
          "Guinea",
          "Congo",
          "Cabo Verde",
          "Gambia",
          "Burkina Faso",
          "Gabon",
          "Liberia",
          "Niger",
          "Togo",
          "Djibouti",
          "Chad",
          "Equatorial Guinea",
          "Benin",
          "Comoros",
          "Guinea-Bissau",
          "South Sudan",
          "Seychelles",
          "Sierra Leone",
          "CAR",
          "Eritrea",
          "Sao Tome and Principe",
          "Burundi"
         ],
         "name": "",
         "type": "choropleth",
         "z": [
          91145,
          25569,
          21752,
          14849,
          6937,
          6276,
          5710,
          5378,
          5004,
          3734,
          3633,
          3331,
          3294,
          3030,
          2444,
          2364,
          2006,
          1890,
          1851,
          1770,
          1350,
          1333,
          1303,
          1295,
          1205,
          1027,
          866,
          762,
          737,
          714,
          665,
          660,
          391,
          367,
          351,
          343,
          318,
          288,
          287,
          275,
          248,
          189,
          181,
          175,
          161,
          157,
          149,
          135,
          134,
          123,
          101,
          76,
          57,
          38
         ]
        }
       ],
       "layout": {
        "coloraxis": {
         "colorbar": {
          "title": {
           "text": "Total Deaths"
          }
         },
         "colorscale": [
          [
           0,
           "rgb(0, 0, 0)"
          ],
          [
           0.09090909090909091,
           "rgb(16, 16, 16)"
          ],
          [
           0.18181818181818182,
           "rgb(38, 38, 38)"
          ],
          [
           0.2727272727272727,
           "rgb(59, 59, 59)"
          ],
          [
           0.36363636363636365,
           "rgb(81, 80, 80)"
          ],
          [
           0.45454545454545453,
           "rgb(102, 101, 101)"
          ],
          [
           0.5454545454545454,
           "rgb(124, 123, 122)"
          ],
          [
           0.6363636363636364,
           "rgb(146, 146, 145)"
          ],
          [
           0.7272727272727273,
           "rgb(171, 171, 170)"
          ],
          [
           0.8181818181818182,
           "rgb(197, 197, 195)"
          ],
          [
           0.9090909090909091,
           "rgb(224, 224, 223)"
          ],
          [
           1,
           "rgb(254, 254, 253)"
          ]
         ]
        },
        "geo": {
         "center": {},
         "domain": {
          "x": [
           0,
           1
          ],
          "y": [
           0,
           1
          ]
         },
         "projection": {
          "type": "equirectangular"
         },
         "scope": "africa",
         "showcoastlines": false,
         "showframe": false
        },
        "legend": {
         "tracegroupgap": 0
        },
        "margin": {
         "t": 60
        },
        "template": {
         "data": {
          "bar": [
           {
            "error_x": {
             "color": "#2a3f5f"
            },
            "error_y": {
             "color": "#2a3f5f"
            },
            "marker": {
             "line": {
              "color": "#E5ECF6",
              "width": 0.5
             },
             "pattern": {
              "fillmode": "overlay",
              "size": 10,
              "solidity": 0.2
             }
            },
            "type": "bar"
           }
          ],
          "barpolar": [
           {
            "marker": {
             "line": {
              "color": "#E5ECF6",
              "width": 0.5
             },
             "pattern": {
              "fillmode": "overlay",
              "size": 10,
              "solidity": 0.2
             }
            },
            "type": "barpolar"
           }
          ],
          "carpet": [
           {
            "aaxis": {
             "endlinecolor": "#2a3f5f",
             "gridcolor": "white",
             "linecolor": "white",
             "minorgridcolor": "white",
             "startlinecolor": "#2a3f5f"
            },
            "baxis": {
             "endlinecolor": "#2a3f5f",
             "gridcolor": "white",
             "linecolor": "white",
             "minorgridcolor": "white",
             "startlinecolor": "#2a3f5f"
            },
            "type": "carpet"
           }
          ],
          "choropleth": [
           {
            "colorbar": {
             "outlinewidth": 0,
             "ticks": ""
            },
            "type": "choropleth"
           }
          ],
          "contour": [
           {
            "colorbar": {
             "outlinewidth": 0,
             "ticks": ""
            },
            "colorscale": [
             [
              0,
              "#0d0887"
             ],
             [
              0.1111111111111111,
              "#46039f"
             ],
             [
              0.2222222222222222,
              "#7201a8"
             ],
             [
              0.3333333333333333,
              "#9c179e"
             ],
             [
              0.4444444444444444,
              "#bd3786"
             ],
             [
              0.5555555555555556,
              "#d8576b"
             ],
             [
              0.6666666666666666,
              "#ed7953"
             ],
             [
              0.7777777777777778,
              "#fb9f3a"
             ],
             [
              0.8888888888888888,
              "#fdca26"
             ],
             [
              1,
              "#f0f921"
             ]
            ],
            "type": "contour"
           }
          ],
          "contourcarpet": [
           {
            "colorbar": {
             "outlinewidth": 0,
             "ticks": ""
            },
            "type": "contourcarpet"
           }
          ],
          "heatmap": [
           {
            "colorbar": {
             "outlinewidth": 0,
             "ticks": ""
            },
            "colorscale": [
             [
              0,
              "#0d0887"
             ],
             [
              0.1111111111111111,
              "#46039f"
             ],
             [
              0.2222222222222222,
              "#7201a8"
             ],
             [
              0.3333333333333333,
              "#9c179e"
             ],
             [
              0.4444444444444444,
              "#bd3786"
             ],
             [
              0.5555555555555556,
              "#d8576b"
             ],
             [
              0.6666666666666666,
              "#ed7953"
             ],
             [
              0.7777777777777778,
              "#fb9f3a"
             ],
             [
              0.8888888888888888,
              "#fdca26"
             ],
             [
              1,
              "#f0f921"
             ]
            ],
            "type": "heatmap"
           }
          ],
          "heatmapgl": [
           {
            "colorbar": {
             "outlinewidth": 0,
             "ticks": ""
            },
            "colorscale": [
             [
              0,
              "#0d0887"
             ],
             [
              0.1111111111111111,
              "#46039f"
             ],
             [
              0.2222222222222222,
              "#7201a8"
             ],
             [
              0.3333333333333333,
              "#9c179e"
             ],
             [
              0.4444444444444444,
              "#bd3786"
             ],
             [
              0.5555555555555556,
              "#d8576b"
             ],
             [
              0.6666666666666666,
              "#ed7953"
             ],
             [
              0.7777777777777778,
              "#fb9f3a"
             ],
             [
              0.8888888888888888,
              "#fdca26"
             ],
             [
              1,
              "#f0f921"
             ]
            ],
            "type": "heatmapgl"
           }
          ],
          "histogram": [
           {
            "marker": {
             "pattern": {
              "fillmode": "overlay",
              "size": 10,
              "solidity": 0.2
             }
            },
            "type": "histogram"
           }
          ],
          "histogram2d": [
           {
            "colorbar": {
             "outlinewidth": 0,
             "ticks": ""
            },
            "colorscale": [
             [
              0,
              "#0d0887"
             ],
             [
              0.1111111111111111,
              "#46039f"
             ],
             [
              0.2222222222222222,
              "#7201a8"
             ],
             [
              0.3333333333333333,
              "#9c179e"
             ],
             [
              0.4444444444444444,
              "#bd3786"
             ],
             [
              0.5555555555555556,
              "#d8576b"
             ],
             [
              0.6666666666666666,
              "#ed7953"
             ],
             [
              0.7777777777777778,
              "#fb9f3a"
             ],
             [
              0.8888888888888888,
              "#fdca26"
             ],
             [
              1,
              "#f0f921"
             ]
            ],
            "type": "histogram2d"
           }
          ],
          "histogram2dcontour": [
           {
            "colorbar": {
             "outlinewidth": 0,
             "ticks": ""
            },
            "colorscale": [
             [
              0,
              "#0d0887"
             ],
             [
              0.1111111111111111,
              "#46039f"
             ],
             [
              0.2222222222222222,
              "#7201a8"
             ],
             [
              0.3333333333333333,
              "#9c179e"
             ],
             [
              0.4444444444444444,
              "#bd3786"
             ],
             [
              0.5555555555555556,
              "#d8576b"
             ],
             [
              0.6666666666666666,
              "#ed7953"
             ],
             [
              0.7777777777777778,
              "#fb9f3a"
             ],
             [
              0.8888888888888888,
              "#fdca26"
             ],
             [
              1,
              "#f0f921"
             ]
            ],
            "type": "histogram2dcontour"
           }
          ],
          "mesh3d": [
           {
            "colorbar": {
             "outlinewidth": 0,
             "ticks": ""
            },
            "type": "mesh3d"
           }
          ],
          "parcoords": [
           {
            "line": {
             "colorbar": {
              "outlinewidth": 0,
              "ticks": ""
             }
            },
            "type": "parcoords"
           }
          ],
          "pie": [
           {
            "automargin": true,
            "type": "pie"
           }
          ],
          "scatter": [
           {
            "fillpattern": {
             "fillmode": "overlay",
             "size": 10,
             "solidity": 0.2
            },
            "type": "scatter"
           }
          ],
          "scatter3d": [
           {
            "line": {
             "colorbar": {
              "outlinewidth": 0,
              "ticks": ""
             }
            },
            "marker": {
             "colorbar": {
              "outlinewidth": 0,
              "ticks": ""
             }
            },
            "type": "scatter3d"
           }
          ],
          "scattercarpet": [
           {
            "marker": {
             "colorbar": {
              "outlinewidth": 0,
              "ticks": ""
             }
            },
            "type": "scattercarpet"
           }
          ],
          "scattergeo": [
           {
            "marker": {
             "colorbar": {
              "outlinewidth": 0,
              "ticks": ""
             }
            },
            "type": "scattergeo"
           }
          ],
          "scattergl": [
           {
            "marker": {
             "colorbar": {
              "outlinewidth": 0,
              "ticks": ""
             }
            },
            "type": "scattergl"
           }
          ],
          "scattermapbox": [
           {
            "marker": {
             "colorbar": {
              "outlinewidth": 0,
              "ticks": ""
             }
            },
            "type": "scattermapbox"
           }
          ],
          "scatterpolar": [
           {
            "marker": {
             "colorbar": {
              "outlinewidth": 0,
              "ticks": ""
             }
            },
            "type": "scatterpolar"
           }
          ],
          "scatterpolargl": [
           {
            "marker": {
             "colorbar": {
              "outlinewidth": 0,
              "ticks": ""
             }
            },
            "type": "scatterpolargl"
           }
          ],
          "scatterternary": [
           {
            "marker": {
             "colorbar": {
              "outlinewidth": 0,
              "ticks": ""
             }
            },
            "type": "scatterternary"
           }
          ],
          "surface": [
           {
            "colorbar": {
             "outlinewidth": 0,
             "ticks": ""
            },
            "colorscale": [
             [
              0,
              "#0d0887"
             ],
             [
              0.1111111111111111,
              "#46039f"
             ],
             [
              0.2222222222222222,
              "#7201a8"
             ],
             [
              0.3333333333333333,
              "#9c179e"
             ],
             [
              0.4444444444444444,
              "#bd3786"
             ],
             [
              0.5555555555555556,
              "#d8576b"
             ],
             [
              0.6666666666666666,
              "#ed7953"
             ],
             [
              0.7777777777777778,
              "#fb9f3a"
             ],
             [
              0.8888888888888888,
              "#fdca26"
             ],
             [
              1,
              "#f0f921"
             ]
            ],
            "type": "surface"
           }
          ],
          "table": [
           {
            "cells": {
             "fill": {
              "color": "#EBF0F8"
             },
             "line": {
              "color": "white"
             }
            },
            "header": {
             "fill": {
              "color": "#C8D4E3"
             },
             "line": {
              "color": "white"
             }
            },
            "type": "table"
           }
          ]
         },
         "layout": {
          "annotationdefaults": {
           "arrowcolor": "#2a3f5f",
           "arrowhead": 0,
           "arrowwidth": 1
          },
          "autotypenumbers": "strict",
          "coloraxis": {
           "colorbar": {
            "outlinewidth": 0,
            "ticks": ""
           }
          },
          "colorscale": {
           "diverging": [
            [
             0,
             "#8e0152"
            ],
            [
             0.1,
             "#c51b7d"
            ],
            [
             0.2,
             "#de77ae"
            ],
            [
             0.3,
             "#f1b6da"
            ],
            [
             0.4,
             "#fde0ef"
            ],
            [
             0.5,
             "#f7f7f7"
            ],
            [
             0.6,
             "#e6f5d0"
            ],
            [
             0.7,
             "#b8e186"
            ],
            [
             0.8,
             "#7fbc41"
            ],
            [
             0.9,
             "#4d9221"
            ],
            [
             1,
             "#276419"
            ]
           ],
           "sequential": [
            [
             0,
             "#0d0887"
            ],
            [
             0.1111111111111111,
             "#46039f"
            ],
            [
             0.2222222222222222,
             "#7201a8"
            ],
            [
             0.3333333333333333,
             "#9c179e"
            ],
            [
             0.4444444444444444,
             "#bd3786"
            ],
            [
             0.5555555555555556,
             "#d8576b"
            ],
            [
             0.6666666666666666,
             "#ed7953"
            ],
            [
             0.7777777777777778,
             "#fb9f3a"
            ],
            [
             0.8888888888888888,
             "#fdca26"
            ],
            [
             1,
             "#f0f921"
            ]
           ],
           "sequentialminus": [
            [
             0,
             "#0d0887"
            ],
            [
             0.1111111111111111,
             "#46039f"
            ],
            [
             0.2222222222222222,
             "#7201a8"
            ],
            [
             0.3333333333333333,
             "#9c179e"
            ],
            [
             0.4444444444444444,
             "#bd3786"
            ],
            [
             0.5555555555555556,
             "#d8576b"
            ],
            [
             0.6666666666666666,
             "#ed7953"
            ],
            [
             0.7777777777777778,
             "#fb9f3a"
            ],
            [
             0.8888888888888888,
             "#fdca26"
            ],
            [
             1,
             "#f0f921"
            ]
           ]
          },
          "colorway": [
           "#636efa",
           "#EF553B",
           "#00cc96",
           "#ab63fa",
           "#FFA15A",
           "#19d3f3",
           "#FF6692",
           "#B6E880",
           "#FF97FF",
           "#FECB52"
          ],
          "font": {
           "color": "#2a3f5f"
          },
          "geo": {
           "bgcolor": "white",
           "lakecolor": "white",
           "landcolor": "#E5ECF6",
           "showlakes": true,
           "showland": true,
           "subunitcolor": "white"
          },
          "hoverlabel": {
           "align": "left"
          },
          "hovermode": "closest",
          "mapbox": {
           "style": "light"
          },
          "paper_bgcolor": "white",
          "plot_bgcolor": "#E5ECF6",
          "polar": {
           "angularaxis": {
            "gridcolor": "white",
            "linecolor": "white",
            "ticks": ""
           },
           "bgcolor": "#E5ECF6",
           "radialaxis": {
            "gridcolor": "white",
            "linecolor": "white",
            "ticks": ""
           }
          },
          "scene": {
           "xaxis": {
            "backgroundcolor": "#E5ECF6",
            "gridcolor": "white",
            "gridwidth": 2,
            "linecolor": "white",
            "showbackground": true,
            "ticks": "",
            "zerolinecolor": "white"
           },
           "yaxis": {
            "backgroundcolor": "#E5ECF6",
            "gridcolor": "white",
            "gridwidth": 2,
            "linecolor": "white",
            "showbackground": true,
            "ticks": "",
            "zerolinecolor": "white"
           },
           "zaxis": {
            "backgroundcolor": "#E5ECF6",
            "gridcolor": "white",
            "gridwidth": 2,
            "linecolor": "white",
            "showbackground": true,
            "ticks": "",
            "zerolinecolor": "white"
           }
          },
          "shapedefaults": {
           "line": {
            "color": "#2a3f5f"
           }
          },
          "ternary": {
           "aaxis": {
            "gridcolor": "white",
            "linecolor": "white",
            "ticks": ""
           },
           "baxis": {
            "gridcolor": "white",
            "linecolor": "white",
            "ticks": ""
           },
           "bgcolor": "#E5ECF6",
           "caxis": {
            "gridcolor": "white",
            "linecolor": "white",
            "ticks": ""
           }
          },
          "title": {
           "x": 0.05
          },
          "xaxis": {
           "automargin": true,
           "gridcolor": "white",
           "linecolor": "white",
           "ticks": "",
           "title": {
            "standoff": 15
           },
           "zerolinecolor": "white",
           "zerolinewidth": 2
          },
          "yaxis": {
           "automargin": true,
           "gridcolor": "white",
           "linecolor": "white",
           "ticks": "",
           "title": {
            "standoff": 15
           },
           "zerolinecolor": "white",
           "zerolinewidth": 2
          }
         }
        },
        "title": {
         "font": {
          "color": "Black",
          "size": 16
         },
         "text": "COVID-19 Deaths in Africa Countries",
         "x": 0.5
        }
       }
      }
     },
     "metadata": {},
     "output_type": "display_data"
    }
   ],
   "source": [
    "df1 = df.sort_values(by=['Total Deaths'],ascending = False)\n",
    "\n",
    "fig = px.choropleth(df1, \n",
    "                    locations = 'Country',\n",
    "                    locationmode = 'country names',\n",
    "                    color = 'Total Deaths',\n",
    "                    scope = 'africa',\n",
    "                    hover_name = 'Country',\n",
    "                    color_continuous_scale = 'gray')\n",
    "\n",
    "fig.update_layout(title = 'COVID-19 Deaths in Africa Countries',\n",
    "                  title_x = 0.5,\n",
    "                  title_font = dict(size = 16, color = 'Black'),\n",
    "                  geo = dict(showframe = False,\n",
    "                             showcoastlines = False,\n",
    "                             projection_type = 'equirectangular'))\n",
    "\n",
    "fig.show()"
   ]
  },
  {
   "cell_type": "code",
   "execution_count": 13,
   "metadata": {},
   "outputs": [
    {
     "data": {
      "application/vnd.plotly.v1+json": {
       "config": {
        "plotlyServerURL": "https://plot.ly"
       },
       "data": [
        {
         "alignmentgroup": "True",
         "hovertemplate": "Country=%{x}<br>Total Recovered=%{marker.color}<extra></extra>",
         "legendgroup": "",
         "marker": {
          "color": [
           3174037,
           940193,
           696315,
           376278,
           355046
          ],
          "coloraxis": "coloraxis",
          "pattern": {
           "shape": ""
          }
         },
         "name": "",
         "offsetgroup": "",
         "orientation": "v",
         "showlegend": false,
         "textposition": "auto",
         "type": "bar",
         "x": [
          "South Africa",
          "Morocco",
          "Tunisia",
          "Libya",
          "Ethiopia"
         ],
         "xaxis": "x",
         "y": [
          3174037,
          940193,
          696315,
          376278,
          355046
         ],
         "yaxis": "y"
        }
       ],
       "layout": {
        "barmode": "relative",
        "coloraxis": {
         "colorbar": {
          "title": {
           "text": "Total Recovered"
          }
         },
         "colorscale": [
          [
           0,
           "rgb(247,252,245)"
          ],
          [
           0.125,
           "rgb(229,245,224)"
          ],
          [
           0.25,
           "rgb(199,233,192)"
          ],
          [
           0.375,
           "rgb(161,217,155)"
          ],
          [
           0.5,
           "rgb(116,196,118)"
          ],
          [
           0.625,
           "rgb(65,171,93)"
          ],
          [
           0.75,
           "rgb(35,139,69)"
          ],
          [
           0.875,
           "rgb(0,109,44)"
          ],
          [
           1,
           "rgb(0,68,27)"
          ]
         ]
        },
        "legend": {
         "tracegroupgap": 0
        },
        "margin": {
         "t": 60
        },
        "template": {
         "data": {
          "bar": [
           {
            "error_x": {
             "color": "#2a3f5f"
            },
            "error_y": {
             "color": "#2a3f5f"
            },
            "marker": {
             "line": {
              "color": "#E5ECF6",
              "width": 0.5
             },
             "pattern": {
              "fillmode": "overlay",
              "size": 10,
              "solidity": 0.2
             }
            },
            "type": "bar"
           }
          ],
          "barpolar": [
           {
            "marker": {
             "line": {
              "color": "#E5ECF6",
              "width": 0.5
             },
             "pattern": {
              "fillmode": "overlay",
              "size": 10,
              "solidity": 0.2
             }
            },
            "type": "barpolar"
           }
          ],
          "carpet": [
           {
            "aaxis": {
             "endlinecolor": "#2a3f5f",
             "gridcolor": "white",
             "linecolor": "white",
             "minorgridcolor": "white",
             "startlinecolor": "#2a3f5f"
            },
            "baxis": {
             "endlinecolor": "#2a3f5f",
             "gridcolor": "white",
             "linecolor": "white",
             "minorgridcolor": "white",
             "startlinecolor": "#2a3f5f"
            },
            "type": "carpet"
           }
          ],
          "choropleth": [
           {
            "colorbar": {
             "outlinewidth": 0,
             "ticks": ""
            },
            "type": "choropleth"
           }
          ],
          "contour": [
           {
            "colorbar": {
             "outlinewidth": 0,
             "ticks": ""
            },
            "colorscale": [
             [
              0,
              "#0d0887"
             ],
             [
              0.1111111111111111,
              "#46039f"
             ],
             [
              0.2222222222222222,
              "#7201a8"
             ],
             [
              0.3333333333333333,
              "#9c179e"
             ],
             [
              0.4444444444444444,
              "#bd3786"
             ],
             [
              0.5555555555555556,
              "#d8576b"
             ],
             [
              0.6666666666666666,
              "#ed7953"
             ],
             [
              0.7777777777777778,
              "#fb9f3a"
             ],
             [
              0.8888888888888888,
              "#fdca26"
             ],
             [
              1,
              "#f0f921"
             ]
            ],
            "type": "contour"
           }
          ],
          "contourcarpet": [
           {
            "colorbar": {
             "outlinewidth": 0,
             "ticks": ""
            },
            "type": "contourcarpet"
           }
          ],
          "heatmap": [
           {
            "colorbar": {
             "outlinewidth": 0,
             "ticks": ""
            },
            "colorscale": [
             [
              0,
              "#0d0887"
             ],
             [
              0.1111111111111111,
              "#46039f"
             ],
             [
              0.2222222222222222,
              "#7201a8"
             ],
             [
              0.3333333333333333,
              "#9c179e"
             ],
             [
              0.4444444444444444,
              "#bd3786"
             ],
             [
              0.5555555555555556,
              "#d8576b"
             ],
             [
              0.6666666666666666,
              "#ed7953"
             ],
             [
              0.7777777777777778,
              "#fb9f3a"
             ],
             [
              0.8888888888888888,
              "#fdca26"
             ],
             [
              1,
              "#f0f921"
             ]
            ],
            "type": "heatmap"
           }
          ],
          "heatmapgl": [
           {
            "colorbar": {
             "outlinewidth": 0,
             "ticks": ""
            },
            "colorscale": [
             [
              0,
              "#0d0887"
             ],
             [
              0.1111111111111111,
              "#46039f"
             ],
             [
              0.2222222222222222,
              "#7201a8"
             ],
             [
              0.3333333333333333,
              "#9c179e"
             ],
             [
              0.4444444444444444,
              "#bd3786"
             ],
             [
              0.5555555555555556,
              "#d8576b"
             ],
             [
              0.6666666666666666,
              "#ed7953"
             ],
             [
              0.7777777777777778,
              "#fb9f3a"
             ],
             [
              0.8888888888888888,
              "#fdca26"
             ],
             [
              1,
              "#f0f921"
             ]
            ],
            "type": "heatmapgl"
           }
          ],
          "histogram": [
           {
            "marker": {
             "pattern": {
              "fillmode": "overlay",
              "size": 10,
              "solidity": 0.2
             }
            },
            "type": "histogram"
           }
          ],
          "histogram2d": [
           {
            "colorbar": {
             "outlinewidth": 0,
             "ticks": ""
            },
            "colorscale": [
             [
              0,
              "#0d0887"
             ],
             [
              0.1111111111111111,
              "#46039f"
             ],
             [
              0.2222222222222222,
              "#7201a8"
             ],
             [
              0.3333333333333333,
              "#9c179e"
             ],
             [
              0.4444444444444444,
              "#bd3786"
             ],
             [
              0.5555555555555556,
              "#d8576b"
             ],
             [
              0.6666666666666666,
              "#ed7953"
             ],
             [
              0.7777777777777778,
              "#fb9f3a"
             ],
             [
              0.8888888888888888,
              "#fdca26"
             ],
             [
              1,
              "#f0f921"
             ]
            ],
            "type": "histogram2d"
           }
          ],
          "histogram2dcontour": [
           {
            "colorbar": {
             "outlinewidth": 0,
             "ticks": ""
            },
            "colorscale": [
             [
              0,
              "#0d0887"
             ],
             [
              0.1111111111111111,
              "#46039f"
             ],
             [
              0.2222222222222222,
              "#7201a8"
             ],
             [
              0.3333333333333333,
              "#9c179e"
             ],
             [
              0.4444444444444444,
              "#bd3786"
             ],
             [
              0.5555555555555556,
              "#d8576b"
             ],
             [
              0.6666666666666666,
              "#ed7953"
             ],
             [
              0.7777777777777778,
              "#fb9f3a"
             ],
             [
              0.8888888888888888,
              "#fdca26"
             ],
             [
              1,
              "#f0f921"
             ]
            ],
            "type": "histogram2dcontour"
           }
          ],
          "mesh3d": [
           {
            "colorbar": {
             "outlinewidth": 0,
             "ticks": ""
            },
            "type": "mesh3d"
           }
          ],
          "parcoords": [
           {
            "line": {
             "colorbar": {
              "outlinewidth": 0,
              "ticks": ""
             }
            },
            "type": "parcoords"
           }
          ],
          "pie": [
           {
            "automargin": true,
            "type": "pie"
           }
          ],
          "scatter": [
           {
            "fillpattern": {
             "fillmode": "overlay",
             "size": 10,
             "solidity": 0.2
            },
            "type": "scatter"
           }
          ],
          "scatter3d": [
           {
            "line": {
             "colorbar": {
              "outlinewidth": 0,
              "ticks": ""
             }
            },
            "marker": {
             "colorbar": {
              "outlinewidth": 0,
              "ticks": ""
             }
            },
            "type": "scatter3d"
           }
          ],
          "scattercarpet": [
           {
            "marker": {
             "colorbar": {
              "outlinewidth": 0,
              "ticks": ""
             }
            },
            "type": "scattercarpet"
           }
          ],
          "scattergeo": [
           {
            "marker": {
             "colorbar": {
              "outlinewidth": 0,
              "ticks": ""
             }
            },
            "type": "scattergeo"
           }
          ],
          "scattergl": [
           {
            "marker": {
             "colorbar": {
              "outlinewidth": 0,
              "ticks": ""
             }
            },
            "type": "scattergl"
           }
          ],
          "scattermapbox": [
           {
            "marker": {
             "colorbar": {
              "outlinewidth": 0,
              "ticks": ""
             }
            },
            "type": "scattermapbox"
           }
          ],
          "scatterpolar": [
           {
            "marker": {
             "colorbar": {
              "outlinewidth": 0,
              "ticks": ""
             }
            },
            "type": "scatterpolar"
           }
          ],
          "scatterpolargl": [
           {
            "marker": {
             "colorbar": {
              "outlinewidth": 0,
              "ticks": ""
             }
            },
            "type": "scatterpolargl"
           }
          ],
          "scatterternary": [
           {
            "marker": {
             "colorbar": {
              "outlinewidth": 0,
              "ticks": ""
             }
            },
            "type": "scatterternary"
           }
          ],
          "surface": [
           {
            "colorbar": {
             "outlinewidth": 0,
             "ticks": ""
            },
            "colorscale": [
             [
              0,
              "#0d0887"
             ],
             [
              0.1111111111111111,
              "#46039f"
             ],
             [
              0.2222222222222222,
              "#7201a8"
             ],
             [
              0.3333333333333333,
              "#9c179e"
             ],
             [
              0.4444444444444444,
              "#bd3786"
             ],
             [
              0.5555555555555556,
              "#d8576b"
             ],
             [
              0.6666666666666666,
              "#ed7953"
             ],
             [
              0.7777777777777778,
              "#fb9f3a"
             ],
             [
              0.8888888888888888,
              "#fdca26"
             ],
             [
              1,
              "#f0f921"
             ]
            ],
            "type": "surface"
           }
          ],
          "table": [
           {
            "cells": {
             "fill": {
              "color": "#EBF0F8"
             },
             "line": {
              "color": "white"
             }
            },
            "header": {
             "fill": {
              "color": "#C8D4E3"
             },
             "line": {
              "color": "white"
             }
            },
            "type": "table"
           }
          ]
         },
         "layout": {
          "annotationdefaults": {
           "arrowcolor": "#2a3f5f",
           "arrowhead": 0,
           "arrowwidth": 1
          },
          "autotypenumbers": "strict",
          "coloraxis": {
           "colorbar": {
            "outlinewidth": 0,
            "ticks": ""
           }
          },
          "colorscale": {
           "diverging": [
            [
             0,
             "#8e0152"
            ],
            [
             0.1,
             "#c51b7d"
            ],
            [
             0.2,
             "#de77ae"
            ],
            [
             0.3,
             "#f1b6da"
            ],
            [
             0.4,
             "#fde0ef"
            ],
            [
             0.5,
             "#f7f7f7"
            ],
            [
             0.6,
             "#e6f5d0"
            ],
            [
             0.7,
             "#b8e186"
            ],
            [
             0.8,
             "#7fbc41"
            ],
            [
             0.9,
             "#4d9221"
            ],
            [
             1,
             "#276419"
            ]
           ],
           "sequential": [
            [
             0,
             "#0d0887"
            ],
            [
             0.1111111111111111,
             "#46039f"
            ],
            [
             0.2222222222222222,
             "#7201a8"
            ],
            [
             0.3333333333333333,
             "#9c179e"
            ],
            [
             0.4444444444444444,
             "#bd3786"
            ],
            [
             0.5555555555555556,
             "#d8576b"
            ],
            [
             0.6666666666666666,
             "#ed7953"
            ],
            [
             0.7777777777777778,
             "#fb9f3a"
            ],
            [
             0.8888888888888888,
             "#fdca26"
            ],
            [
             1,
             "#f0f921"
            ]
           ],
           "sequentialminus": [
            [
             0,
             "#0d0887"
            ],
            [
             0.1111111111111111,
             "#46039f"
            ],
            [
             0.2222222222222222,
             "#7201a8"
            ],
            [
             0.3333333333333333,
             "#9c179e"
            ],
            [
             0.4444444444444444,
             "#bd3786"
            ],
            [
             0.5555555555555556,
             "#d8576b"
            ],
            [
             0.6666666666666666,
             "#ed7953"
            ],
            [
             0.7777777777777778,
             "#fb9f3a"
            ],
            [
             0.8888888888888888,
             "#fdca26"
            ],
            [
             1,
             "#f0f921"
            ]
           ]
          },
          "colorway": [
           "#636efa",
           "#EF553B",
           "#00cc96",
           "#ab63fa",
           "#FFA15A",
           "#19d3f3",
           "#FF6692",
           "#B6E880",
           "#FF97FF",
           "#FECB52"
          ],
          "font": {
           "color": "#2a3f5f"
          },
          "geo": {
           "bgcolor": "white",
           "lakecolor": "white",
           "landcolor": "#E5ECF6",
           "showlakes": true,
           "showland": true,
           "subunitcolor": "white"
          },
          "hoverlabel": {
           "align": "left"
          },
          "hovermode": "closest",
          "mapbox": {
           "style": "light"
          },
          "paper_bgcolor": "white",
          "plot_bgcolor": "#E5ECF6",
          "polar": {
           "angularaxis": {
            "gridcolor": "white",
            "linecolor": "white",
            "ticks": ""
           },
           "bgcolor": "#E5ECF6",
           "radialaxis": {
            "gridcolor": "white",
            "linecolor": "white",
            "ticks": ""
           }
          },
          "scene": {
           "xaxis": {
            "backgroundcolor": "#E5ECF6",
            "gridcolor": "white",
            "gridwidth": 2,
            "linecolor": "white",
            "showbackground": true,
            "ticks": "",
            "zerolinecolor": "white"
           },
           "yaxis": {
            "backgroundcolor": "#E5ECF6",
            "gridcolor": "white",
            "gridwidth": 2,
            "linecolor": "white",
            "showbackground": true,
            "ticks": "",
            "zerolinecolor": "white"
           },
           "zaxis": {
            "backgroundcolor": "#E5ECF6",
            "gridcolor": "white",
            "gridwidth": 2,
            "linecolor": "white",
            "showbackground": true,
            "ticks": "",
            "zerolinecolor": "white"
           }
          },
          "shapedefaults": {
           "line": {
            "color": "#2a3f5f"
           }
          },
          "ternary": {
           "aaxis": {
            "gridcolor": "white",
            "linecolor": "white",
            "ticks": ""
           },
           "baxis": {
            "gridcolor": "white",
            "linecolor": "white",
            "ticks": ""
           },
           "bgcolor": "#E5ECF6",
           "caxis": {
            "gridcolor": "white",
            "linecolor": "white",
            "ticks": ""
           }
          },
          "title": {
           "x": 0.05
          },
          "xaxis": {
           "automargin": true,
           "gridcolor": "white",
           "linecolor": "white",
           "ticks": "",
           "title": {
            "standoff": 15
           },
           "zerolinecolor": "white",
           "zerolinewidth": 2
          },
          "yaxis": {
           "automargin": true,
           "gridcolor": "white",
           "linecolor": "white",
           "ticks": "",
           "title": {
            "standoff": 15
           },
           "zerolinecolor": "white",
           "zerolinewidth": 2
          }
         }
        },
        "title": {
         "font": {
          "color": "DarkGreen",
          "size": 16
         },
         "text": "Top 5 countries with the most COVID-19 Recovered Cases in Africa",
         "x": 0.5
        },
        "xaxis": {
         "anchor": "y",
         "domain": [
          0,
          1
         ],
         "title": {
          "text": "Country"
         }
        },
        "yaxis": {
         "anchor": "x",
         "domain": [
          0,
          1
         ],
         "title": {
          "text": "Total Recovered"
         }
        }
       }
      }
     },
     "metadata": {},
     "output_type": "display_data"
    }
   ],
   "source": [
    "df1 = df.sort_values(by = ['Total Recovered'],ascending = False).reset_index().head(5)\n",
    "\n",
    "fig = px.bar(df1, x = 'Country', \n",
    "             y = 'Total Recovered',\n",
    "             color = 'Total Recovered',\n",
    "             color_continuous_scale = 'greens')\n",
    "\n",
    "fig.update_layout(title = 'Top 5 countries with the most COVID-19 Recovered Cases in Africa',\n",
    "                  title_x = 0.5,\n",
    "                  title_font = dict(size = 16, color = 'DarkGreen'))\n",
    "\n",
    "fig.show()"
   ]
  },
  {
   "cell_type": "code",
   "execution_count": 14,
   "metadata": {},
   "outputs": [
    {
     "data": {
      "application/vnd.plotly.v1+json": {
       "config": {
        "plotlyServerURL": "https://plot.ly"
       },
       "data": [
        {
         "coloraxis": "coloraxis",
         "geo": "geo",
         "hovertemplate": "<b>%{hovertext}</b><br><br>Country=%{location}<br>Total Recovered=%{z}<extra></extra>",
         "hovertext": [
          "South Africa",
          "Morocco",
          "Tunisia",
          "Libya",
          "Ethiopia",
          "Egypt",
          "Kenya",
          "Zambia",
          "Nigeria",
          "Botswana",
          "Zimbabwe",
          "Mozambique",
          "Algeria",
          "Ghana",
          "Namibia",
          "Cameroon",
          "Uganda",
          "Senegal",
          "Angola",
          "Ivory Coast",
          "Malawi",
          "Eswatini",
          "DRC",
          "Rwanda",
          "Madagascar",
          "Mauritania",
          "Sudan",
          "Cabo Verde",
          "Gabon",
          "Guinea",
          "Togo",
          "Benin",
          "Seychelles",
          "Mauritius",
          "Mali",
          "Burkina Faso",
          "Lesotho",
          "Equatorial Guinea",
          "Djibouti",
          "Somalia",
          "South Sudan",
          "Congo",
          "Gambia",
          "Eritrea",
          "Niger",
          "CAR",
          "Guinea-Bissau",
          "Liberia",
          "Chad",
          "Comoros",
          "Sao Tome and Principe",
          "Burundi",
          "Sierra Leone",
          "Tanzania"
         ],
         "locationmode": "country names",
         "locations": [
          "South Africa",
          "Morocco",
          "Tunisia",
          "Libya",
          "Ethiopia",
          "Egypt",
          "Kenya",
          "Zambia",
          "Nigeria",
          "Botswana",
          "Zimbabwe",
          "Mozambique",
          "Algeria",
          "Ghana",
          "Namibia",
          "Cameroon",
          "Uganda",
          "Senegal",
          "Angola",
          "Ivory Coast",
          "Malawi",
          "Eswatini",
          "DRC",
          "Rwanda",
          "Madagascar",
          "Mauritania",
          "Sudan",
          "Cabo Verde",
          "Gabon",
          "Guinea",
          "Togo",
          "Benin",
          "Seychelles",
          "Mauritius",
          "Mali",
          "Burkina Faso",
          "Lesotho",
          "Equatorial Guinea",
          "Djibouti",
          "Somalia",
          "South Sudan",
          "Congo",
          "Gambia",
          "Eritrea",
          "Niger",
          "CAR",
          "Guinea-Bissau",
          "Liberia",
          "Chad",
          "Comoros",
          "Sao Tome and Principe",
          "Burundi",
          "Sierra Leone",
          "Tanzania"
         ],
         "name": "",
         "type": "choropleth",
         "z": [
          3174037,
          940193,
          696315,
          376278,
          355046,
          320563,
          252281,
          219794,
          214003,
          204811,
          180570,
          156570,
          150084,
          131473,
          131040,
          106050,
          98397,
          72560,
          64533,
          61998,
          60145,
          58767,
          50930,
          45522,
          44708,
          39175,
          38714,
          38291,
          37499,
          29823,
          26134,
          24705,
          24033,
          21918,
          18735,
          16619,
          15241,
          13410,
          13370,
          12948,
          12934,
          12421,
          9700,
          7746,
          6926,
          6859,
          6302,
          5535,
          4874,
          4709,
          3678,
          773,
          null,
          null
         ]
        }
       ],
       "layout": {
        "coloraxis": {
         "colorbar": {
          "title": {
           "text": "Total Recovered"
          }
         },
         "colorscale": [
          [
           0,
           "rgb(247,252,245)"
          ],
          [
           0.125,
           "rgb(229,245,224)"
          ],
          [
           0.25,
           "rgb(199,233,192)"
          ],
          [
           0.375,
           "rgb(161,217,155)"
          ],
          [
           0.5,
           "rgb(116,196,118)"
          ],
          [
           0.625,
           "rgb(65,171,93)"
          ],
          [
           0.75,
           "rgb(35,139,69)"
          ],
          [
           0.875,
           "rgb(0,109,44)"
          ],
          [
           1,
           "rgb(0,68,27)"
          ]
         ]
        },
        "geo": {
         "center": {},
         "domain": {
          "x": [
           0,
           1
          ],
          "y": [
           0,
           1
          ]
         },
         "projection": {
          "type": "equirectangular"
         },
         "scope": "africa",
         "showcoastlines": false,
         "showframe": false
        },
        "legend": {
         "tracegroupgap": 0
        },
        "margin": {
         "t": 60
        },
        "template": {
         "data": {
          "bar": [
           {
            "error_x": {
             "color": "#2a3f5f"
            },
            "error_y": {
             "color": "#2a3f5f"
            },
            "marker": {
             "line": {
              "color": "#E5ECF6",
              "width": 0.5
             },
             "pattern": {
              "fillmode": "overlay",
              "size": 10,
              "solidity": 0.2
             }
            },
            "type": "bar"
           }
          ],
          "barpolar": [
           {
            "marker": {
             "line": {
              "color": "#E5ECF6",
              "width": 0.5
             },
             "pattern": {
              "fillmode": "overlay",
              "size": 10,
              "solidity": 0.2
             }
            },
            "type": "barpolar"
           }
          ],
          "carpet": [
           {
            "aaxis": {
             "endlinecolor": "#2a3f5f",
             "gridcolor": "white",
             "linecolor": "white",
             "minorgridcolor": "white",
             "startlinecolor": "#2a3f5f"
            },
            "baxis": {
             "endlinecolor": "#2a3f5f",
             "gridcolor": "white",
             "linecolor": "white",
             "minorgridcolor": "white",
             "startlinecolor": "#2a3f5f"
            },
            "type": "carpet"
           }
          ],
          "choropleth": [
           {
            "colorbar": {
             "outlinewidth": 0,
             "ticks": ""
            },
            "type": "choropleth"
           }
          ],
          "contour": [
           {
            "colorbar": {
             "outlinewidth": 0,
             "ticks": ""
            },
            "colorscale": [
             [
              0,
              "#0d0887"
             ],
             [
              0.1111111111111111,
              "#46039f"
             ],
             [
              0.2222222222222222,
              "#7201a8"
             ],
             [
              0.3333333333333333,
              "#9c179e"
             ],
             [
              0.4444444444444444,
              "#bd3786"
             ],
             [
              0.5555555555555556,
              "#d8576b"
             ],
             [
              0.6666666666666666,
              "#ed7953"
             ],
             [
              0.7777777777777778,
              "#fb9f3a"
             ],
             [
              0.8888888888888888,
              "#fdca26"
             ],
             [
              1,
              "#f0f921"
             ]
            ],
            "type": "contour"
           }
          ],
          "contourcarpet": [
           {
            "colorbar": {
             "outlinewidth": 0,
             "ticks": ""
            },
            "type": "contourcarpet"
           }
          ],
          "heatmap": [
           {
            "colorbar": {
             "outlinewidth": 0,
             "ticks": ""
            },
            "colorscale": [
             [
              0,
              "#0d0887"
             ],
             [
              0.1111111111111111,
              "#46039f"
             ],
             [
              0.2222222222222222,
              "#7201a8"
             ],
             [
              0.3333333333333333,
              "#9c179e"
             ],
             [
              0.4444444444444444,
              "#bd3786"
             ],
             [
              0.5555555555555556,
              "#d8576b"
             ],
             [
              0.6666666666666666,
              "#ed7953"
             ],
             [
              0.7777777777777778,
              "#fb9f3a"
             ],
             [
              0.8888888888888888,
              "#fdca26"
             ],
             [
              1,
              "#f0f921"
             ]
            ],
            "type": "heatmap"
           }
          ],
          "heatmapgl": [
           {
            "colorbar": {
             "outlinewidth": 0,
             "ticks": ""
            },
            "colorscale": [
             [
              0,
              "#0d0887"
             ],
             [
              0.1111111111111111,
              "#46039f"
             ],
             [
              0.2222222222222222,
              "#7201a8"
             ],
             [
              0.3333333333333333,
              "#9c179e"
             ],
             [
              0.4444444444444444,
              "#bd3786"
             ],
             [
              0.5555555555555556,
              "#d8576b"
             ],
             [
              0.6666666666666666,
              "#ed7953"
             ],
             [
              0.7777777777777778,
              "#fb9f3a"
             ],
             [
              0.8888888888888888,
              "#fdca26"
             ],
             [
              1,
              "#f0f921"
             ]
            ],
            "type": "heatmapgl"
           }
          ],
          "histogram": [
           {
            "marker": {
             "pattern": {
              "fillmode": "overlay",
              "size": 10,
              "solidity": 0.2
             }
            },
            "type": "histogram"
           }
          ],
          "histogram2d": [
           {
            "colorbar": {
             "outlinewidth": 0,
             "ticks": ""
            },
            "colorscale": [
             [
              0,
              "#0d0887"
             ],
             [
              0.1111111111111111,
              "#46039f"
             ],
             [
              0.2222222222222222,
              "#7201a8"
             ],
             [
              0.3333333333333333,
              "#9c179e"
             ],
             [
              0.4444444444444444,
              "#bd3786"
             ],
             [
              0.5555555555555556,
              "#d8576b"
             ],
             [
              0.6666666666666666,
              "#ed7953"
             ],
             [
              0.7777777777777778,
              "#fb9f3a"
             ],
             [
              0.8888888888888888,
              "#fdca26"
             ],
             [
              1,
              "#f0f921"
             ]
            ],
            "type": "histogram2d"
           }
          ],
          "histogram2dcontour": [
           {
            "colorbar": {
             "outlinewidth": 0,
             "ticks": ""
            },
            "colorscale": [
             [
              0,
              "#0d0887"
             ],
             [
              0.1111111111111111,
              "#46039f"
             ],
             [
              0.2222222222222222,
              "#7201a8"
             ],
             [
              0.3333333333333333,
              "#9c179e"
             ],
             [
              0.4444444444444444,
              "#bd3786"
             ],
             [
              0.5555555555555556,
              "#d8576b"
             ],
             [
              0.6666666666666666,
              "#ed7953"
             ],
             [
              0.7777777777777778,
              "#fb9f3a"
             ],
             [
              0.8888888888888888,
              "#fdca26"
             ],
             [
              1,
              "#f0f921"
             ]
            ],
            "type": "histogram2dcontour"
           }
          ],
          "mesh3d": [
           {
            "colorbar": {
             "outlinewidth": 0,
             "ticks": ""
            },
            "type": "mesh3d"
           }
          ],
          "parcoords": [
           {
            "line": {
             "colorbar": {
              "outlinewidth": 0,
              "ticks": ""
             }
            },
            "type": "parcoords"
           }
          ],
          "pie": [
           {
            "automargin": true,
            "type": "pie"
           }
          ],
          "scatter": [
           {
            "fillpattern": {
             "fillmode": "overlay",
             "size": 10,
             "solidity": 0.2
            },
            "type": "scatter"
           }
          ],
          "scatter3d": [
           {
            "line": {
             "colorbar": {
              "outlinewidth": 0,
              "ticks": ""
             }
            },
            "marker": {
             "colorbar": {
              "outlinewidth": 0,
              "ticks": ""
             }
            },
            "type": "scatter3d"
           }
          ],
          "scattercarpet": [
           {
            "marker": {
             "colorbar": {
              "outlinewidth": 0,
              "ticks": ""
             }
            },
            "type": "scattercarpet"
           }
          ],
          "scattergeo": [
           {
            "marker": {
             "colorbar": {
              "outlinewidth": 0,
              "ticks": ""
             }
            },
            "type": "scattergeo"
           }
          ],
          "scattergl": [
           {
            "marker": {
             "colorbar": {
              "outlinewidth": 0,
              "ticks": ""
             }
            },
            "type": "scattergl"
           }
          ],
          "scattermapbox": [
           {
            "marker": {
             "colorbar": {
              "outlinewidth": 0,
              "ticks": ""
             }
            },
            "type": "scattermapbox"
           }
          ],
          "scatterpolar": [
           {
            "marker": {
             "colorbar": {
              "outlinewidth": 0,
              "ticks": ""
             }
            },
            "type": "scatterpolar"
           }
          ],
          "scatterpolargl": [
           {
            "marker": {
             "colorbar": {
              "outlinewidth": 0,
              "ticks": ""
             }
            },
            "type": "scatterpolargl"
           }
          ],
          "scatterternary": [
           {
            "marker": {
             "colorbar": {
              "outlinewidth": 0,
              "ticks": ""
             }
            },
            "type": "scatterternary"
           }
          ],
          "surface": [
           {
            "colorbar": {
             "outlinewidth": 0,
             "ticks": ""
            },
            "colorscale": [
             [
              0,
              "#0d0887"
             ],
             [
              0.1111111111111111,
              "#46039f"
             ],
             [
              0.2222222222222222,
              "#7201a8"
             ],
             [
              0.3333333333333333,
              "#9c179e"
             ],
             [
              0.4444444444444444,
              "#bd3786"
             ],
             [
              0.5555555555555556,
              "#d8576b"
             ],
             [
              0.6666666666666666,
              "#ed7953"
             ],
             [
              0.7777777777777778,
              "#fb9f3a"
             ],
             [
              0.8888888888888888,
              "#fdca26"
             ],
             [
              1,
              "#f0f921"
             ]
            ],
            "type": "surface"
           }
          ],
          "table": [
           {
            "cells": {
             "fill": {
              "color": "#EBF0F8"
             },
             "line": {
              "color": "white"
             }
            },
            "header": {
             "fill": {
              "color": "#C8D4E3"
             },
             "line": {
              "color": "white"
             }
            },
            "type": "table"
           }
          ]
         },
         "layout": {
          "annotationdefaults": {
           "arrowcolor": "#2a3f5f",
           "arrowhead": 0,
           "arrowwidth": 1
          },
          "autotypenumbers": "strict",
          "coloraxis": {
           "colorbar": {
            "outlinewidth": 0,
            "ticks": ""
           }
          },
          "colorscale": {
           "diverging": [
            [
             0,
             "#8e0152"
            ],
            [
             0.1,
             "#c51b7d"
            ],
            [
             0.2,
             "#de77ae"
            ],
            [
             0.3,
             "#f1b6da"
            ],
            [
             0.4,
             "#fde0ef"
            ],
            [
             0.5,
             "#f7f7f7"
            ],
            [
             0.6,
             "#e6f5d0"
            ],
            [
             0.7,
             "#b8e186"
            ],
            [
             0.8,
             "#7fbc41"
            ],
            [
             0.9,
             "#4d9221"
            ],
            [
             1,
             "#276419"
            ]
           ],
           "sequential": [
            [
             0,
             "#0d0887"
            ],
            [
             0.1111111111111111,
             "#46039f"
            ],
            [
             0.2222222222222222,
             "#7201a8"
            ],
            [
             0.3333333333333333,
             "#9c179e"
            ],
            [
             0.4444444444444444,
             "#bd3786"
            ],
            [
             0.5555555555555556,
             "#d8576b"
            ],
            [
             0.6666666666666666,
             "#ed7953"
            ],
            [
             0.7777777777777778,
             "#fb9f3a"
            ],
            [
             0.8888888888888888,
             "#fdca26"
            ],
            [
             1,
             "#f0f921"
            ]
           ],
           "sequentialminus": [
            [
             0,
             "#0d0887"
            ],
            [
             0.1111111111111111,
             "#46039f"
            ],
            [
             0.2222222222222222,
             "#7201a8"
            ],
            [
             0.3333333333333333,
             "#9c179e"
            ],
            [
             0.4444444444444444,
             "#bd3786"
            ],
            [
             0.5555555555555556,
             "#d8576b"
            ],
            [
             0.6666666666666666,
             "#ed7953"
            ],
            [
             0.7777777777777778,
             "#fb9f3a"
            ],
            [
             0.8888888888888888,
             "#fdca26"
            ],
            [
             1,
             "#f0f921"
            ]
           ]
          },
          "colorway": [
           "#636efa",
           "#EF553B",
           "#00cc96",
           "#ab63fa",
           "#FFA15A",
           "#19d3f3",
           "#FF6692",
           "#B6E880",
           "#FF97FF",
           "#FECB52"
          ],
          "font": {
           "color": "#2a3f5f"
          },
          "geo": {
           "bgcolor": "white",
           "lakecolor": "white",
           "landcolor": "#E5ECF6",
           "showlakes": true,
           "showland": true,
           "subunitcolor": "white"
          },
          "hoverlabel": {
           "align": "left"
          },
          "hovermode": "closest",
          "mapbox": {
           "style": "light"
          },
          "paper_bgcolor": "white",
          "plot_bgcolor": "#E5ECF6",
          "polar": {
           "angularaxis": {
            "gridcolor": "white",
            "linecolor": "white",
            "ticks": ""
           },
           "bgcolor": "#E5ECF6",
           "radialaxis": {
            "gridcolor": "white",
            "linecolor": "white",
            "ticks": ""
           }
          },
          "scene": {
           "xaxis": {
            "backgroundcolor": "#E5ECF6",
            "gridcolor": "white",
            "gridwidth": 2,
            "linecolor": "white",
            "showbackground": true,
            "ticks": "",
            "zerolinecolor": "white"
           },
           "yaxis": {
            "backgroundcolor": "#E5ECF6",
            "gridcolor": "white",
            "gridwidth": 2,
            "linecolor": "white",
            "showbackground": true,
            "ticks": "",
            "zerolinecolor": "white"
           },
           "zaxis": {
            "backgroundcolor": "#E5ECF6",
            "gridcolor": "white",
            "gridwidth": 2,
            "linecolor": "white",
            "showbackground": true,
            "ticks": "",
            "zerolinecolor": "white"
           }
          },
          "shapedefaults": {
           "line": {
            "color": "#2a3f5f"
           }
          },
          "ternary": {
           "aaxis": {
            "gridcolor": "white",
            "linecolor": "white",
            "ticks": ""
           },
           "baxis": {
            "gridcolor": "white",
            "linecolor": "white",
            "ticks": ""
           },
           "bgcolor": "#E5ECF6",
           "caxis": {
            "gridcolor": "white",
            "linecolor": "white",
            "ticks": ""
           }
          },
          "title": {
           "x": 0.05
          },
          "xaxis": {
           "automargin": true,
           "gridcolor": "white",
           "linecolor": "white",
           "ticks": "",
           "title": {
            "standoff": 15
           },
           "zerolinecolor": "white",
           "zerolinewidth": 2
          },
          "yaxis": {
           "automargin": true,
           "gridcolor": "white",
           "linecolor": "white",
           "ticks": "",
           "title": {
            "standoff": 15
           },
           "zerolinecolor": "white",
           "zerolinewidth": 2
          }
         }
        },
        "title": {
         "font": {
          "color": "Darkgreen",
          "size": 16
         },
         "text": "COVID-19 Recovered Cases in  Africa Countries",
         "x": 0.5
        }
       }
      }
     },
     "metadata": {},
     "output_type": "display_data"
    }
   ],
   "source": [
    "df1 = df.sort_values(by=['Total Recovered'],ascending = False).reset_index()\n",
    "\n",
    "fig = px.choropleth(df1, \n",
    "                    locations = 'Country',\n",
    "                    locationmode = 'country names',\n",
    "                    color = 'Total Recovered',\n",
    "                    scope = 'africa',\n",
    "                    hover_name = 'Country',\n",
    "                    color_continuous_scale = 'greens')\n",
    "\n",
    "fig.update_layout(title = 'COVID-19 Recovered Cases in  Africa Countries',\n",
    "                  title_x = 0.5,\n",
    "                  title_font = dict(size = 16, color = 'Darkgreen'),\n",
    "                  geo = dict(showframe = False,\n",
    "                             showcoastlines = False,\n",
    "                             projection_type = 'equirectangular'))\n",
    "\n",
    "fig.show()"
   ]
  },
  {
   "cell_type": "code",
   "execution_count": 15,
   "metadata": {},
   "outputs": [
    {
     "data": {
      "application/vnd.plotly.v1+json": {
       "config": {
        "plotlyServerURL": "https://plot.ly"
       },
       "data": [
        {
         "hovertemplate": "Country=Seychelles<br>Total Cases/1 mil population=%{x}<br>Total Deaths/per 1 mil population=%{y}<extra></extra>",
         "legendgroup": "Seychelles",
         "marker": {
          "color": "#AA0DFE",
          "line": {
           "color": "lightgray",
           "width": 1.5
          },
          "size": 30,
          "symbol": "circle"
         },
         "mode": "markers",
         "name": "Seychelles",
         "orientation": "v",
         "showlegend": true,
         "type": "scatter",
         "x": [
          249733
         ],
         "xaxis": "x",
         "y": [
          1350
         ],
         "yaxis": "y"
        },
        {
         "hovertemplate": "Country=Botswana<br>Total Cases/1 mil population=%{x}<br>Total Deaths/per 1 mil population=%{y}<extra></extra>",
         "legendgroup": "Botswana",
         "marker": {
          "color": "#3283FE",
          "line": {
           "color": "lightgray",
           "width": 1.5
          },
          "size": 30,
          "symbol": "circle"
         },
         "mode": "markers",
         "name": "Botswana",
         "orientation": "v",
         "showlegend": true,
         "type": "scatter",
         "x": [
          90608
         ],
         "xaxis": "x",
         "y": [
          1009
         ],
         "yaxis": "y"
        },
        {
         "hovertemplate": "Country=Cabo Verde<br>Total Cases/1 mil population=%{x}<br>Total Deaths/per 1 mil population=%{y}<extra></extra>",
         "legendgroup": "Cabo Verde",
         "marker": {
          "color": "#85660D",
          "line": {
           "color": "lightgray",
           "width": 1.5
          },
          "size": 30,
          "symbol": "circle"
         },
         "mode": "markers",
         "name": "Cabo Verde",
         "orientation": "v",
         "showlegend": true,
         "type": "scatter",
         "x": [
          73859
         ],
         "xaxis": "x",
         "y": [
          621
         ],
         "yaxis": "y"
        },
        {
         "hovertemplate": "Country=Tunisia<br>Total Cases/1 mil population=%{x}<br>Total Deaths/per 1 mil population=%{y}<extra></extra>",
         "legendgroup": "Tunisia",
         "marker": {
          "color": "#782AB6",
          "line": {
           "color": "lightgray",
           "width": 1.5
          },
          "size": 30,
          "symbol": "circle"
         },
         "mode": "markers",
         "name": "Tunisia",
         "orientation": "v",
         "showlegend": true,
         "type": "scatter",
         "x": [
          60540
         ],
         "xaxis": "x",
         "y": [
          2130
         ],
         "yaxis": "y"
        },
        {
         "hovertemplate": "Country=South Africa<br>Total Cases/1 mil population=%{x}<br>Total Deaths/per 1 mil population=%{y}<extra></extra>",
         "legendgroup": "South Africa",
         "marker": {
          "color": "#565656",
          "line": {
           "color": "lightgray",
           "width": 1.5
          },
          "size": 30,
          "symbol": "circle"
         },
         "mode": "markers",
         "name": "South Africa",
         "orientation": "v",
         "showlegend": true,
         "type": "scatter",
         "x": [
          57230
         ],
         "xaxis": "x",
         "y": [
          1508
         ],
         "yaxis": "y"
        }
       ],
       "layout": {
        "legend": {
         "title": {
          "text": "Country"
         },
         "tracegroupgap": 0
        },
        "margin": {
         "t": 60
        },
        "template": {
         "data": {
          "bar": [
           {
            "error_x": {
             "color": "#2a3f5f"
            },
            "error_y": {
             "color": "#2a3f5f"
            },
            "marker": {
             "line": {
              "color": "#E5ECF6",
              "width": 0.5
             },
             "pattern": {
              "fillmode": "overlay",
              "size": 10,
              "solidity": 0.2
             }
            },
            "type": "bar"
           }
          ],
          "barpolar": [
           {
            "marker": {
             "line": {
              "color": "#E5ECF6",
              "width": 0.5
             },
             "pattern": {
              "fillmode": "overlay",
              "size": 10,
              "solidity": 0.2
             }
            },
            "type": "barpolar"
           }
          ],
          "carpet": [
           {
            "aaxis": {
             "endlinecolor": "#2a3f5f",
             "gridcolor": "white",
             "linecolor": "white",
             "minorgridcolor": "white",
             "startlinecolor": "#2a3f5f"
            },
            "baxis": {
             "endlinecolor": "#2a3f5f",
             "gridcolor": "white",
             "linecolor": "white",
             "minorgridcolor": "white",
             "startlinecolor": "#2a3f5f"
            },
            "type": "carpet"
           }
          ],
          "choropleth": [
           {
            "colorbar": {
             "outlinewidth": 0,
             "ticks": ""
            },
            "type": "choropleth"
           }
          ],
          "contour": [
           {
            "colorbar": {
             "outlinewidth": 0,
             "ticks": ""
            },
            "colorscale": [
             [
              0,
              "#0d0887"
             ],
             [
              0.1111111111111111,
              "#46039f"
             ],
             [
              0.2222222222222222,
              "#7201a8"
             ],
             [
              0.3333333333333333,
              "#9c179e"
             ],
             [
              0.4444444444444444,
              "#bd3786"
             ],
             [
              0.5555555555555556,
              "#d8576b"
             ],
             [
              0.6666666666666666,
              "#ed7953"
             ],
             [
              0.7777777777777778,
              "#fb9f3a"
             ],
             [
              0.8888888888888888,
              "#fdca26"
             ],
             [
              1,
              "#f0f921"
             ]
            ],
            "type": "contour"
           }
          ],
          "contourcarpet": [
           {
            "colorbar": {
             "outlinewidth": 0,
             "ticks": ""
            },
            "type": "contourcarpet"
           }
          ],
          "heatmap": [
           {
            "colorbar": {
             "outlinewidth": 0,
             "ticks": ""
            },
            "colorscale": [
             [
              0,
              "#0d0887"
             ],
             [
              0.1111111111111111,
              "#46039f"
             ],
             [
              0.2222222222222222,
              "#7201a8"
             ],
             [
              0.3333333333333333,
              "#9c179e"
             ],
             [
              0.4444444444444444,
              "#bd3786"
             ],
             [
              0.5555555555555556,
              "#d8576b"
             ],
             [
              0.6666666666666666,
              "#ed7953"
             ],
             [
              0.7777777777777778,
              "#fb9f3a"
             ],
             [
              0.8888888888888888,
              "#fdca26"
             ],
             [
              1,
              "#f0f921"
             ]
            ],
            "type": "heatmap"
           }
          ],
          "heatmapgl": [
           {
            "colorbar": {
             "outlinewidth": 0,
             "ticks": ""
            },
            "colorscale": [
             [
              0,
              "#0d0887"
             ],
             [
              0.1111111111111111,
              "#46039f"
             ],
             [
              0.2222222222222222,
              "#7201a8"
             ],
             [
              0.3333333333333333,
              "#9c179e"
             ],
             [
              0.4444444444444444,
              "#bd3786"
             ],
             [
              0.5555555555555556,
              "#d8576b"
             ],
             [
              0.6666666666666666,
              "#ed7953"
             ],
             [
              0.7777777777777778,
              "#fb9f3a"
             ],
             [
              0.8888888888888888,
              "#fdca26"
             ],
             [
              1,
              "#f0f921"
             ]
            ],
            "type": "heatmapgl"
           }
          ],
          "histogram": [
           {
            "marker": {
             "pattern": {
              "fillmode": "overlay",
              "size": 10,
              "solidity": 0.2
             }
            },
            "type": "histogram"
           }
          ],
          "histogram2d": [
           {
            "colorbar": {
             "outlinewidth": 0,
             "ticks": ""
            },
            "colorscale": [
             [
              0,
              "#0d0887"
             ],
             [
              0.1111111111111111,
              "#46039f"
             ],
             [
              0.2222222222222222,
              "#7201a8"
             ],
             [
              0.3333333333333333,
              "#9c179e"
             ],
             [
              0.4444444444444444,
              "#bd3786"
             ],
             [
              0.5555555555555556,
              "#d8576b"
             ],
             [
              0.6666666666666666,
              "#ed7953"
             ],
             [
              0.7777777777777778,
              "#fb9f3a"
             ],
             [
              0.8888888888888888,
              "#fdca26"
             ],
             [
              1,
              "#f0f921"
             ]
            ],
            "type": "histogram2d"
           }
          ],
          "histogram2dcontour": [
           {
            "colorbar": {
             "outlinewidth": 0,
             "ticks": ""
            },
            "colorscale": [
             [
              0,
              "#0d0887"
             ],
             [
              0.1111111111111111,
              "#46039f"
             ],
             [
              0.2222222222222222,
              "#7201a8"
             ],
             [
              0.3333333333333333,
              "#9c179e"
             ],
             [
              0.4444444444444444,
              "#bd3786"
             ],
             [
              0.5555555555555556,
              "#d8576b"
             ],
             [
              0.6666666666666666,
              "#ed7953"
             ],
             [
              0.7777777777777778,
              "#fb9f3a"
             ],
             [
              0.8888888888888888,
              "#fdca26"
             ],
             [
              1,
              "#f0f921"
             ]
            ],
            "type": "histogram2dcontour"
           }
          ],
          "mesh3d": [
           {
            "colorbar": {
             "outlinewidth": 0,
             "ticks": ""
            },
            "type": "mesh3d"
           }
          ],
          "parcoords": [
           {
            "line": {
             "colorbar": {
              "outlinewidth": 0,
              "ticks": ""
             }
            },
            "type": "parcoords"
           }
          ],
          "pie": [
           {
            "automargin": true,
            "type": "pie"
           }
          ],
          "scatter": [
           {
            "fillpattern": {
             "fillmode": "overlay",
             "size": 10,
             "solidity": 0.2
            },
            "type": "scatter"
           }
          ],
          "scatter3d": [
           {
            "line": {
             "colorbar": {
              "outlinewidth": 0,
              "ticks": ""
             }
            },
            "marker": {
             "colorbar": {
              "outlinewidth": 0,
              "ticks": ""
             }
            },
            "type": "scatter3d"
           }
          ],
          "scattercarpet": [
           {
            "marker": {
             "colorbar": {
              "outlinewidth": 0,
              "ticks": ""
             }
            },
            "type": "scattercarpet"
           }
          ],
          "scattergeo": [
           {
            "marker": {
             "colorbar": {
              "outlinewidth": 0,
              "ticks": ""
             }
            },
            "type": "scattergeo"
           }
          ],
          "scattergl": [
           {
            "marker": {
             "colorbar": {
              "outlinewidth": 0,
              "ticks": ""
             }
            },
            "type": "scattergl"
           }
          ],
          "scattermapbox": [
           {
            "marker": {
             "colorbar": {
              "outlinewidth": 0,
              "ticks": ""
             }
            },
            "type": "scattermapbox"
           }
          ],
          "scatterpolar": [
           {
            "marker": {
             "colorbar": {
              "outlinewidth": 0,
              "ticks": ""
             }
            },
            "type": "scatterpolar"
           }
          ],
          "scatterpolargl": [
           {
            "marker": {
             "colorbar": {
              "outlinewidth": 0,
              "ticks": ""
             }
            },
            "type": "scatterpolargl"
           }
          ],
          "scatterternary": [
           {
            "marker": {
             "colorbar": {
              "outlinewidth": 0,
              "ticks": ""
             }
            },
            "type": "scatterternary"
           }
          ],
          "surface": [
           {
            "colorbar": {
             "outlinewidth": 0,
             "ticks": ""
            },
            "colorscale": [
             [
              0,
              "#0d0887"
             ],
             [
              0.1111111111111111,
              "#46039f"
             ],
             [
              0.2222222222222222,
              "#7201a8"
             ],
             [
              0.3333333333333333,
              "#9c179e"
             ],
             [
              0.4444444444444444,
              "#bd3786"
             ],
             [
              0.5555555555555556,
              "#d8576b"
             ],
             [
              0.6666666666666666,
              "#ed7953"
             ],
             [
              0.7777777777777778,
              "#fb9f3a"
             ],
             [
              0.8888888888888888,
              "#fdca26"
             ],
             [
              1,
              "#f0f921"
             ]
            ],
            "type": "surface"
           }
          ],
          "table": [
           {
            "cells": {
             "fill": {
              "color": "#EBF0F8"
             },
             "line": {
              "color": "white"
             }
            },
            "header": {
             "fill": {
              "color": "#C8D4E3"
             },
             "line": {
              "color": "white"
             }
            },
            "type": "table"
           }
          ]
         },
         "layout": {
          "annotationdefaults": {
           "arrowcolor": "#2a3f5f",
           "arrowhead": 0,
           "arrowwidth": 1
          },
          "autotypenumbers": "strict",
          "coloraxis": {
           "colorbar": {
            "outlinewidth": 0,
            "ticks": ""
           }
          },
          "colorscale": {
           "diverging": [
            [
             0,
             "#8e0152"
            ],
            [
             0.1,
             "#c51b7d"
            ],
            [
             0.2,
             "#de77ae"
            ],
            [
             0.3,
             "#f1b6da"
            ],
            [
             0.4,
             "#fde0ef"
            ],
            [
             0.5,
             "#f7f7f7"
            ],
            [
             0.6,
             "#e6f5d0"
            ],
            [
             0.7,
             "#b8e186"
            ],
            [
             0.8,
             "#7fbc41"
            ],
            [
             0.9,
             "#4d9221"
            ],
            [
             1,
             "#276419"
            ]
           ],
           "sequential": [
            [
             0,
             "#0d0887"
            ],
            [
             0.1111111111111111,
             "#46039f"
            ],
            [
             0.2222222222222222,
             "#7201a8"
            ],
            [
             0.3333333333333333,
             "#9c179e"
            ],
            [
             0.4444444444444444,
             "#bd3786"
            ],
            [
             0.5555555555555556,
             "#d8576b"
            ],
            [
             0.6666666666666666,
             "#ed7953"
            ],
            [
             0.7777777777777778,
             "#fb9f3a"
            ],
            [
             0.8888888888888888,
             "#fdca26"
            ],
            [
             1,
             "#f0f921"
            ]
           ],
           "sequentialminus": [
            [
             0,
             "#0d0887"
            ],
            [
             0.1111111111111111,
             "#46039f"
            ],
            [
             0.2222222222222222,
             "#7201a8"
            ],
            [
             0.3333333333333333,
             "#9c179e"
            ],
            [
             0.4444444444444444,
             "#bd3786"
            ],
            [
             0.5555555555555556,
             "#d8576b"
            ],
            [
             0.6666666666666666,
             "#ed7953"
            ],
            [
             0.7777777777777778,
             "#fb9f3a"
            ],
            [
             0.8888888888888888,
             "#fdca26"
            ],
            [
             1,
             "#f0f921"
            ]
           ]
          },
          "colorway": [
           "#636efa",
           "#EF553B",
           "#00cc96",
           "#ab63fa",
           "#FFA15A",
           "#19d3f3",
           "#FF6692",
           "#B6E880",
           "#FF97FF",
           "#FECB52"
          ],
          "font": {
           "color": "#2a3f5f"
          },
          "geo": {
           "bgcolor": "white",
           "lakecolor": "white",
           "landcolor": "#E5ECF6",
           "showlakes": true,
           "showland": true,
           "subunitcolor": "white"
          },
          "hoverlabel": {
           "align": "left"
          },
          "hovermode": "closest",
          "mapbox": {
           "style": "light"
          },
          "paper_bgcolor": "white",
          "plot_bgcolor": "#E5ECF6",
          "polar": {
           "angularaxis": {
            "gridcolor": "white",
            "linecolor": "white",
            "ticks": ""
           },
           "bgcolor": "#E5ECF6",
           "radialaxis": {
            "gridcolor": "white",
            "linecolor": "white",
            "ticks": ""
           }
          },
          "scene": {
           "xaxis": {
            "backgroundcolor": "#E5ECF6",
            "gridcolor": "white",
            "gridwidth": 2,
            "linecolor": "white",
            "showbackground": true,
            "ticks": "",
            "zerolinecolor": "white"
           },
           "yaxis": {
            "backgroundcolor": "#E5ECF6",
            "gridcolor": "white",
            "gridwidth": 2,
            "linecolor": "white",
            "showbackground": true,
            "ticks": "",
            "zerolinecolor": "white"
           },
           "zaxis": {
            "backgroundcolor": "#E5ECF6",
            "gridcolor": "white",
            "gridwidth": 2,
            "linecolor": "white",
            "showbackground": true,
            "ticks": "",
            "zerolinecolor": "white"
           }
          },
          "shapedefaults": {
           "line": {
            "color": "#2a3f5f"
           }
          },
          "ternary": {
           "aaxis": {
            "gridcolor": "white",
            "linecolor": "white",
            "ticks": ""
           },
           "baxis": {
            "gridcolor": "white",
            "linecolor": "white",
            "ticks": ""
           },
           "bgcolor": "#E5ECF6",
           "caxis": {
            "gridcolor": "white",
            "linecolor": "white",
            "ticks": ""
           }
          },
          "title": {
           "x": 0.05
          },
          "xaxis": {
           "automargin": true,
           "gridcolor": "white",
           "linecolor": "white",
           "ticks": "",
           "title": {
            "standoff": 15
           },
           "zerolinecolor": "white",
           "zerolinewidth": 2
          },
          "yaxis": {
           "automargin": true,
           "gridcolor": "white",
           "linecolor": "white",
           "ticks": "",
           "title": {
            "standoff": 15
           },
           "zerolinecolor": "white",
           "zerolinewidth": 2
          }
         }
        },
        "title": {
         "font": {
          "color": "Black",
          "size": 16
         },
         "text": "Top 5 countries: Total Cases v.s Total Deaths/per 1 mil population",
         "x": 0.5
        },
        "xaxis": {
         "anchor": "y",
         "domain": [
          0,
          1
         ],
         "title": {
          "text": "Total Cases/1 mil population"
         }
        },
        "yaxis": {
         "anchor": "x",
         "domain": [
          0,
          1
         ],
         "title": {
          "text": "Total Deaths/per 1 mil population"
         }
        }
       }
      }
     },
     "metadata": {},
     "output_type": "display_data"
    }
   ],
   "source": [
    "df1 = df.sort_values(by = ['Total Cases/1 mil population'],ascending = False).reset_index().head(5)\n",
    "\n",
    "fig = px.scatter(df1, \n",
    "                 x = 'Total Cases/1 mil population', \n",
    "                 y = 'Deaths/1 mil population ', \n",
    "                 color ='Country',\n",
    "                 color_discrete_sequence = px.colors.qualitative.Alphabet,\n",
    "                 labels = {\"Deaths/1 mil population \":\"Total Deaths/per 1 mil population\"})\n",
    "\n",
    "fig.update_traces(marker = dict(size = 30,\n",
    "                                line = dict(color = 'lightgray',width = 1.5)),\n",
    "                  mode = 'markers')\n",
    "\n",
    "fig.update_layout(title = 'Top 5 countries: Total Cases v.s Total Deaths/per 1 mil population', \n",
    "                  title_x = 0.5,\n",
    "                  title_font = dict(size = 16, color = 'Black'),\n",
    "                  yaxis = dict(title = 'Total Deaths/per 1 mil population'))\n",
    "fig.show()"
   ]
  }
 ],
 "metadata": {
  "kernelspec": {
   "display_name": "Python 3.8.10 64-bit",
   "language": "python",
   "name": "python3"
  },
  "language_info": {
   "codemirror_mode": {
    "name": "ipython",
    "version": 3
   },
   "file_extension": ".py",
   "mimetype": "text/x-python",
   "name": "python",
   "nbconvert_exporter": "python",
   "pygments_lexer": "ipython3",
   "version": "3.8.10"
  },
  "orig_nbformat": 4,
  "vscode": {
   "interpreter": {
    "hash": "916dbcbb3f70747c44a77c7bcd40155683ae19c65e1c03b4aa3499c5328201f1"
   }
  }
 },
 "nbformat": 4,
 "nbformat_minor": 2
}
